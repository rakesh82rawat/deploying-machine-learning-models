{
 "cells": [
  {
   "cell_type": "markdown",
   "id": "db3b7ca7",
   "metadata": {
    "papermill": {
     "duration": 0.006996,
     "end_time": "2025-01-12T19:25:59.606417",
     "exception": false,
     "start_time": "2025-01-12T19:25:59.599421",
     "status": "completed"
    },
    "tags": []
   },
   "source": [
    "OBJECTIVE: The main goal of this competition is to predict survival outcomes for allogeneic hematopoietic cell transplantation (HCT) patients.\n",
    "TARGET VARs: 2 Critical Target Variables\n",
    "  1) EFS (Event-Free Survival) - A higher (time period) EFS means a longer survival without complications (such as disease recurrence or treatment failure).\n",
    "  2) EFS_Time (Event-Free Survival Time)—The Actual time duration that a patient remains event-free. It’s a numerical value representing the survival period in a continuous format.\n",
    "Our task is to predict the likelihood of survival, where the relationship is:\n",
    "Lower survival means higher ris ki.e.rds, the shorter the event-free survival time (EFS_Time), the higher the risk associated with the patient’s cni\n",
    "\n",
    "Goal:\n",
    "Dev a model to provide predictions for HCT patients based on their risk levels:\n",
    "Higher Prediction values => Lower Risk or Better Survival\n",
    "\n",
    "C-indexTo evaluate the equitable prediction of transplant survival outcomes,\n",
    "we use the concordance index (C-index) between a series of event times and a predicted score across each race group.\n",
    "\n",
    "It represents the global assessment of the model discrimination power: this is the model’s ability to correctly provide a reliable ranking of the survival times based on the individual risk scores.\n",
    "\n",
    "The concordance index is a value between 0 and\n",
    "0.5 - expected result from random predictions\n",
    "1.0 - Perfect Concordance\n",
    "0.0 - Perfect Anti-concordance0erwise >0.0)"
   ]
  },
  {
   "cell_type": "code",
   "execution_count": 1,
   "id": "2761b1f6",
   "metadata": {
    "_kg_hide-input": false,
    "_kg_hide-output": false,
    "execution": {
     "iopub.execute_input": "2025-01-12T19:25:59.620115Z",
     "iopub.status.busy": "2025-01-12T19:25:59.619803Z",
     "iopub.status.idle": "2025-01-12T19:26:19.325533Z",
     "shell.execute_reply": "2025-01-12T19:26:19.324494Z"
    },
    "papermill": {
     "duration": 19.715014,
     "end_time": "2025-01-12T19:26:19.327823",
     "exception": false,
     "start_time": "2025-01-12T19:25:59.612809",
     "status": "completed"
    },
    "tags": []
   },
   "outputs": [
    {
     "name": "stdout",
     "output_type": "stream",
     "text": [
      "Processing /kaggle/input/pip-install-lifelines/autograd-1.7.0-py3-none-any.whl\r\n",
      "Requirement already satisfied: numpy in /usr/local/lib/python3.10/dist-packages (from autograd==1.7.0) (1.26.4)\r\n",
      "autograd is already installed with the same version as the provided wheel. Use --force-reinstall to force an installation of the wheel.\r\n",
      "Processing /kaggle/input/pip-install-lifelines/autograd-gamma-0.5.0.tar.gz\r\n",
      "  Preparing metadata (setup.py) ... \u001b[?25l\u001b[?25hdone\r\n",
      "Requirement already satisfied: autograd>=1.2.0 in /usr/local/lib/python3.10/dist-packages (from autograd-gamma==0.5.0) (1.7.0)\r\n",
      "Requirement already satisfied: scipy>=1.2.0 in /usr/local/lib/python3.10/dist-packages (from autograd-gamma==0.5.0) (1.13.1)\r\n",
      "Requirement already satisfied: numpy in /usr/local/lib/python3.10/dist-packages (from autograd>=1.2.0->autograd-gamma==0.5.0) (1.26.4)\r\n",
      "Building wheels for collected packages: autograd-gamma\r\n",
      "  Building wheel for autograd-gamma (setup.py) ... \u001b[?25l\u001b[?25hdone\r\n",
      "  Created wheel for autograd-gamma: filename=autograd_gamma-0.5.0-py3-none-any.whl size=4031 sha256=2660df9618e252e21f84d90641d69d95d53ef882dced105df16242b0d3269c84\r\n",
      "  Stored in directory: /root/.cache/pip/wheels/6b/b5/e0/4c79e15c0b5f2c15ecf613c720bb20daab20a666eb67135155\r\n",
      "Successfully built autograd-gamma\r\n",
      "Installing collected packages: autograd-gamma\r\n",
      "Successfully installed autograd-gamma-0.5.0\r\n",
      "Processing /kaggle/input/pip-install-lifelines/interface_meta-1.3.0-py3-none-any.whl\r\n",
      "Installing collected packages: interface-meta\r\n",
      "Successfully installed interface-meta-1.3.0\r\n",
      "Processing /kaggle/input/pip-install-lifelines/formulaic-1.0.2-py3-none-any.whl\r\n",
      "Requirement already satisfied: interface-meta>=1.2.0 in /usr/local/lib/python3.10/dist-packages (from formulaic==1.0.2) (1.3.0)\r\n",
      "Requirement already satisfied: numpy>=1.16.5 in /usr/local/lib/python3.10/dist-packages (from formulaic==1.0.2) (1.26.4)\r\n",
      "Requirement already satisfied: pandas>=1.0 in /usr/local/lib/python3.10/dist-packages (from formulaic==1.0.2) (2.1.4)\r\n",
      "Requirement already satisfied: scipy>=1.6 in /usr/local/lib/python3.10/dist-packages (from formulaic==1.0.2) (1.13.1)\r\n",
      "Requirement already satisfied: typing-extensions>=4.2.0 in /usr/local/lib/python3.10/dist-packages (from formulaic==1.0.2) (4.12.2)\r\n",
      "Requirement already satisfied: wrapt>=1.0 in /usr/local/lib/python3.10/dist-packages (from formulaic==1.0.2) (1.16.0)\r\n",
      "Requirement already satisfied: python-dateutil>=2.8.2 in /usr/local/lib/python3.10/dist-packages (from pandas>=1.0->formulaic==1.0.2) (2.8.2)\r\n",
      "Requirement already satisfied: pytz>=2020.1 in /usr/local/lib/python3.10/dist-packages (from pandas>=1.0->formulaic==1.0.2) (2024.2)\r\n",
      "Requirement already satisfied: tzdata>=2022.1 in /usr/local/lib/python3.10/dist-packages (from pandas>=1.0->formulaic==1.0.2) (2024.1)\r\n",
      "Requirement already satisfied: six>=1.5 in /usr/local/lib/python3.10/dist-packages (from python-dateutil>=2.8.2->pandas>=1.0->formulaic==1.0.2) (1.16.0)\r\n",
      "Installing collected packages: formulaic\r\n",
      "Successfully installed formulaic-1.0.2\r\n",
      "Processing /kaggle/input/pip-install-lifelines/lifelines-0.30.0-py3-none-any.whl\r\n",
      "Requirement already satisfied: numpy>=1.14.0 in /usr/local/lib/python3.10/dist-packages (from lifelines==0.30.0) (1.26.4)\r\n",
      "Requirement already satisfied: scipy>=1.7.0 in /usr/local/lib/python3.10/dist-packages (from lifelines==0.30.0) (1.13.1)\r\n",
      "Requirement already satisfied: pandas>=2.1 in /usr/local/lib/python3.10/dist-packages (from lifelines==0.30.0) (2.1.4)\r\n",
      "Requirement already satisfied: matplotlib>=3.0 in /usr/local/lib/python3.10/dist-packages (from lifelines==0.30.0) (3.7.1)\r\n",
      "Requirement already satisfied: autograd>=1.5 in /usr/local/lib/python3.10/dist-packages (from lifelines==0.30.0) (1.7.0)\r\n",
      "Requirement already satisfied: autograd-gamma>=0.3 in /usr/local/lib/python3.10/dist-packages (from lifelines==0.30.0) (0.5.0)\r\n",
      "Requirement already satisfied: formulaic>=0.2.2 in /usr/local/lib/python3.10/dist-packages (from lifelines==0.30.0) (1.0.2)\r\n",
      "Requirement already satisfied: interface-meta>=1.2.0 in /usr/local/lib/python3.10/dist-packages (from formulaic>=0.2.2->lifelines==0.30.0) (1.3.0)\r\n",
      "Requirement already satisfied: typing-extensions>=4.2.0 in /usr/local/lib/python3.10/dist-packages (from formulaic>=0.2.2->lifelines==0.30.0) (4.12.2)\r\n",
      "Requirement already satisfied: wrapt>=1.0 in /usr/local/lib/python3.10/dist-packages (from formulaic>=0.2.2->lifelines==0.30.0) (1.16.0)\r\n",
      "Requirement already satisfied: contourpy>=1.0.1 in /usr/local/lib/python3.10/dist-packages (from matplotlib>=3.0->lifelines==0.30.0) (1.3.0)\r\n",
      "Requirement already satisfied: cycler>=0.10 in /usr/local/lib/python3.10/dist-packages (from matplotlib>=3.0->lifelines==0.30.0) (0.12.1)\r\n",
      "Requirement already satisfied: fonttools>=4.22.0 in /usr/local/lib/python3.10/dist-packages (from matplotlib>=3.0->lifelines==0.30.0) (4.53.1)\r\n",
      "Requirement already satisfied: kiwisolver>=1.0.1 in /usr/local/lib/python3.10/dist-packages (from matplotlib>=3.0->lifelines==0.30.0) (1.4.7)\r\n",
      "Requirement already satisfied: packaging>=20.0 in /usr/local/lib/python3.10/dist-packages (from matplotlib>=3.0->lifelines==0.30.0) (24.1)\r\n",
      "Requirement already satisfied: pillow>=6.2.0 in /usr/local/lib/python3.10/dist-packages (from matplotlib>=3.0->lifelines==0.30.0) (10.4.0)\r\n",
      "Requirement already satisfied: pyparsing>=2.3.1 in /usr/local/lib/python3.10/dist-packages (from matplotlib>=3.0->lifelines==0.30.0) (3.1.4)\r\n",
      "Requirement already satisfied: python-dateutil>=2.7 in /usr/local/lib/python3.10/dist-packages (from matplotlib>=3.0->lifelines==0.30.0) (2.8.2)\r\n",
      "Requirement already satisfied: pytz>=2020.1 in /usr/local/lib/python3.10/dist-packages (from pandas>=2.1->lifelines==0.30.0) (2024.2)\r\n",
      "Requirement already satisfied: tzdata>=2022.1 in /usr/local/lib/python3.10/dist-packages (from pandas>=2.1->lifelines==0.30.0) (2024.1)\r\n",
      "Requirement already satisfied: six>=1.5 in /usr/local/lib/python3.10/dist-packages (from python-dateutil>=2.7->matplotlib>=3.0->lifelines==0.30.0) (1.16.0)\r\n",
      "Installing collected packages: lifelines\r\n",
      "Successfully installed lifelines-0.30.0\r\n"
     ]
    }
   ],
   "source": [
    " # Installations-1\n",
    "!pip install /kaggle/input/pip-install-lifelines/autograd-1.7.0-py3-none-any.whl\n",
    "!pip install /kaggle/input/pip-install-lifelines/autograd-gamma-0.5.0.tar.gz\n",
    "!pip install /kaggle/input/pip-install-lifelines/interface_meta-1.3.0-py3-none-any.whl\n",
    "!pip install /kaggle/input/pip-install-lifelines/formulaic-1.0.2-py3-none-any.whl\n",
    "!pip install /kaggle/input/pip-install-lifelines/lifelines-0.30.0-py3-none-any.whl"
   ]
  },
  {
   "cell_type": "code",
   "execution_count": 2,
   "id": "6037061d",
   "metadata": {
    "execution": {
     "iopub.execute_input": "2025-01-12T19:26:19.343342Z",
     "iopub.status.busy": "2025-01-12T19:26:19.343057Z",
     "iopub.status.idle": "2025-01-12T19:26:21.506412Z",
     "shell.execute_reply": "2025-01-12T19:26:21.505505Z"
    },
    "papermill": {
     "duration": 2.173025,
     "end_time": "2025-01-12T19:26:21.508163",
     "exception": false,
     "start_time": "2025-01-12T19:26:19.335138",
     "status": "completed"
    },
    "tags": []
   },
   "outputs": [],
   "source": [
    "import pandas as pd\n",
    "import numpy as np\n",
    "from sklearn import metrics\n",
    "from sklearn.model_selection import train_test_split, StratifiedKFold, KFold\n",
    "from sklearn.ensemble import GradientBoostingClassifier, GradientBoostingRegressor\n",
    "from sklearn.impute import SimpleImputer\n",
    "from sklearn.preprocessing import StandardScaler, OneHotEncoder\n",
    "from sklearn.compose import ColumnTransformer\n",
    "from sklearn.pipeline import Pipeline\n",
    "from lifelines.utils import concordance_index\n",
    "from lifelines import KaplanMeierFitter"
   ]
  },
  {
   "cell_type": "code",
   "execution_count": 3,
   "id": "3c88d7cd",
   "metadata": {
    "execution": {
     "iopub.execute_input": "2025-01-12T19:26:21.524894Z",
     "iopub.status.busy": "2025-01-12T19:26:21.524454Z",
     "iopub.status.idle": "2025-01-12T19:26:21.712980Z",
     "shell.execute_reply": "2025-01-12T19:26:21.712228Z"
    },
    "papermill": {
     "duration": 0.19779,
     "end_time": "2025-01-12T19:26:21.714628",
     "exception": false,
     "start_time": "2025-01-12T19:26:21.516838",
     "status": "completed"
    },
    "tags": []
   },
   "outputs": [],
   "source": [
    "import plotly.io as pio\n",
    "pio.renderers.default = 'iframe'\n",
    "pd.options.display.max_columns = None "
   ]
  },
  {
   "cell_type": "code",
   "execution_count": 4,
   "id": "b58a275c",
   "metadata": {
    "execution": {
     "iopub.execute_input": "2025-01-12T19:26:21.729954Z",
     "iopub.status.busy": "2025-01-12T19:26:21.729604Z",
     "iopub.status.idle": "2025-01-12T19:26:21.733156Z",
     "shell.execute_reply": "2025-01-12T19:26:21.732495Z"
    },
    "papermill": {
     "duration": 0.012411,
     "end_time": "2025-01-12T19:26:21.734397",
     "exception": false,
     "start_time": "2025-01-12T19:26:21.721986",
     "status": "completed"
    },
    "tags": []
   },
   "outputs": [],
   "source": [
    "from sklearn.pipeline import Pipeline\n",
    "from sklearn.impute import SimpleImputer\n",
    "from sklearn.preprocessing import StandardScaler"
   ]
  },
  {
   "cell_type": "code",
   "execution_count": 5,
   "id": "2cfc94a0",
   "metadata": {
    "execution": {
     "iopub.execute_input": "2025-01-12T19:26:21.749314Z",
     "iopub.status.busy": "2025-01-12T19:26:21.749077Z",
     "iopub.status.idle": "2025-01-12T19:26:22.075030Z",
     "shell.execute_reply": "2025-01-12T19:26:22.074285Z"
    },
    "papermill": {
     "duration": 0.334738,
     "end_time": "2025-01-12T19:26:22.076588",
     "exception": false,
     "start_time": "2025-01-12T19:26:21.741850",
     "status": "completed"
    },
    "tags": []
   },
   "outputs": [],
   "source": [
    "# Import dataset (df0)\n",
    "df0=pd.read_csv('/kaggle/input/equity-post-HCT-survival-predictions/train.csv')"
   ]
  },
  {
   "cell_type": "code",
   "execution_count": 6,
   "id": "a7aa2c99",
   "metadata": {
    "execution": {
     "iopub.execute_input": "2025-01-12T19:26:22.091733Z",
     "iopub.status.busy": "2025-01-12T19:26:22.091418Z",
     "iopub.status.idle": "2025-01-12T19:26:22.111527Z",
     "shell.execute_reply": "2025-01-12T19:26:22.110682Z"
    },
    "papermill": {
     "duration": 0.029224,
     "end_time": "2025-01-12T19:26:22.113108",
     "exception": false,
     "start_time": "2025-01-12T19:26:22.083884",
     "status": "completed"
    },
    "tags": []
   },
   "outputs": [],
   "source": [
    "df = df0.drop('ID', axis=1)"
   ]
  },
  {
   "cell_type": "markdown",
   "id": "6e552f31",
   "metadata": {
    "papermill": {
     "duration": 0.007138,
     "end_time": "2025-01-12T19:26:22.127403",
     "exception": false,
     "start_time": "2025-01-12T19:26:22.120265",
     "status": "completed"
    },
    "tags": []
   },
   "source": [
    "#### KaplanMeierFitter()\n",
    "_The KaplanMeierFitter_ is a tool from the lifelines library in Python used for survival analysis. It allows you to create Kaplan-Meier estimates, which are used to estimate the survival function from lifetime data.  \n",
    "It's a class provided by the lifelines library, which makes it easier to fit and plot survival curves."
   ]
  },
  {
   "cell_type": "code",
   "execution_count": 7,
   "id": "a7d18938",
   "metadata": {
    "execution": {
     "iopub.execute_input": "2025-01-12T19:26:22.142150Z",
     "iopub.status.busy": "2025-01-12T19:26:22.141862Z",
     "iopub.status.idle": "2025-01-12T19:26:22.191553Z",
     "shell.execute_reply": "2025-01-12T19:26:22.190892Z"
    },
    "papermill": {
     "duration": 0.0591,
     "end_time": "2025-01-12T19:26:22.193310",
     "exception": false,
     "start_time": "2025-01-12T19:26:22.134210",
     "status": "completed"
    },
    "tags": []
   },
   "outputs": [],
   "source": [
    "# Combining 2 target variables (efs and efs_time) into One Target- \n",
    "\n",
    "def kaplan(data=df, time_col = 'efs_time', event_col='efs'):\n",
    "    \n",
    "    kmf = KaplanMeierFitter()\n",
    "    kmf.fit(data[time_col], event_observed=data[event_col])\n",
    "    return kmf.survival_function_at_times(df[time_col]).values.flatten()\n",
    "\n",
    "\n",
    "df['target'] = kaplan(data=df)"
   ]
  },
  {
   "cell_type": "code",
   "execution_count": 8,
   "id": "c188bbc2",
   "metadata": {
    "execution": {
     "iopub.execute_input": "2025-01-12T19:26:22.208469Z",
     "iopub.status.busy": "2025-01-12T19:26:22.208169Z",
     "iopub.status.idle": "2025-01-12T19:26:22.213353Z",
     "shell.execute_reply": "2025-01-12T19:26:22.212582Z"
    },
    "papermill": {
     "duration": 0.013895,
     "end_time": "2025-01-12T19:26:22.214613",
     "exception": false,
     "start_time": "2025-01-12T19:26:22.200718",
     "status": "completed"
    },
    "tags": []
   },
   "outputs": [
    {
     "data": {
      "text/plain": [
       "(28800, 60)"
      ]
     },
     "execution_count": 8,
     "metadata": {},
     "output_type": "execute_result"
    }
   ],
   "source": [
    "df.shape"
   ]
  },
  {
   "cell_type": "code",
   "execution_count": 9,
   "id": "5d639676",
   "metadata": {
    "execution": {
     "iopub.execute_input": "2025-01-12T19:26:22.229444Z",
     "iopub.status.busy": "2025-01-12T19:26:22.229201Z",
     "iopub.status.idle": "2025-01-12T19:26:22.239005Z",
     "shell.execute_reply": "2025-01-12T19:26:22.238375Z"
    },
    "papermill": {
     "duration": 0.018549,
     "end_time": "2025-01-12T19:26:22.240247",
     "exception": false,
     "start_time": "2025-01-12T19:26:22.221698",
     "status": "completed"
    },
    "tags": []
   },
   "outputs": [],
   "source": [
    "df = df.drop(columns=['efs', 'efs_time'], errors='ignore')"
   ]
  },
  {
   "cell_type": "code",
   "execution_count": 10,
   "id": "5ea4c8ec",
   "metadata": {
    "execution": {
     "iopub.execute_input": "2025-01-12T19:26:22.255269Z",
     "iopub.status.busy": "2025-01-12T19:26:22.255038Z",
     "iopub.status.idle": "2025-01-12T19:26:22.440469Z",
     "shell.execute_reply": "2025-01-12T19:26:22.439622Z"
    },
    "papermill": {
     "duration": 0.194323,
     "end_time": "2025-01-12T19:26:22.441755",
     "exception": false,
     "start_time": "2025-01-12T19:26:22.247432",
     "status": "completed"
    },
    "tags": []
   },
   "outputs": [
    {
     "data": {
      "text/plain": [
       "Series([], dtype: bool)"
      ]
     },
     "execution_count": 10,
     "metadata": {},
     "output_type": "execute_result"
    }
   ],
   "source": [
    "df.duplicated()[df.duplicated()==True]\n",
    "    #> No duplicates found"
   ]
  },
  {
   "cell_type": "markdown",
   "id": "1cc86ac5",
   "metadata": {
    "papermill": {
     "duration": 0.006877,
     "end_time": "2025-01-12T19:26:22.456022",
     "exception": false,
     "start_time": "2025-01-12T19:26:22.449145",
     "status": "completed"
    },
    "tags": []
   },
   "source": [
    "## Handling Missing Variables"
   ]
  },
  {
   "cell_type": "code",
   "execution_count": 11,
   "id": "fd049f4f",
   "metadata": {
    "execution": {
     "iopub.execute_input": "2025-01-12T19:26:22.470838Z",
     "iopub.status.busy": "2025-01-12T19:26:22.470559Z",
     "iopub.status.idle": "2025-01-12T19:26:23.067815Z",
     "shell.execute_reply": "2025-01-12T19:26:23.067043Z"
    },
    "papermill": {
     "duration": 0.606499,
     "end_time": "2025-01-12T19:26:23.069442",
     "exception": false,
     "start_time": "2025-01-12T19:26:22.462943",
     "status": "completed"
    },
    "tags": []
   },
   "outputs": [],
   "source": [
    "for col in df.select_dtypes(include='object').columns:\n",
    "       df[col] = df[col].str.strip().str.lower().replace(\n",
    "        {'n/a': None, 'na': None, 'nan': None, '-': None})"
   ]
  },
  {
   "cell_type": "code",
   "execution_count": 12,
   "id": "8b8f4cb4",
   "metadata": {
    "execution": {
     "iopub.execute_input": "2025-01-12T19:26:23.085282Z",
     "iopub.status.busy": "2025-01-12T19:26:23.085005Z",
     "iopub.status.idle": "2025-01-12T19:26:23.091404Z",
     "shell.execute_reply": "2025-01-12T19:26:23.090770Z"
    },
    "papermill": {
     "duration": 0.0159,
     "end_time": "2025-01-12T19:26:23.092753",
     "exception": false,
     "start_time": "2025-01-12T19:26:23.076853",
     "status": "completed"
    },
    "tags": []
   },
   "outputs": [],
   "source": [
    "# cat_vars\n",
    "cat_vars = [var for var in df.columns if df[var].dtype == \"O\"]\n",
    "\n",
    "# num_vars\n",
    "num_vars= [var for var in df.columns if df[var].dtype != \"O\" and var != 'target']"
   ]
  },
  {
   "cell_type": "code",
   "execution_count": 13,
   "id": "f72559e3",
   "metadata": {
    "execution": {
     "iopub.execute_input": "2025-01-12T19:26:23.107816Z",
     "iopub.status.busy": "2025-01-12T19:26:23.107520Z",
     "iopub.status.idle": "2025-01-12T19:26:23.112146Z",
     "shell.execute_reply": "2025-01-12T19:26:23.111454Z"
    },
    "papermill": {
     "duration": 0.013467,
     "end_time": "2025-01-12T19:26:23.113293",
     "exception": false,
     "start_time": "2025-01-12T19:26:23.099826",
     "status": "completed"
    },
    "tags": []
   },
   "outputs": [
    {
     "name": "stdout",
     "output_type": "stream",
     "text": [
      "cat_vars:  ['dri_score', 'psych_disturb', 'cyto_score', 'diabetes', 'tbi_status', 'arrhythmia', 'graft_type', 'vent_hist', 'renal_issue', 'pulm_severe', 'prim_disease_hct', 'cmv_status', 'tce_imm_match', 'rituximab', 'prod_type', 'cyto_score_detail', 'conditioning_intensity', 'ethnicity', 'obesity', 'mrd_hct', 'in_vivo_tcd', 'tce_match', 'hepatic_severe', 'prior_tumor', 'peptic_ulcer', 'gvhd_proph', 'rheum_issue', 'sex_match', 'race_group', 'hepatic_mild', 'tce_div_match', 'donor_related', 'melphalan_dose', 'cardiac', 'pulm_moderate'] \n",
      "\n",
      "num_vars:  ['hla_match_c_high', 'hla_high_res_8', 'hla_low_res_6', 'hla_high_res_6', 'hla_high_res_10', 'hla_match_dqb1_high', 'hla_nmdp_6', 'hla_match_c_low', 'hla_match_drb1_low', 'hla_match_dqb1_low', 'year_hct', 'hla_match_a_high', 'donor_age', 'hla_match_b_low', 'age_at_hct', 'hla_match_a_low', 'hla_match_b_high', 'comorbidity_score', 'karnofsky_score', 'hla_low_res_8', 'hla_match_drb1_high', 'hla_low_res_10']\n"
     ]
    }
   ],
   "source": [
    "print('cat_vars: ',cat_vars,'\\n')\n",
    "print('num_vars: ',num_vars )\n",
    "\n",
    "# Note that target is num_var"
   ]
  },
  {
   "cell_type": "code",
   "execution_count": 14,
   "id": "2b53984d",
   "metadata": {
    "execution": {
     "iopub.execute_input": "2025-01-12T19:26:23.128909Z",
     "iopub.status.busy": "2025-01-12T19:26:23.128645Z",
     "iopub.status.idle": "2025-01-12T19:26:23.167468Z",
     "shell.execute_reply": "2025-01-12T19:26:23.166733Z"
    },
    "papermill": {
     "duration": 0.048611,
     "end_time": "2025-01-12T19:26:23.169073",
     "exception": false,
     "start_time": "2025-01-12T19:26:23.120462",
     "status": "completed"
    },
    "tags": []
   },
   "outputs": [],
   "source": [
    "# Filling missing values for numerical columns with their median except target column\n",
    "df[num_vars] = df[num_vars].fillna(df[num_vars].median())"
   ]
  },
  {
   "cell_type": "code",
   "execution_count": 15,
   "id": "8522f2c7",
   "metadata": {
    "execution": {
     "iopub.execute_input": "2025-01-12T19:26:23.184420Z",
     "iopub.status.busy": "2025-01-12T19:26:23.184153Z",
     "iopub.status.idle": "2025-01-12T19:26:23.451959Z",
     "shell.execute_reply": "2025-01-12T19:26:23.451229Z"
    },
    "papermill": {
     "duration": 0.27708,
     "end_time": "2025-01-12T19:26:23.453537",
     "exception": false,
     "start_time": "2025-01-12T19:26:23.176457",
     "status": "completed"
    },
    "tags": []
   },
   "outputs": [],
   "source": [
    "# Filling missing values for categorical columns with their mode\n",
    "df[cat_vars] = df[cat_vars].apply(\n",
    "    lambda col: col.fillna(col.mode()[0] if not col.mode().empty else 'unknown'))"
   ]
  },
  {
   "cell_type": "code",
   "execution_count": 16,
   "id": "c79f83a1",
   "metadata": {
    "execution": {
     "iopub.execute_input": "2025-01-12T19:26:23.468887Z",
     "iopub.status.busy": "2025-01-12T19:26:23.468577Z",
     "iopub.status.idle": "2025-01-12T19:26:23.557086Z",
     "shell.execute_reply": "2025-01-12T19:26:23.556148Z"
    },
    "papermill": {
     "duration": 0.097883,
     "end_time": "2025-01-12T19:26:23.558793",
     "exception": false,
     "start_time": "2025-01-12T19:26:23.460910",
     "status": "completed"
    },
    "tags": []
   },
   "outputs": [],
   "source": [
    "# Factorise Categorical vars - \n",
    "for i in df[cat_vars]:\n",
    "    df[i], _ = pd.factorize(df[i])"
   ]
  },
  {
   "cell_type": "code",
   "execution_count": 17,
   "id": "23403550",
   "metadata": {
    "execution": {
     "iopub.execute_input": "2025-01-12T19:26:23.574138Z",
     "iopub.status.busy": "2025-01-12T19:26:23.573860Z",
     "iopub.status.idle": "2025-01-12T19:26:23.606380Z",
     "shell.execute_reply": "2025-01-12T19:26:23.605522Z"
    },
    "papermill": {
     "duration": 0.041524,
     "end_time": "2025-01-12T19:26:23.607651",
     "exception": false,
     "start_time": "2025-01-12T19:26:23.566127",
     "status": "completed"
    },
    "tags": []
   },
   "outputs": [
    {
     "data": {
      "text/html": [
       "<div>\n",
       "<style scoped>\n",
       "    .dataframe tbody tr th:only-of-type {\n",
       "        vertical-align: middle;\n",
       "    }\n",
       "\n",
       "    .dataframe tbody tr th {\n",
       "        vertical-align: top;\n",
       "    }\n",
       "\n",
       "    .dataframe thead th {\n",
       "        text-align: right;\n",
       "    }\n",
       "</style>\n",
       "<table border=\"1\" class=\"dataframe\">\n",
       "  <thead>\n",
       "    <tr style=\"text-align: right;\">\n",
       "      <th></th>\n",
       "      <th>dri_score</th>\n",
       "      <th>psych_disturb</th>\n",
       "      <th>cyto_score</th>\n",
       "      <th>diabetes</th>\n",
       "      <th>hla_match_c_high</th>\n",
       "      <th>hla_high_res_8</th>\n",
       "      <th>tbi_status</th>\n",
       "      <th>arrhythmia</th>\n",
       "      <th>hla_low_res_6</th>\n",
       "      <th>graft_type</th>\n",
       "      <th>vent_hist</th>\n",
       "      <th>renal_issue</th>\n",
       "      <th>pulm_severe</th>\n",
       "      <th>prim_disease_hct</th>\n",
       "      <th>hla_high_res_6</th>\n",
       "      <th>cmv_status</th>\n",
       "      <th>hla_high_res_10</th>\n",
       "      <th>hla_match_dqb1_high</th>\n",
       "      <th>tce_imm_match</th>\n",
       "      <th>hla_nmdp_6</th>\n",
       "      <th>hla_match_c_low</th>\n",
       "      <th>rituximab</th>\n",
       "      <th>hla_match_drb1_low</th>\n",
       "      <th>hla_match_dqb1_low</th>\n",
       "      <th>prod_type</th>\n",
       "      <th>cyto_score_detail</th>\n",
       "      <th>conditioning_intensity</th>\n",
       "      <th>ethnicity</th>\n",
       "      <th>year_hct</th>\n",
       "      <th>obesity</th>\n",
       "      <th>mrd_hct</th>\n",
       "      <th>in_vivo_tcd</th>\n",
       "      <th>tce_match</th>\n",
       "      <th>hla_match_a_high</th>\n",
       "      <th>hepatic_severe</th>\n",
       "      <th>donor_age</th>\n",
       "      <th>prior_tumor</th>\n",
       "      <th>hla_match_b_low</th>\n",
       "      <th>peptic_ulcer</th>\n",
       "      <th>age_at_hct</th>\n",
       "      <th>hla_match_a_low</th>\n",
       "      <th>gvhd_proph</th>\n",
       "      <th>rheum_issue</th>\n",
       "      <th>sex_match</th>\n",
       "      <th>hla_match_b_high</th>\n",
       "      <th>race_group</th>\n",
       "      <th>comorbidity_score</th>\n",
       "      <th>karnofsky_score</th>\n",
       "      <th>hepatic_mild</th>\n",
       "      <th>tce_div_match</th>\n",
       "      <th>donor_related</th>\n",
       "      <th>melphalan_dose</th>\n",
       "      <th>hla_low_res_8</th>\n",
       "      <th>cardiac</th>\n",
       "      <th>hla_match_drb1_high</th>\n",
       "      <th>pulm_moderate</th>\n",
       "      <th>hla_low_res_10</th>\n",
       "      <th>target</th>\n",
       "    </tr>\n",
       "  </thead>\n",
       "  <tbody>\n",
       "    <tr>\n",
       "      <th>0</th>\n",
       "      <td>0</td>\n",
       "      <td>0</td>\n",
       "      <td>0</td>\n",
       "      <td>0</td>\n",
       "      <td>2.0</td>\n",
       "      <td>8.0</td>\n",
       "      <td>0</td>\n",
       "      <td>0</td>\n",
       "      <td>6.0</td>\n",
       "      <td>0</td>\n",
       "      <td>0</td>\n",
       "      <td>0</td>\n",
       "      <td>0</td>\n",
       "      <td>0</td>\n",
       "      <td>6.0</td>\n",
       "      <td>0</td>\n",
       "      <td>10.0</td>\n",
       "      <td>2.0</td>\n",
       "      <td>0</td>\n",
       "      <td>6.0</td>\n",
       "      <td>2.0</td>\n",
       "      <td>0</td>\n",
       "      <td>2.0</td>\n",
       "      <td>2.0</td>\n",
       "      <td>0</td>\n",
       "      <td>0</td>\n",
       "      <td>0</td>\n",
       "      <td>0</td>\n",
       "      <td>2016</td>\n",
       "      <td>0</td>\n",
       "      <td>0</td>\n",
       "      <td>0</td>\n",
       "      <td>0</td>\n",
       "      <td>2.0</td>\n",
       "      <td>0</td>\n",
       "      <td>40.063</td>\n",
       "      <td>0</td>\n",
       "      <td>2.0</td>\n",
       "      <td>0</td>\n",
       "      <td>9.942</td>\n",
       "      <td>2.0</td>\n",
       "      <td>0</td>\n",
       "      <td>0</td>\n",
       "      <td>0</td>\n",
       "      <td>2.0</td>\n",
       "      <td>0</td>\n",
       "      <td>0.0</td>\n",
       "      <td>90.0</td>\n",
       "      <td>0</td>\n",
       "      <td>0</td>\n",
       "      <td>0</td>\n",
       "      <td>0</td>\n",
       "      <td>8.0</td>\n",
       "      <td>0</td>\n",
       "      <td>2.0</td>\n",
       "      <td>0</td>\n",
       "      <td>10.0</td>\n",
       "      <td>0.458687</td>\n",
       "    </tr>\n",
       "    <tr>\n",
       "      <th>1</th>\n",
       "      <td>1</td>\n",
       "      <td>0</td>\n",
       "      <td>1</td>\n",
       "      <td>0</td>\n",
       "      <td>2.0</td>\n",
       "      <td>8.0</td>\n",
       "      <td>1</td>\n",
       "      <td>0</td>\n",
       "      <td>6.0</td>\n",
       "      <td>1</td>\n",
       "      <td>0</td>\n",
       "      <td>0</td>\n",
       "      <td>0</td>\n",
       "      <td>1</td>\n",
       "      <td>6.0</td>\n",
       "      <td>0</td>\n",
       "      <td>10.0</td>\n",
       "      <td>2.0</td>\n",
       "      <td>0</td>\n",
       "      <td>6.0</td>\n",
       "      <td>2.0</td>\n",
       "      <td>0</td>\n",
       "      <td>2.0</td>\n",
       "      <td>2.0</td>\n",
       "      <td>1</td>\n",
       "      <td>0</td>\n",
       "      <td>0</td>\n",
       "      <td>0</td>\n",
       "      <td>2008</td>\n",
       "      <td>0</td>\n",
       "      <td>1</td>\n",
       "      <td>1</td>\n",
       "      <td>0</td>\n",
       "      <td>2.0</td>\n",
       "      <td>0</td>\n",
       "      <td>72.290</td>\n",
       "      <td>0</td>\n",
       "      <td>2.0</td>\n",
       "      <td>0</td>\n",
       "      <td>43.705</td>\n",
       "      <td>2.0</td>\n",
       "      <td>1</td>\n",
       "      <td>0</td>\n",
       "      <td>1</td>\n",
       "      <td>2.0</td>\n",
       "      <td>1</td>\n",
       "      <td>3.0</td>\n",
       "      <td>90.0</td>\n",
       "      <td>0</td>\n",
       "      <td>0</td>\n",
       "      <td>1</td>\n",
       "      <td>0</td>\n",
       "      <td>8.0</td>\n",
       "      <td>0</td>\n",
       "      <td>2.0</td>\n",
       "      <td>1</td>\n",
       "      <td>10.0</td>\n",
       "      <td>0.847759</td>\n",
       "    </tr>\n",
       "    <tr>\n",
       "      <th>2</th>\n",
       "      <td>0</td>\n",
       "      <td>0</td>\n",
       "      <td>0</td>\n",
       "      <td>0</td>\n",
       "      <td>2.0</td>\n",
       "      <td>8.0</td>\n",
       "      <td>0</td>\n",
       "      <td>0</td>\n",
       "      <td>6.0</td>\n",
       "      <td>0</td>\n",
       "      <td>0</td>\n",
       "      <td>0</td>\n",
       "      <td>0</td>\n",
       "      <td>2</td>\n",
       "      <td>6.0</td>\n",
       "      <td>0</td>\n",
       "      <td>10.0</td>\n",
       "      <td>2.0</td>\n",
       "      <td>0</td>\n",
       "      <td>6.0</td>\n",
       "      <td>2.0</td>\n",
       "      <td>0</td>\n",
       "      <td>2.0</td>\n",
       "      <td>2.0</td>\n",
       "      <td>0</td>\n",
       "      <td>0</td>\n",
       "      <td>0</td>\n",
       "      <td>0</td>\n",
       "      <td>2019</td>\n",
       "      <td>0</td>\n",
       "      <td>0</td>\n",
       "      <td>0</td>\n",
       "      <td>0</td>\n",
       "      <td>2.0</td>\n",
       "      <td>0</td>\n",
       "      <td>40.063</td>\n",
       "      <td>0</td>\n",
       "      <td>2.0</td>\n",
       "      <td>0</td>\n",
       "      <td>33.997</td>\n",
       "      <td>2.0</td>\n",
       "      <td>2</td>\n",
       "      <td>0</td>\n",
       "      <td>2</td>\n",
       "      <td>2.0</td>\n",
       "      <td>0</td>\n",
       "      <td>0.0</td>\n",
       "      <td>90.0</td>\n",
       "      <td>0</td>\n",
       "      <td>0</td>\n",
       "      <td>1</td>\n",
       "      <td>0</td>\n",
       "      <td>8.0</td>\n",
       "      <td>0</td>\n",
       "      <td>2.0</td>\n",
       "      <td>0</td>\n",
       "      <td>10.0</td>\n",
       "      <td>0.462424</td>\n",
       "    </tr>\n",
       "    <tr>\n",
       "      <th>3</th>\n",
       "      <td>2</td>\n",
       "      <td>0</td>\n",
       "      <td>1</td>\n",
       "      <td>0</td>\n",
       "      <td>2.0</td>\n",
       "      <td>8.0</td>\n",
       "      <td>0</td>\n",
       "      <td>0</td>\n",
       "      <td>6.0</td>\n",
       "      <td>0</td>\n",
       "      <td>0</td>\n",
       "      <td>0</td>\n",
       "      <td>0</td>\n",
       "      <td>3</td>\n",
       "      <td>6.0</td>\n",
       "      <td>0</td>\n",
       "      <td>10.0</td>\n",
       "      <td>2.0</td>\n",
       "      <td>0</td>\n",
       "      <td>6.0</td>\n",
       "      <td>2.0</td>\n",
       "      <td>0</td>\n",
       "      <td>2.0</td>\n",
       "      <td>2.0</td>\n",
       "      <td>0</td>\n",
       "      <td>0</td>\n",
       "      <td>0</td>\n",
       "      <td>0</td>\n",
       "      <td>2009</td>\n",
       "      <td>0</td>\n",
       "      <td>1</td>\n",
       "      <td>1</td>\n",
       "      <td>0</td>\n",
       "      <td>2.0</td>\n",
       "      <td>0</td>\n",
       "      <td>29.230</td>\n",
       "      <td>0</td>\n",
       "      <td>2.0</td>\n",
       "      <td>0</td>\n",
       "      <td>43.245</td>\n",
       "      <td>2.0</td>\n",
       "      <td>3</td>\n",
       "      <td>0</td>\n",
       "      <td>3</td>\n",
       "      <td>2.0</td>\n",
       "      <td>2</td>\n",
       "      <td>0.0</td>\n",
       "      <td>90.0</td>\n",
       "      <td>1</td>\n",
       "      <td>0</td>\n",
       "      <td>0</td>\n",
       "      <td>0</td>\n",
       "      <td>8.0</td>\n",
       "      <td>0</td>\n",
       "      <td>2.0</td>\n",
       "      <td>0</td>\n",
       "      <td>10.0</td>\n",
       "      <td>0.456661</td>\n",
       "    </tr>\n",
       "    <tr>\n",
       "      <th>4</th>\n",
       "      <td>2</td>\n",
       "      <td>0</td>\n",
       "      <td>0</td>\n",
       "      <td>0</td>\n",
       "      <td>2.0</td>\n",
       "      <td>8.0</td>\n",
       "      <td>0</td>\n",
       "      <td>0</td>\n",
       "      <td>6.0</td>\n",
       "      <td>1</td>\n",
       "      <td>0</td>\n",
       "      <td>0</td>\n",
       "      <td>0</td>\n",
       "      <td>4</td>\n",
       "      <td>6.0</td>\n",
       "      <td>0</td>\n",
       "      <td>10.0</td>\n",
       "      <td>2.0</td>\n",
       "      <td>0</td>\n",
       "      <td>5.0</td>\n",
       "      <td>2.0</td>\n",
       "      <td>0</td>\n",
       "      <td>2.0</td>\n",
       "      <td>2.0</td>\n",
       "      <td>1</td>\n",
       "      <td>0</td>\n",
       "      <td>0</td>\n",
       "      <td>1</td>\n",
       "      <td>2018</td>\n",
       "      <td>0</td>\n",
       "      <td>0</td>\n",
       "      <td>0</td>\n",
       "      <td>0</td>\n",
       "      <td>2.0</td>\n",
       "      <td>0</td>\n",
       "      <td>56.810</td>\n",
       "      <td>0</td>\n",
       "      <td>2.0</td>\n",
       "      <td>0</td>\n",
       "      <td>29.740</td>\n",
       "      <td>2.0</td>\n",
       "      <td>4</td>\n",
       "      <td>0</td>\n",
       "      <td>0</td>\n",
       "      <td>2.0</td>\n",
       "      <td>3</td>\n",
       "      <td>1.0</td>\n",
       "      <td>90.0</td>\n",
       "      <td>0</td>\n",
       "      <td>0</td>\n",
       "      <td>1</td>\n",
       "      <td>1</td>\n",
       "      <td>8.0</td>\n",
       "      <td>0</td>\n",
       "      <td>2.0</td>\n",
       "      <td>0</td>\n",
       "      <td>10.0</td>\n",
       "      <td>0.464674</td>\n",
       "    </tr>\n",
       "  </tbody>\n",
       "</table>\n",
       "</div>"
      ],
      "text/plain": [
       "   dri_score  psych_disturb  cyto_score  diabetes  hla_match_c_high  \\\n",
       "0          0              0           0         0               2.0   \n",
       "1          1              0           1         0               2.0   \n",
       "2          0              0           0         0               2.0   \n",
       "3          2              0           1         0               2.0   \n",
       "4          2              0           0         0               2.0   \n",
       "\n",
       "   hla_high_res_8  tbi_status  arrhythmia  hla_low_res_6  graft_type  \\\n",
       "0             8.0           0           0            6.0           0   \n",
       "1             8.0           1           0            6.0           1   \n",
       "2             8.0           0           0            6.0           0   \n",
       "3             8.0           0           0            6.0           0   \n",
       "4             8.0           0           0            6.0           1   \n",
       "\n",
       "   vent_hist  renal_issue  pulm_severe  prim_disease_hct  hla_high_res_6  \\\n",
       "0          0            0            0                 0             6.0   \n",
       "1          0            0            0                 1             6.0   \n",
       "2          0            0            0                 2             6.0   \n",
       "3          0            0            0                 3             6.0   \n",
       "4          0            0            0                 4             6.0   \n",
       "\n",
       "   cmv_status  hla_high_res_10  hla_match_dqb1_high  tce_imm_match  \\\n",
       "0           0             10.0                  2.0              0   \n",
       "1           0             10.0                  2.0              0   \n",
       "2           0             10.0                  2.0              0   \n",
       "3           0             10.0                  2.0              0   \n",
       "4           0             10.0                  2.0              0   \n",
       "\n",
       "   hla_nmdp_6  hla_match_c_low  rituximab  hla_match_drb1_low  \\\n",
       "0         6.0              2.0          0                 2.0   \n",
       "1         6.0              2.0          0                 2.0   \n",
       "2         6.0              2.0          0                 2.0   \n",
       "3         6.0              2.0          0                 2.0   \n",
       "4         5.0              2.0          0                 2.0   \n",
       "\n",
       "   hla_match_dqb1_low  prod_type  cyto_score_detail  conditioning_intensity  \\\n",
       "0                 2.0          0                  0                       0   \n",
       "1                 2.0          1                  0                       0   \n",
       "2                 2.0          0                  0                       0   \n",
       "3                 2.0          0                  0                       0   \n",
       "4                 2.0          1                  0                       0   \n",
       "\n",
       "   ethnicity  year_hct  obesity  mrd_hct  in_vivo_tcd  tce_match  \\\n",
       "0          0      2016        0        0            0          0   \n",
       "1          0      2008        0        1            1          0   \n",
       "2          0      2019        0        0            0          0   \n",
       "3          0      2009        0        1            1          0   \n",
       "4          1      2018        0        0            0          0   \n",
       "\n",
       "   hla_match_a_high  hepatic_severe  donor_age  prior_tumor  hla_match_b_low  \\\n",
       "0               2.0               0     40.063            0              2.0   \n",
       "1               2.0               0     72.290            0              2.0   \n",
       "2               2.0               0     40.063            0              2.0   \n",
       "3               2.0               0     29.230            0              2.0   \n",
       "4               2.0               0     56.810            0              2.0   \n",
       "\n",
       "   peptic_ulcer  age_at_hct  hla_match_a_low  gvhd_proph  rheum_issue  \\\n",
       "0             0       9.942              2.0           0            0   \n",
       "1             0      43.705              2.0           1            0   \n",
       "2             0      33.997              2.0           2            0   \n",
       "3             0      43.245              2.0           3            0   \n",
       "4             0      29.740              2.0           4            0   \n",
       "\n",
       "   sex_match  hla_match_b_high  race_group  comorbidity_score  \\\n",
       "0          0               2.0           0                0.0   \n",
       "1          1               2.0           1                3.0   \n",
       "2          2               2.0           0                0.0   \n",
       "3          3               2.0           2                0.0   \n",
       "4          0               2.0           3                1.0   \n",
       "\n",
       "   karnofsky_score  hepatic_mild  tce_div_match  donor_related  \\\n",
       "0             90.0             0              0              0   \n",
       "1             90.0             0              0              1   \n",
       "2             90.0             0              0              1   \n",
       "3             90.0             1              0              0   \n",
       "4             90.0             0              0              1   \n",
       "\n",
       "   melphalan_dose  hla_low_res_8  cardiac  hla_match_drb1_high  pulm_moderate  \\\n",
       "0               0            8.0        0                  2.0              0   \n",
       "1               0            8.0        0                  2.0              1   \n",
       "2               0            8.0        0                  2.0              0   \n",
       "3               0            8.0        0                  2.0              0   \n",
       "4               1            8.0        0                  2.0              0   \n",
       "\n",
       "   hla_low_res_10    target  \n",
       "0            10.0  0.458687  \n",
       "1            10.0  0.847759  \n",
       "2            10.0  0.462424  \n",
       "3            10.0  0.456661  \n",
       "4            10.0  0.464674  "
      ]
     },
     "execution_count": 17,
     "metadata": {},
     "output_type": "execute_result"
    }
   ],
   "source": [
    "pd.set_option('display.max_columns', None)\n",
    "\n",
    "df.head()"
   ]
  },
  {
   "cell_type": "markdown",
   "id": "7e8700d4",
   "metadata": {
    "papermill": {
     "duration": 0.007431,
     "end_time": "2025-01-12T19:26:23.622678",
     "exception": false,
     "start_time": "2025-01-12T19:26:23.615247",
     "status": "completed"
    },
    "tags": []
   },
   "source": [
    "## Correlation"
   ]
  },
  {
   "cell_type": "code",
   "execution_count": 18,
   "id": "ac77326a",
   "metadata": {
    "execution": {
     "iopub.execute_input": "2025-01-12T19:26:23.638369Z",
     "iopub.status.busy": "2025-01-12T19:26:23.638095Z",
     "iopub.status.idle": "2025-01-12T19:26:23.719608Z",
     "shell.execute_reply": "2025-01-12T19:26:23.718710Z"
    },
    "papermill": {
     "duration": 0.091266,
     "end_time": "2025-01-12T19:26:23.721286",
     "exception": false,
     "start_time": "2025-01-12T19:26:23.630020",
     "status": "completed"
    },
    "tags": []
   },
   "outputs": [
    {
     "name": "stdout",
     "output_type": "stream",
     "text": [
      "Correlation for  dri_score  =  -0.01566322289688407\n",
      "Correlation for  psych_disturb  =  0.044588447814429666\n",
      "Correlation for  cyto_score  =  0.005200974001810688\n",
      "Correlation for  diabetes  =  0.06472635931119727\n",
      "Correlation for  hla_match_c_high  =  -0.012607743434186169\n",
      "Correlation for  hla_high_res_8  =  -0.021272383826416143\n",
      "Correlation for  tbi_status  =  0.03962863015684239\n",
      "Correlation for  arrhythmia  =  0.05401029510435931\n",
      "Correlation for  hla_low_res_6  =  -0.016370955161609413\n",
      "Correlation for  graft_type  =  0.14554016971025166\n",
      "Correlation for  vent_hist  =  0.008114302625674752\n",
      "Correlation for  renal_issue  =  -0.0014354737125929862\n",
      "Correlation for  pulm_severe  =  0.0885694909623311\n",
      "Correlation for  prim_disease_hct  =  0.022227791379227736\n",
      "Correlation for  hla_high_res_6  =  -0.022485941112610514\n",
      "Correlation for  cmv_status  =  -0.047002368730733844\n",
      "Correlation for  hla_high_res_10  =  -0.014870926680981335\n",
      "Correlation for  hla_match_dqb1_high  =  -0.011014935896483157\n",
      "Correlation for  tce_imm_match  =  -0.010223102154939658\n",
      "Correlation for  hla_nmdp_6  =  -0.027756666533368248\n",
      "Correlation for  hla_match_c_low  =  -0.02554314211215784\n",
      "Correlation for  rituximab  =  -0.000727832629985165\n",
      "Correlation for  hla_match_drb1_low  =  0.007730898334987669\n",
      "Correlation for  hla_match_dqb1_low  =  -0.0034975829901925577\n",
      "Correlation for  prod_type  =  0.1477978367959457\n",
      "Correlation for  cyto_score_detail  =  0.14339400653067363\n",
      "Correlation for  conditioning_intensity  =  0.10732563049417061\n",
      "Correlation for  ethnicity  =  -0.0223886090447742\n",
      "Correlation for  year_hct  =  -0.02869582677562226\n",
      "Correlation for  obesity  =  0.030748330825174225\n",
      "Correlation for  mrd_hct  =  -0.008842078678669494\n",
      "Correlation for  in_vivo_tcd  =  0.07006714037529095\n",
      "Correlation for  tce_match  =  0.0035399403434211415\n",
      "Correlation for  hla_match_a_high  =  -0.03757202301874047\n",
      "Correlation for  hepatic_severe  =  -0.0478990666468277\n",
      "Correlation for  donor_age  =  0.05083958809826656\n",
      "Correlation for  prior_tumor  =  0.04599486098127683\n",
      "Correlation for  hla_match_b_low  =  -0.009862467785865242\n",
      "Correlation for  peptic_ulcer  =  -0.009373454927411493\n",
      "Correlation for  age_at_hct  =  0.15831520426166143\n",
      "Correlation for  hla_match_a_low  =  -0.038003931155751375\n",
      "Correlation for  gvhd_proph  =  -0.031241042675033918\n",
      "Correlation for  rheum_issue  =  -0.01790854414656021\n",
      "Correlation for  sex_match  =  -0.014365959264843268\n",
      "Correlation for  hla_match_b_high  =  -0.026681340989542585\n",
      "Correlation for  race_group  =  0.046293664563033216\n",
      "Correlation for  comorbidity_score  =  0.19505665800257924\n",
      "Correlation for  karnofsky_score  =  -0.14189539746397284\n",
      "Correlation for  hepatic_mild  =  -0.0012755681469293003\n",
      "Correlation for  tce_div_match  =  -0.005429262073578681\n",
      "Correlation for  donor_related  =  -0.04116835919870329\n",
      "Correlation for  melphalan_dose  =  0.007489996142651666\n",
      "Correlation for  hla_low_res_8  =  -0.019737133983262302\n",
      "Correlation for  cardiac  =  0.07556012915425994\n",
      "Correlation for  hla_match_drb1_high  =  0.007931542185053602\n",
      "Correlation for  pulm_moderate  =  0.05266960546521761\n",
      "Correlation for  hla_low_res_10  =  -0.013714686454558719\n"
     ]
    }
   ],
   "source": [
    "# Get list of feature columns (excluding target)\n",
    "\n",
    "X = [col for col in df.columns if col != 'target']\n",
    "\n",
    "for feature in X:\n",
    "    correlation = df[feature].corr(df[\"target\"])\n",
    "    print('Correlation for ', feature, ' = ',correlation)"
   ]
  },
  {
   "cell_type": "markdown",
   "id": "fbc093e1",
   "metadata": {
    "papermill": {
     "duration": 0.007831,
     "end_time": "2025-01-12T19:26:23.737155",
     "exception": false,
     "start_time": "2025-01-12T19:26:23.729324",
     "status": "completed"
    },
    "tags": []
   },
   "source": [
    "## K Fold Validation"
   ]
  },
  {
   "cell_type": "code",
   "execution_count": 19,
   "id": "a0d3b236",
   "metadata": {
    "execution": {
     "iopub.execute_input": "2025-01-12T19:26:23.753994Z",
     "iopub.status.busy": "2025-01-12T19:26:23.753707Z",
     "iopub.status.idle": "2025-01-12T19:26:23.765893Z",
     "shell.execute_reply": "2025-01-12T19:26:23.765222Z"
    },
    "papermill": {
     "duration": 0.02243,
     "end_time": "2025-01-12T19:26:23.767326",
     "exception": false,
     "start_time": "2025-01-12T19:26:23.744896",
     "status": "completed"
    },
    "tags": []
   },
   "outputs": [],
   "source": [
    "df1=df0.copy()"
   ]
  },
  {
   "cell_type": "code",
   "execution_count": 20,
   "id": "2e8181d0",
   "metadata": {
    "execution": {
     "iopub.execute_input": "2025-01-12T19:26:23.783683Z",
     "iopub.status.busy": "2025-01-12T19:26:23.783378Z",
     "iopub.status.idle": "2025-01-12T19:26:23.787155Z",
     "shell.execute_reply": "2025-01-12T19:26:23.786534Z"
    },
    "papermill": {
     "duration": 0.01322,
     "end_time": "2025-01-12T19:26:23.788406",
     "exception": false,
     "start_time": "2025-01-12T19:26:23.775186",
     "status": "completed"
    },
    "tags": []
   },
   "outputs": [],
   "source": [
    "df1['target']=df['target']"
   ]
  },
  {
   "cell_type": "code",
   "execution_count": 21,
   "id": "1974e14a",
   "metadata": {
    "execution": {
     "iopub.execute_input": "2025-01-12T19:26:23.804700Z",
     "iopub.status.busy": "2025-01-12T19:26:23.804452Z",
     "iopub.status.idle": "2025-01-12T19:26:23.819671Z",
     "shell.execute_reply": "2025-01-12T19:26:23.819013Z"
    },
    "papermill": {
     "duration": 0.024935,
     "end_time": "2025-01-12T19:26:23.821083",
     "exception": false,
     "start_time": "2025-01-12T19:26:23.796148",
     "status": "completed"
    },
    "tags": []
   },
   "outputs": [],
   "source": [
    "# Define features and target\n",
    "X1 = df1.drop(columns=['efs', 'efs_time', 'ID', 'target', 'rituximab'], errors='ignore')\n",
    "target = df1['target']"
   ]
  },
  {
   "cell_type": "code",
   "execution_count": 22,
   "id": "bb58dd65",
   "metadata": {
    "execution": {
     "iopub.execute_input": "2025-01-12T19:26:23.837936Z",
     "iopub.status.busy": "2025-01-12T19:26:23.837619Z",
     "iopub.status.idle": "2025-01-12T19:26:23.852613Z",
     "shell.execute_reply": "2025-01-12T19:26:23.851736Z"
    },
    "papermill": {
     "duration": 0.024793,
     "end_time": "2025-01-12T19:26:23.854155",
     "exception": false,
     "start_time": "2025-01-12T19:26:23.829362",
     "status": "completed"
    },
    "tags": []
   },
   "outputs": [],
   "source": [
    "# Identify categorical and numerical columns\n",
    "cat_vars1 = X1.select_dtypes(include=['object']).columns\n",
    "num_vars1 = X1.select_dtypes(include=['int64', 'float64']).columns"
   ]
  },
  {
   "cell_type": "code",
   "execution_count": 23,
   "id": "ba14a5ae",
   "metadata": {
    "execution": {
     "iopub.execute_input": "2025-01-12T19:26:23.871105Z",
     "iopub.status.busy": "2025-01-12T19:26:23.870849Z",
     "iopub.status.idle": "2025-01-12T19:26:23.874611Z",
     "shell.execute_reply": "2025-01-12T19:26:23.873632Z"
    },
    "papermill": {
     "duration": 0.013643,
     "end_time": "2025-01-12T19:26:23.876024",
     "exception": false,
     "start_time": "2025-01-12T19:26:23.862381",
     "status": "completed"
    },
    "tags": []
   },
   "outputs": [],
   "source": [
    "# Preprocessing for numerical data: Imputation and Scaling\n",
    "numerical_transformer = Pipeline(steps=[\n",
    "    ('imputer', SimpleImputer(strategy='mean')),\n",
    "    ('scaler', StandardScaler())\n",
    "])"
   ]
  },
  {
   "cell_type": "code",
   "execution_count": 24,
   "id": "c349c705",
   "metadata": {
    "execution": {
     "iopub.execute_input": "2025-01-12T19:26:23.893339Z",
     "iopub.status.busy": "2025-01-12T19:26:23.893067Z",
     "iopub.status.idle": "2025-01-12T19:26:23.896467Z",
     "shell.execute_reply": "2025-01-12T19:26:23.895828Z"
    },
    "papermill": {
     "duration": 0.013997,
     "end_time": "2025-01-12T19:26:23.897746",
     "exception": false,
     "start_time": "2025-01-12T19:26:23.883749",
     "status": "completed"
    },
    "tags": []
   },
   "outputs": [],
   "source": [
    "from sklearn.preprocessing import OneHotEncoder"
   ]
  },
  {
   "cell_type": "code",
   "execution_count": 25,
   "id": "3b4acda5",
   "metadata": {
    "execution": {
     "iopub.execute_input": "2025-01-12T19:26:23.913949Z",
     "iopub.status.busy": "2025-01-12T19:26:23.913694Z",
     "iopub.status.idle": "2025-01-12T19:26:23.917123Z",
     "shell.execute_reply": "2025-01-12T19:26:23.916463Z"
    },
    "papermill": {
     "duration": 0.012871,
     "end_time": "2025-01-12T19:26:23.918259",
     "exception": false,
     "start_time": "2025-01-12T19:26:23.905388",
     "status": "completed"
    },
    "tags": []
   },
   "outputs": [],
   "source": [
    "# Preprocessing for categorical data: Imputation and One-Hot Encoding\n",
    "categorical_transformer = Pipeline(steps=[\n",
    "    ('imputer', SimpleImputer(strategy='most_frequent')),\n",
    "    ('onehot', OneHotEncoder(handle_unknown='ignore'))\n",
    "])"
   ]
  },
  {
   "cell_type": "code",
   "execution_count": 26,
   "id": "db046881",
   "metadata": {
    "execution": {
     "iopub.execute_input": "2025-01-12T19:26:23.934320Z",
     "iopub.status.busy": "2025-01-12T19:26:23.934094Z",
     "iopub.status.idle": "2025-01-12T19:26:23.937250Z",
     "shell.execute_reply": "2025-01-12T19:26:23.936620Z"
    },
    "papermill": {
     "duration": 0.012694,
     "end_time": "2025-01-12T19:26:23.938732",
     "exception": false,
     "start_time": "2025-01-12T19:26:23.926038",
     "status": "completed"
    },
    "tags": []
   },
   "outputs": [],
   "source": [
    "from sklearn.compose import ColumnTransformer"
   ]
  },
  {
   "cell_type": "code",
   "execution_count": 27,
   "id": "7b070b79",
   "metadata": {
    "execution": {
     "iopub.execute_input": "2025-01-12T19:26:23.956962Z",
     "iopub.status.busy": "2025-01-12T19:26:23.956729Z",
     "iopub.status.idle": "2025-01-12T19:26:23.960047Z",
     "shell.execute_reply": "2025-01-12T19:26:23.959402Z"
    },
    "papermill": {
     "duration": 0.013538,
     "end_time": "2025-01-12T19:26:23.961250",
     "exception": false,
     "start_time": "2025-01-12T19:26:23.947712",
     "status": "completed"
    },
    "tags": []
   },
   "outputs": [],
   "source": [
    "# Combine preprocessors in a column transformer\n",
    "preprocessor = ColumnTransformer(\n",
    "    transformers=[\n",
    "        ('num', numerical_transformer, num_vars1),\n",
    "        ('cat', categorical_transformer, cat_vars1)\n",
    "    ]\n",
    ")"
   ]
  },
  {
   "cell_type": "markdown",
   "id": "00a3a4d3",
   "metadata": {
    "papermill": {
     "duration": 0.007232,
     "end_time": "2025-01-12T19:26:23.976173",
     "exception": false,
     "start_time": "2025-01-12T19:26:23.968941",
     "status": "completed"
    },
    "tags": []
   },
   "source": [
    "## Create Model Pipeline"
   ]
  },
  {
   "cell_type": "code",
   "execution_count": 28,
   "id": "e7bec5a7",
   "metadata": {
    "execution": {
     "iopub.execute_input": "2025-01-12T19:26:23.991945Z",
     "iopub.status.busy": "2025-01-12T19:26:23.991709Z",
     "iopub.status.idle": "2025-01-12T19:26:23.994832Z",
     "shell.execute_reply": "2025-01-12T19:26:23.994164Z"
    },
    "papermill": {
     "duration": 0.012465,
     "end_time": "2025-01-12T19:26:23.996101",
     "exception": false,
     "start_time": "2025-01-12T19:26:23.983636",
     "status": "completed"
    },
    "tags": []
   },
   "outputs": [],
   "source": [
    "from sklearn.ensemble import GradientBoostingRegressor"
   ]
  },
  {
   "cell_type": "code",
   "execution_count": 29,
   "id": "7c717a14",
   "metadata": {
    "execution": {
     "iopub.execute_input": "2025-01-12T19:26:24.012144Z",
     "iopub.status.busy": "2025-01-12T19:26:24.011905Z",
     "iopub.status.idle": "2025-01-12T19:26:24.015230Z",
     "shell.execute_reply": "2025-01-12T19:26:24.014607Z"
    },
    "papermill": {
     "duration": 0.01269,
     "end_time": "2025-01-12T19:26:24.016448",
     "exception": false,
     "start_time": "2025-01-12T19:26:24.003758",
     "status": "completed"
    },
    "tags": []
   },
   "outputs": [],
   "source": [
    "# Create the model pipeline\n",
    "model = Pipeline(steps=[\n",
    "    ('preprocessor', preprocessor),\n",
    "    ('classifier', GradientBoostingRegressor(random_state=42))\n",
    "])"
   ]
  },
  {
   "cell_type": "code",
   "execution_count": 30,
   "id": "c031ace9",
   "metadata": {
    "execution": {
     "iopub.execute_input": "2025-01-12T19:26:24.032411Z",
     "iopub.status.busy": "2025-01-12T19:26:24.032164Z",
     "iopub.status.idle": "2025-01-12T19:53:26.641293Z",
     "shell.execute_reply": "2025-01-12T19:53:26.640431Z"
    },
    "papermill": {
     "duration": 1622.626499,
     "end_time": "2025-01-12T19:53:26.650607",
     "exception": false,
     "start_time": "2025-01-12T19:26:24.024108",
     "status": "completed"
    },
    "tags": []
   },
   "outputs": [
    {
     "name": "stdout",
     "output_type": "stream",
     "text": [
      "Fitting 5 folds for each of 12 candidates, totalling 60 fits\n"
     ]
    },
    {
     "data": {
      "text/html": [
       "<style>#sk-container-id-1 {color: black;background-color: white;}#sk-container-id-1 pre{padding: 0;}#sk-container-id-1 div.sk-toggleable {background-color: white;}#sk-container-id-1 label.sk-toggleable__label {cursor: pointer;display: block;width: 100%;margin-bottom: 0;padding: 0.3em;box-sizing: border-box;text-align: center;}#sk-container-id-1 label.sk-toggleable__label-arrow:before {content: \"▸\";float: left;margin-right: 0.25em;color: #696969;}#sk-container-id-1 label.sk-toggleable__label-arrow:hover:before {color: black;}#sk-container-id-1 div.sk-estimator:hover label.sk-toggleable__label-arrow:before {color: black;}#sk-container-id-1 div.sk-toggleable__content {max-height: 0;max-width: 0;overflow: hidden;text-align: left;background-color: #f0f8ff;}#sk-container-id-1 div.sk-toggleable__content pre {margin: 0.2em;color: black;border-radius: 0.25em;background-color: #f0f8ff;}#sk-container-id-1 input.sk-toggleable__control:checked~div.sk-toggleable__content {max-height: 200px;max-width: 100%;overflow: auto;}#sk-container-id-1 input.sk-toggleable__control:checked~label.sk-toggleable__label-arrow:before {content: \"▾\";}#sk-container-id-1 div.sk-estimator input.sk-toggleable__control:checked~label.sk-toggleable__label {background-color: #d4ebff;}#sk-container-id-1 div.sk-label input.sk-toggleable__control:checked~label.sk-toggleable__label {background-color: #d4ebff;}#sk-container-id-1 input.sk-hidden--visually {border: 0;clip: rect(1px 1px 1px 1px);clip: rect(1px, 1px, 1px, 1px);height: 1px;margin: -1px;overflow: hidden;padding: 0;position: absolute;width: 1px;}#sk-container-id-1 div.sk-estimator {font-family: monospace;background-color: #f0f8ff;border: 1px dotted black;border-radius: 0.25em;box-sizing: border-box;margin-bottom: 0.5em;}#sk-container-id-1 div.sk-estimator:hover {background-color: #d4ebff;}#sk-container-id-1 div.sk-parallel-item::after {content: \"\";width: 100%;border-bottom: 1px solid gray;flex-grow: 1;}#sk-container-id-1 div.sk-label:hover label.sk-toggleable__label {background-color: #d4ebff;}#sk-container-id-1 div.sk-serial::before {content: \"\";position: absolute;border-left: 1px solid gray;box-sizing: border-box;top: 0;bottom: 0;left: 50%;z-index: 0;}#sk-container-id-1 div.sk-serial {display: flex;flex-direction: column;align-items: center;background-color: white;padding-right: 0.2em;padding-left: 0.2em;position: relative;}#sk-container-id-1 div.sk-item {position: relative;z-index: 1;}#sk-container-id-1 div.sk-parallel {display: flex;align-items: stretch;justify-content: center;background-color: white;position: relative;}#sk-container-id-1 div.sk-item::before, #sk-container-id-1 div.sk-parallel-item::before {content: \"\";position: absolute;border-left: 1px solid gray;box-sizing: border-box;top: 0;bottom: 0;left: 50%;z-index: -1;}#sk-container-id-1 div.sk-parallel-item {display: flex;flex-direction: column;z-index: 1;position: relative;background-color: white;}#sk-container-id-1 div.sk-parallel-item:first-child::after {align-self: flex-end;width: 50%;}#sk-container-id-1 div.sk-parallel-item:last-child::after {align-self: flex-start;width: 50%;}#sk-container-id-1 div.sk-parallel-item:only-child::after {width: 0;}#sk-container-id-1 div.sk-dashed-wrapped {border: 1px dashed gray;margin: 0 0.4em 0.5em 0.4em;box-sizing: border-box;padding-bottom: 0.4em;background-color: white;}#sk-container-id-1 div.sk-label label {font-family: monospace;font-weight: bold;display: inline-block;line-height: 1.2em;}#sk-container-id-1 div.sk-label-container {text-align: center;}#sk-container-id-1 div.sk-container {/* jupyter's `normalize.less` sets `[hidden] { display: none; }` but bootstrap.min.css set `[hidden] { display: none !important; }` so we also need the `!important` here to be able to override the default hidden behavior on the sphinx rendered scikit-learn.org. See: https://github.com/scikit-learn/scikit-learn/issues/21755 */display: inline-block !important;position: relative;}#sk-container-id-1 div.sk-text-repr-fallback {display: none;}</style><div id=\"sk-container-id-1\" class=\"sk-top-container\"><div class=\"sk-text-repr-fallback\"><pre>Pipeline(steps=[(&#x27;preprocessor&#x27;,\n",
       "                 ColumnTransformer(transformers=[(&#x27;num&#x27;,\n",
       "                                                  Pipeline(steps=[(&#x27;imputer&#x27;,\n",
       "                                                                   SimpleImputer()),\n",
       "                                                                  (&#x27;scaler&#x27;,\n",
       "                                                                   StandardScaler())]),\n",
       "                                                  Index([&#x27;hla_match_c_high&#x27;, &#x27;hla_high_res_8&#x27;, &#x27;hla_low_res_6&#x27;, &#x27;hla_high_res_6&#x27;,\n",
       "       &#x27;hla_high_res_10&#x27;, &#x27;hla_match_dqb1_high&#x27;, &#x27;hla_nmdp_6&#x27;,\n",
       "       &#x27;hla_match_c_low&#x27;, &#x27;hla_match_drb1_low&#x27;, &#x27;hla_match_dqb1_low&#x27;,\n",
       "       &#x27;year_hct&#x27;, &#x27;hla_...\n",
       "       &#x27;cyto_score_detail&#x27;, &#x27;conditioning_intensity&#x27;, &#x27;ethnicity&#x27;, &#x27;obesity&#x27;,\n",
       "       &#x27;mrd_hct&#x27;, &#x27;in_vivo_tcd&#x27;, &#x27;tce_match&#x27;, &#x27;hepatic_severe&#x27;, &#x27;prior_tumor&#x27;,\n",
       "       &#x27;peptic_ulcer&#x27;, &#x27;gvhd_proph&#x27;, &#x27;rheum_issue&#x27;, &#x27;sex_match&#x27;, &#x27;race_group&#x27;,\n",
       "       &#x27;hepatic_mild&#x27;, &#x27;tce_div_match&#x27;, &#x27;donor_related&#x27;, &#x27;melphalan_dose&#x27;,\n",
       "       &#x27;cardiac&#x27;, &#x27;pulm_moderate&#x27;],\n",
       "      dtype=&#x27;object&#x27;))])),\n",
       "                (&#x27;classifier&#x27;,\n",
       "                 GradientBoostingRegressor(n_estimators=200, random_state=42))])</pre><b>In a Jupyter environment, please rerun this cell to show the HTML representation or trust the notebook. <br />On GitHub, the HTML representation is unable to render, please try loading this page with nbviewer.org.</b></div><div class=\"sk-container\" hidden><div class=\"sk-item sk-dashed-wrapped\"><div class=\"sk-label-container\"><div class=\"sk-label sk-toggleable\"><input class=\"sk-toggleable__control sk-hidden--visually\" id=\"sk-estimator-id-1\" type=\"checkbox\" ><label for=\"sk-estimator-id-1\" class=\"sk-toggleable__label sk-toggleable__label-arrow\">Pipeline</label><div class=\"sk-toggleable__content\"><pre>Pipeline(steps=[(&#x27;preprocessor&#x27;,\n",
       "                 ColumnTransformer(transformers=[(&#x27;num&#x27;,\n",
       "                                                  Pipeline(steps=[(&#x27;imputer&#x27;,\n",
       "                                                                   SimpleImputer()),\n",
       "                                                                  (&#x27;scaler&#x27;,\n",
       "                                                                   StandardScaler())]),\n",
       "                                                  Index([&#x27;hla_match_c_high&#x27;, &#x27;hla_high_res_8&#x27;, &#x27;hla_low_res_6&#x27;, &#x27;hla_high_res_6&#x27;,\n",
       "       &#x27;hla_high_res_10&#x27;, &#x27;hla_match_dqb1_high&#x27;, &#x27;hla_nmdp_6&#x27;,\n",
       "       &#x27;hla_match_c_low&#x27;, &#x27;hla_match_drb1_low&#x27;, &#x27;hla_match_dqb1_low&#x27;,\n",
       "       &#x27;year_hct&#x27;, &#x27;hla_...\n",
       "       &#x27;cyto_score_detail&#x27;, &#x27;conditioning_intensity&#x27;, &#x27;ethnicity&#x27;, &#x27;obesity&#x27;,\n",
       "       &#x27;mrd_hct&#x27;, &#x27;in_vivo_tcd&#x27;, &#x27;tce_match&#x27;, &#x27;hepatic_severe&#x27;, &#x27;prior_tumor&#x27;,\n",
       "       &#x27;peptic_ulcer&#x27;, &#x27;gvhd_proph&#x27;, &#x27;rheum_issue&#x27;, &#x27;sex_match&#x27;, &#x27;race_group&#x27;,\n",
       "       &#x27;hepatic_mild&#x27;, &#x27;tce_div_match&#x27;, &#x27;donor_related&#x27;, &#x27;melphalan_dose&#x27;,\n",
       "       &#x27;cardiac&#x27;, &#x27;pulm_moderate&#x27;],\n",
       "      dtype=&#x27;object&#x27;))])),\n",
       "                (&#x27;classifier&#x27;,\n",
       "                 GradientBoostingRegressor(n_estimators=200, random_state=42))])</pre></div></div></div><div class=\"sk-serial\"><div class=\"sk-item sk-dashed-wrapped\"><div class=\"sk-label-container\"><div class=\"sk-label sk-toggleable\"><input class=\"sk-toggleable__control sk-hidden--visually\" id=\"sk-estimator-id-2\" type=\"checkbox\" ><label for=\"sk-estimator-id-2\" class=\"sk-toggleable__label sk-toggleable__label-arrow\">preprocessor: ColumnTransformer</label><div class=\"sk-toggleable__content\"><pre>ColumnTransformer(transformers=[(&#x27;num&#x27;,\n",
       "                                 Pipeline(steps=[(&#x27;imputer&#x27;, SimpleImputer()),\n",
       "                                                 (&#x27;scaler&#x27;, StandardScaler())]),\n",
       "                                 Index([&#x27;hla_match_c_high&#x27;, &#x27;hla_high_res_8&#x27;, &#x27;hla_low_res_6&#x27;, &#x27;hla_high_res_6&#x27;,\n",
       "       &#x27;hla_high_res_10&#x27;, &#x27;hla_match_dqb1_high&#x27;, &#x27;hla_nmdp_6&#x27;,\n",
       "       &#x27;hla_match_c_low&#x27;, &#x27;hla_match_drb1_low&#x27;, &#x27;hla_match_dqb1_low&#x27;,\n",
       "       &#x27;year_hct&#x27;, &#x27;hla_match_a_high&#x27;, &#x27;donor_age&#x27;, &#x27;hla_m...\n",
       "       &#x27;prim_disease_hct&#x27;, &#x27;cmv_status&#x27;, &#x27;tce_imm_match&#x27;, &#x27;prod_type&#x27;,\n",
       "       &#x27;cyto_score_detail&#x27;, &#x27;conditioning_intensity&#x27;, &#x27;ethnicity&#x27;, &#x27;obesity&#x27;,\n",
       "       &#x27;mrd_hct&#x27;, &#x27;in_vivo_tcd&#x27;, &#x27;tce_match&#x27;, &#x27;hepatic_severe&#x27;, &#x27;prior_tumor&#x27;,\n",
       "       &#x27;peptic_ulcer&#x27;, &#x27;gvhd_proph&#x27;, &#x27;rheum_issue&#x27;, &#x27;sex_match&#x27;, &#x27;race_group&#x27;,\n",
       "       &#x27;hepatic_mild&#x27;, &#x27;tce_div_match&#x27;, &#x27;donor_related&#x27;, &#x27;melphalan_dose&#x27;,\n",
       "       &#x27;cardiac&#x27;, &#x27;pulm_moderate&#x27;],\n",
       "      dtype=&#x27;object&#x27;))])</pre></div></div></div><div class=\"sk-parallel\"><div class=\"sk-parallel-item\"><div class=\"sk-item\"><div class=\"sk-label-container\"><div class=\"sk-label sk-toggleable\"><input class=\"sk-toggleable__control sk-hidden--visually\" id=\"sk-estimator-id-3\" type=\"checkbox\" ><label for=\"sk-estimator-id-3\" class=\"sk-toggleable__label sk-toggleable__label-arrow\">num</label><div class=\"sk-toggleable__content\"><pre>Index([&#x27;hla_match_c_high&#x27;, &#x27;hla_high_res_8&#x27;, &#x27;hla_low_res_6&#x27;, &#x27;hla_high_res_6&#x27;,\n",
       "       &#x27;hla_high_res_10&#x27;, &#x27;hla_match_dqb1_high&#x27;, &#x27;hla_nmdp_6&#x27;,\n",
       "       &#x27;hla_match_c_low&#x27;, &#x27;hla_match_drb1_low&#x27;, &#x27;hla_match_dqb1_low&#x27;,\n",
       "       &#x27;year_hct&#x27;, &#x27;hla_match_a_high&#x27;, &#x27;donor_age&#x27;, &#x27;hla_match_b_low&#x27;,\n",
       "       &#x27;age_at_hct&#x27;, &#x27;hla_match_a_low&#x27;, &#x27;hla_match_b_high&#x27;,\n",
       "       &#x27;comorbidity_score&#x27;, &#x27;karnofsky_score&#x27;, &#x27;hla_low_res_8&#x27;,\n",
       "       &#x27;hla_match_drb1_high&#x27;, &#x27;hla_low_res_10&#x27;],\n",
       "      dtype=&#x27;object&#x27;)</pre></div></div></div><div class=\"sk-serial\"><div class=\"sk-item\"><div class=\"sk-serial\"><div class=\"sk-item\"><div class=\"sk-estimator sk-toggleable\"><input class=\"sk-toggleable__control sk-hidden--visually\" id=\"sk-estimator-id-4\" type=\"checkbox\" ><label for=\"sk-estimator-id-4\" class=\"sk-toggleable__label sk-toggleable__label-arrow\">SimpleImputer</label><div class=\"sk-toggleable__content\"><pre>SimpleImputer()</pre></div></div></div><div class=\"sk-item\"><div class=\"sk-estimator sk-toggleable\"><input class=\"sk-toggleable__control sk-hidden--visually\" id=\"sk-estimator-id-5\" type=\"checkbox\" ><label for=\"sk-estimator-id-5\" class=\"sk-toggleable__label sk-toggleable__label-arrow\">StandardScaler</label><div class=\"sk-toggleable__content\"><pre>StandardScaler()</pre></div></div></div></div></div></div></div></div><div class=\"sk-parallel-item\"><div class=\"sk-item\"><div class=\"sk-label-container\"><div class=\"sk-label sk-toggleable\"><input class=\"sk-toggleable__control sk-hidden--visually\" id=\"sk-estimator-id-6\" type=\"checkbox\" ><label for=\"sk-estimator-id-6\" class=\"sk-toggleable__label sk-toggleable__label-arrow\">cat</label><div class=\"sk-toggleable__content\"><pre>Index([&#x27;dri_score&#x27;, &#x27;psych_disturb&#x27;, &#x27;cyto_score&#x27;, &#x27;diabetes&#x27;, &#x27;tbi_status&#x27;,\n",
       "       &#x27;arrhythmia&#x27;, &#x27;graft_type&#x27;, &#x27;vent_hist&#x27;, &#x27;renal_issue&#x27;, &#x27;pulm_severe&#x27;,\n",
       "       &#x27;prim_disease_hct&#x27;, &#x27;cmv_status&#x27;, &#x27;tce_imm_match&#x27;, &#x27;prod_type&#x27;,\n",
       "       &#x27;cyto_score_detail&#x27;, &#x27;conditioning_intensity&#x27;, &#x27;ethnicity&#x27;, &#x27;obesity&#x27;,\n",
       "       &#x27;mrd_hct&#x27;, &#x27;in_vivo_tcd&#x27;, &#x27;tce_match&#x27;, &#x27;hepatic_severe&#x27;, &#x27;prior_tumor&#x27;,\n",
       "       &#x27;peptic_ulcer&#x27;, &#x27;gvhd_proph&#x27;, &#x27;rheum_issue&#x27;, &#x27;sex_match&#x27;, &#x27;race_group&#x27;,\n",
       "       &#x27;hepatic_mild&#x27;, &#x27;tce_div_match&#x27;, &#x27;donor_related&#x27;, &#x27;melphalan_dose&#x27;,\n",
       "       &#x27;cardiac&#x27;, &#x27;pulm_moderate&#x27;],\n",
       "      dtype=&#x27;object&#x27;)</pre></div></div></div><div class=\"sk-serial\"><div class=\"sk-item\"><div class=\"sk-serial\"><div class=\"sk-item\"><div class=\"sk-estimator sk-toggleable\"><input class=\"sk-toggleable__control sk-hidden--visually\" id=\"sk-estimator-id-7\" type=\"checkbox\" ><label for=\"sk-estimator-id-7\" class=\"sk-toggleable__label sk-toggleable__label-arrow\">SimpleImputer</label><div class=\"sk-toggleable__content\"><pre>SimpleImputer(strategy=&#x27;most_frequent&#x27;)</pre></div></div></div><div class=\"sk-item\"><div class=\"sk-estimator sk-toggleable\"><input class=\"sk-toggleable__control sk-hidden--visually\" id=\"sk-estimator-id-8\" type=\"checkbox\" ><label for=\"sk-estimator-id-8\" class=\"sk-toggleable__label sk-toggleable__label-arrow\">OneHotEncoder</label><div class=\"sk-toggleable__content\"><pre>OneHotEncoder(handle_unknown=&#x27;ignore&#x27;)</pre></div></div></div></div></div></div></div></div></div></div><div class=\"sk-item\"><div class=\"sk-estimator sk-toggleable\"><input class=\"sk-toggleable__control sk-hidden--visually\" id=\"sk-estimator-id-9\" type=\"checkbox\" ><label for=\"sk-estimator-id-9\" class=\"sk-toggleable__label sk-toggleable__label-arrow\">GradientBoostingRegressor</label><div class=\"sk-toggleable__content\"><pre>GradientBoostingRegressor(n_estimators=200, random_state=42)</pre></div></div></div></div></div></div></div>"
      ],
      "text/plain": [
       "Pipeline(steps=[('preprocessor',\n",
       "                 ColumnTransformer(transformers=[('num',\n",
       "                                                  Pipeline(steps=[('imputer',\n",
       "                                                                   SimpleImputer()),\n",
       "                                                                  ('scaler',\n",
       "                                                                   StandardScaler())]),\n",
       "                                                  Index(['hla_match_c_high', 'hla_high_res_8', 'hla_low_res_6', 'hla_high_res_6',\n",
       "       'hla_high_res_10', 'hla_match_dqb1_high', 'hla_nmdp_6',\n",
       "       'hla_match_c_low', 'hla_match_drb1_low', 'hla_match_dqb1_low',\n",
       "       'year_hct', 'hla_...\n",
       "       'cyto_score_detail', 'conditioning_intensity', 'ethnicity', 'obesity',\n",
       "       'mrd_hct', 'in_vivo_tcd', 'tce_match', 'hepatic_severe', 'prior_tumor',\n",
       "       'peptic_ulcer', 'gvhd_proph', 'rheum_issue', 'sex_match', 'race_group',\n",
       "       'hepatic_mild', 'tce_div_match', 'donor_related', 'melphalan_dose',\n",
       "       'cardiac', 'pulm_moderate'],\n",
       "      dtype='object'))])),\n",
       "                ('classifier',\n",
       "                 GradientBoostingRegressor(n_estimators=200, random_state=42))])"
      ]
     },
     "execution_count": 30,
     "metadata": {},
     "output_type": "execute_result"
    }
   ],
   "source": [
    "# Import necessary libraries for hyperparameter optimization\n",
    "from sklearn.model_selection import GridSearchCV\n",
    "from sklearn.metrics import make_scorer\n",
    "from lifelines.utils import concordance_index\n",
    "\n",
    "# Define parameter grid for hyperparameter optimization\n",
    "param_grid = {\n",
    "    'classifier__n_estimators': [100, 200],\n",
    "    'classifier__learning_rate': [0.01, 0.1],\n",
    "    'classifier__max_depth': [3, 5, 7]\n",
    "}\n",
    "\n",
    "# Setup GridSearchCV with custom scoring function (concordance index)\n",
    "grid_search = GridSearchCV(\n",
    "    model, \n",
    "    param_grid, \n",
    "    cv=5, \n",
    "    scoring=make_scorer(concordance_index), \n",
    "    verbose=1\n",
    ")\n",
    "\n",
    "# Fit the grid search to the data\n",
    "grid_search.fit(X1, target)\n",
    "\n",
    "# Retrieve best parameters and model\n",
    "best_params = grid_search.best_params_\n",
    "best_model = grid_search.best_estimator_\n",
    "\n",
    "# Train the model on the full dataset using the best parameters\n",
    "best_model.fit(X1, target)\n"
   ]
  },
  {
   "cell_type": "markdown",
   "id": "edaf779d",
   "metadata": {
    "execution": {
     "iopub.status.busy": "2025-01-12T18:30:10.446704Z",
     "iopub.status.idle": "2025-01-12T18:30:10.447034Z",
     "shell.execute_reply": "2025-01-12T18:30:10.446891Z"
    },
    "papermill": {
     "duration": 0.008112,
     "end_time": "2025-01-12T19:53:26.666969",
     "exception": false,
     "start_time": "2025-01-12T19:53:26.658857",
     "status": "completed"
    },
    "tags": []
   },
   "source": [
    "## Model Evaluation on training data"
   ]
  },
  {
   "cell_type": "code",
   "execution_count": 31,
   "id": "0be41e21",
   "metadata": {
    "execution": {
     "iopub.execute_input": "2025-01-12T19:53:26.683769Z",
     "iopub.status.busy": "2025-01-12T19:53:26.683431Z",
     "iopub.status.idle": "2025-01-12T19:53:27.484998Z",
     "shell.execute_reply": "2025-01-12T19:53:27.484058Z"
    },
    "papermill": {
     "duration": 0.81158,
     "end_time": "2025-01-12T19:53:27.486440",
     "exception": false,
     "start_time": "2025-01-12T19:53:26.674860",
     "status": "completed"
    },
    "tags": []
   },
   "outputs": [
    {
     "name": "stdout",
     "output_type": "stream",
     "text": [
      "Concordance Index on Training Data: 0.6560702660858555\n"
     ]
    }
   ],
   "source": [
    "# Evaluate the model on the full training data (using concordance index)\n",
    "train_pred = best_model.predict(X1)\n",
    "train_c_index = concordance_index(target, train_pred)\n",
    "print(f\"Concordance Index on Training Data: {train_c_index}\")\n"
   ]
  },
  {
   "cell_type": "markdown",
   "id": "827bfbfd",
   "metadata": {
    "papermill": {
     "duration": 0.007696,
     "end_time": "2025-01-12T19:53:27.502498",
     "exception": false,
     "start_time": "2025-01-12T19:53:27.494802",
     "status": "completed"
    },
    "tags": []
   },
   "source": [
    "## Make Predictions on Test Data"
   ]
  },
  {
   "cell_type": "code",
   "execution_count": 32,
   "id": "411c73b2",
   "metadata": {
    "execution": {
     "iopub.execute_input": "2025-01-12T19:53:27.519572Z",
     "iopub.status.busy": "2025-01-12T19:53:27.519243Z",
     "iopub.status.idle": "2025-01-12T19:53:27.544995Z",
     "shell.execute_reply": "2025-01-12T19:53:27.544016Z"
    },
    "papermill": {
     "duration": 0.035934,
     "end_time": "2025-01-12T19:53:27.546500",
     "exception": false,
     "start_time": "2025-01-12T19:53:27.510566",
     "status": "completed"
    },
    "tags": []
   },
   "outputs": [],
   "source": [
    "# Load the test data\n",
    "test_data = pd.read_csv('/kaggle/input/equity-post-HCT-survival-predictions/test.csv')\n",
    "\n",
    "# Predict survival outcomes on the test data\n",
    "prediction = best_model.predict(test_data.drop(columns=['ID'], errors='ignore'))"
   ]
  },
  {
   "cell_type": "code",
   "execution_count": 33,
   "id": "28aebd51",
   "metadata": {
    "execution": {
     "iopub.execute_input": "2025-01-12T19:53:27.563893Z",
     "iopub.status.busy": "2025-01-12T19:53:27.563567Z",
     "iopub.status.idle": "2025-01-12T19:53:27.571428Z",
     "shell.execute_reply": "2025-01-12T19:53:27.570603Z"
    },
    "papermill": {
     "duration": 0.017907,
     "end_time": "2025-01-12T19:53:27.572784",
     "exception": false,
     "start_time": "2025-01-12T19:53:27.554877",
     "status": "completed"
    },
    "tags": []
   },
   "outputs": [
    {
     "name": "stdout",
     "output_type": "stream",
     "text": [
      "Predictions saved to submission.csv\n"
     ]
    }
   ],
   "source": [
    "# Add predictions to the test dataset\n",
    "test_data['prediction'] = prediction\n",
    "\n",
    "# Save predictions to a new CSV file\n",
    "output_file_path = 'submission.csv'\n",
    "test_data[['ID', 'prediction']].to_csv(output_file_path, index=False)\n",
    "\n",
    "print(f\"Predictions saved to {output_file_path}\")"
   ]
  },
  {
   "cell_type": "code",
   "execution_count": null,
   "id": "3a37d22e",
   "metadata": {
    "papermill": {
     "duration": 0.008218,
     "end_time": "2025-01-12T19:53:27.589691",
     "exception": false,
     "start_time": "2025-01-12T19:53:27.581473",
     "status": "completed"
    },
    "tags": []
   },
   "outputs": [],
   "source": []
  }
 ],
 "metadata": {
  "kaggle": {
   "accelerator": "none",
   "dataSources": [
    {
     "databundleVersionId": 10381525,
     "sourceId": 70942,
     "sourceType": "competition"
    },
    {
     "sourceId": 211322530,
     "sourceType": "kernelVersion"
    }
   ],
   "isGpuEnabled": false,
   "isInternetEnabled": false,
   "language": "python",
   "sourceType": "notebook"
  },
  "kernelspec": {
   "display_name": "Python 3",
   "language": "python",
   "name": "python3"
  },
  "language_info": {
   "codemirror_mode": {
    "name": "ipython",
    "version": 3
   },
   "file_extension": ".py",
   "mimetype": "text/x-python",
   "name": "python",
   "nbconvert_exporter": "python",
   "pygments_lexer": "ipython3",
   "version": "3.10.12"
  },
  "papermill": {
   "default_parameters": {},
   "duration": 1650.869542,
   "end_time": "2025-01-12T19:53:28.216993",
   "environment_variables": {},
   "exception": null,
   "input_path": "__notebook__.ipynb",
   "output_path": "__notebook__.ipynb",
   "parameters": {},
   "start_time": "2025-01-12T19:25:57.347451",
   "version": "2.6.0"
  }
 },
 "nbformat": 4,
 "nbformat_minor": 5
}
