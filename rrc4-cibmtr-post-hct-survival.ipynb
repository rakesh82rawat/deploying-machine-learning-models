{
 "cells": [
  {
   "cell_type": "code",
   "execution_count": 1,
   "id": "0469e904",
   "metadata": {
    "_kg_hide-input": false,
    "_kg_hide-output": false,
    "execution": {
     "iopub.execute_input": "2025-01-11T08:14:15.181854Z",
     "iopub.status.busy": "2025-01-11T08:14:15.181509Z",
     "iopub.status.idle": "2025-01-11T08:14:39.962108Z",
     "shell.execute_reply": "2025-01-11T08:14:39.960730Z"
    },
    "papermill": {
     "duration": 24.792938,
     "end_time": "2025-01-11T08:14:39.964406",
     "exception": false,
     "start_time": "2025-01-11T08:14:15.171468",
     "status": "completed"
    },
    "tags": []
   },
   "outputs": [
    {
     "name": "stdout",
     "output_type": "stream",
     "text": [
      "Requirement already satisfied: autograd==1.7.0 in /usr/local/lib/python3.10/dist-packages (1.7.0)\r\n",
      "Requirement already satisfied: numpy in /usr/local/lib/python3.10/dist-packages (from autograd==1.7.0) (1.26.4)\r\n",
      "Collecting autograd-gamma==0.5.0\r\n",
      "  Downloading autograd-gamma-0.5.0.tar.gz (4.0 kB)\r\n",
      "  Preparing metadata (setup.py) ... \u001b[?25l\u001b[?25hdone\r\n",
      "Requirement already satisfied: autograd>=1.2.0 in /usr/local/lib/python3.10/dist-packages (from autograd-gamma==0.5.0) (1.7.0)\r\n",
      "Requirement already satisfied: scipy>=1.2.0 in /usr/local/lib/python3.10/dist-packages (from autograd-gamma==0.5.0) (1.13.1)\r\n",
      "Requirement already satisfied: numpy in /usr/local/lib/python3.10/dist-packages (from autograd>=1.2.0->autograd-gamma==0.5.0) (1.26.4)\r\n",
      "Building wheels for collected packages: autograd-gamma\r\n",
      "  Building wheel for autograd-gamma (setup.py) ... \u001b[?25l\u001b[?25hdone\r\n",
      "  Created wheel for autograd-gamma: filename=autograd_gamma-0.5.0-py3-none-any.whl size=4031 sha256=5e2e11b124514e9b39702f0507197a4f767a00e73355c8344f07634d1e9ebe4d\r\n",
      "  Stored in directory: /root/.cache/pip/wheels/25/cc/e0/ef2969164144c899fedb22b338f6703e2b9cf46eeebf254991\r\n",
      "Successfully built autograd-gamma\r\n",
      "Installing collected packages: autograd-gamma\r\n",
      "Successfully installed autograd-gamma-0.5.0\r\n",
      "Collecting interface_meta==1.3.0\r\n",
      "  Downloading interface_meta-1.3.0-py3-none-any.whl.metadata (6.7 kB)\r\n",
      "Downloading interface_meta-1.3.0-py3-none-any.whl (14 kB)\r\n",
      "Installing collected packages: interface_meta\r\n",
      "Successfully installed interface_meta-1.3.0\r\n",
      "Collecting formulaic==1.0.2\r\n",
      "  Downloading formulaic-1.0.2-py3-none-any.whl.metadata (6.8 kB)\r\n",
      "Requirement already satisfied: interface-meta>=1.2.0 in /usr/local/lib/python3.10/dist-packages (from formulaic==1.0.2) (1.3.0)\r\n",
      "Requirement already satisfied: numpy>=1.16.5 in /usr/local/lib/python3.10/dist-packages (from formulaic==1.0.2) (1.26.4)\r\n",
      "Requirement already satisfied: pandas>=1.0 in /usr/local/lib/python3.10/dist-packages (from formulaic==1.0.2) (2.1.4)\r\n",
      "Requirement already satisfied: scipy>=1.6 in /usr/local/lib/python3.10/dist-packages (from formulaic==1.0.2) (1.13.1)\r\n",
      "Requirement already satisfied: typing-extensions>=4.2.0 in /usr/local/lib/python3.10/dist-packages (from formulaic==1.0.2) (4.12.2)\r\n",
      "Requirement already satisfied: wrapt>=1.0 in /usr/local/lib/python3.10/dist-packages (from formulaic==1.0.2) (1.16.0)\r\n",
      "Requirement already satisfied: python-dateutil>=2.8.2 in /usr/local/lib/python3.10/dist-packages (from pandas>=1.0->formulaic==1.0.2) (2.8.2)\r\n",
      "Requirement already satisfied: pytz>=2020.1 in /usr/local/lib/python3.10/dist-packages (from pandas>=1.0->formulaic==1.0.2) (2024.2)\r\n",
      "Requirement already satisfied: tzdata>=2022.1 in /usr/local/lib/python3.10/dist-packages (from pandas>=1.0->formulaic==1.0.2) (2024.1)\r\n",
      "Requirement already satisfied: six>=1.5 in /usr/local/lib/python3.10/dist-packages (from python-dateutil>=2.8.2->pandas>=1.0->formulaic==1.0.2) (1.16.0)\r\n",
      "Downloading formulaic-1.0.2-py3-none-any.whl (94 kB)\r\n",
      "\u001b[2K   \u001b[90m━━━━━━━━━━━━━━━━━━━━━━━━━━━━━━━━━━━━━━━━\u001b[0m \u001b[32m94.5/94.5 kB\u001b[0m \u001b[31m2.8 MB/s\u001b[0m eta \u001b[36m0:00:00\u001b[0m\r\n",
      "\u001b[?25hInstalling collected packages: formulaic\r\n",
      "Successfully installed formulaic-1.0.2\r\n",
      "Collecting lifelines==0.30.0\r\n",
      "  Downloading lifelines-0.30.0-py3-none-any.whl.metadata (3.2 kB)\r\n",
      "Requirement already satisfied: numpy>=1.14.0 in /usr/local/lib/python3.10/dist-packages (from lifelines==0.30.0) (1.26.4)\r\n",
      "Requirement already satisfied: scipy>=1.7.0 in /usr/local/lib/python3.10/dist-packages (from lifelines==0.30.0) (1.13.1)\r\n",
      "Requirement already satisfied: pandas>=2.1 in /usr/local/lib/python3.10/dist-packages (from lifelines==0.30.0) (2.1.4)\r\n",
      "Requirement already satisfied: matplotlib>=3.0 in /usr/local/lib/python3.10/dist-packages (from lifelines==0.30.0) (3.7.1)\r\n",
      "Requirement already satisfied: autograd>=1.5 in /usr/local/lib/python3.10/dist-packages (from lifelines==0.30.0) (1.7.0)\r\n",
      "Requirement already satisfied: autograd-gamma>=0.3 in /usr/local/lib/python3.10/dist-packages (from lifelines==0.30.0) (0.5.0)\r\n",
      "Requirement already satisfied: formulaic>=0.2.2 in /usr/local/lib/python3.10/dist-packages (from lifelines==0.30.0) (1.0.2)\r\n",
      "Requirement already satisfied: interface-meta>=1.2.0 in /usr/local/lib/python3.10/dist-packages (from formulaic>=0.2.2->lifelines==0.30.0) (1.3.0)\r\n",
      "Requirement already satisfied: typing-extensions>=4.2.0 in /usr/local/lib/python3.10/dist-packages (from formulaic>=0.2.2->lifelines==0.30.0) (4.12.2)\r\n",
      "Requirement already satisfied: wrapt>=1.0 in /usr/local/lib/python3.10/dist-packages (from formulaic>=0.2.2->lifelines==0.30.0) (1.16.0)\r\n",
      "Requirement already satisfied: contourpy>=1.0.1 in /usr/local/lib/python3.10/dist-packages (from matplotlib>=3.0->lifelines==0.30.0) (1.3.0)\r\n",
      "Requirement already satisfied: cycler>=0.10 in /usr/local/lib/python3.10/dist-packages (from matplotlib>=3.0->lifelines==0.30.0) (0.12.1)\r\n",
      "Requirement already satisfied: fonttools>=4.22.0 in /usr/local/lib/python3.10/dist-packages (from matplotlib>=3.0->lifelines==0.30.0) (4.53.1)\r\n",
      "Requirement already satisfied: kiwisolver>=1.0.1 in /usr/local/lib/python3.10/dist-packages (from matplotlib>=3.0->lifelines==0.30.0) (1.4.7)\r\n",
      "Requirement already satisfied: packaging>=20.0 in /usr/local/lib/python3.10/dist-packages (from matplotlib>=3.0->lifelines==0.30.0) (24.1)\r\n",
      "Requirement already satisfied: pillow>=6.2.0 in /usr/local/lib/python3.10/dist-packages (from matplotlib>=3.0->lifelines==0.30.0) (10.4.0)\r\n",
      "Requirement already satisfied: pyparsing>=2.3.1 in /usr/local/lib/python3.10/dist-packages (from matplotlib>=3.0->lifelines==0.30.0) (3.1.4)\r\n",
      "Requirement already satisfied: python-dateutil>=2.7 in /usr/local/lib/python3.10/dist-packages (from matplotlib>=3.0->lifelines==0.30.0) (2.8.2)\r\n",
      "Requirement already satisfied: pytz>=2020.1 in /usr/local/lib/python3.10/dist-packages (from pandas>=2.1->lifelines==0.30.0) (2024.2)\r\n",
      "Requirement already satisfied: tzdata>=2022.1 in /usr/local/lib/python3.10/dist-packages (from pandas>=2.1->lifelines==0.30.0) (2024.1)\r\n",
      "Requirement already satisfied: six>=1.5 in /usr/local/lib/python3.10/dist-packages (from python-dateutil>=2.7->matplotlib>=3.0->lifelines==0.30.0) (1.16.0)\r\n",
      "Downloading lifelines-0.30.0-py3-none-any.whl (349 kB)\r\n",
      "\u001b[2K   \u001b[90m━━━━━━━━━━━━━━━━━━━━━━━━━━━━━━━━━━━━━━━━\u001b[0m \u001b[32m349.3/349.3 kB\u001b[0m \u001b[31m6.3 MB/s\u001b[0m eta \u001b[36m0:00:00\u001b[0m\r\n",
      "\u001b[?25hInstalling collected packages: lifelines\r\n",
      "Successfully installed lifelines-0.30.0\r\n"
     ]
    }
   ],
   "source": [
    "# Installations-1\n",
    "!pip install autograd==1.7.0\n",
    "!pip install autograd-gamma==0.5.0\n",
    "!pip install interface_meta==1.3.0\n",
    "!pip install formulaic==1.0.2\n",
    "!pip install lifelines==0.30.0"
   ]
  },
  {
   "cell_type": "code",
   "execution_count": 2,
   "id": "77739ac2",
   "metadata": {
    "_kg_hide-input": true,
    "_kg_hide-output": true,
    "execution": {
     "iopub.execute_input": "2025-01-11T08:14:39.985395Z",
     "iopub.status.busy": "2025-01-11T08:14:39.984990Z",
     "iopub.status.idle": "2025-01-11T08:14:52.086986Z",
     "shell.execute_reply": "2025-01-11T08:14:52.085651Z"
    },
    "papermill": {
     "duration": 12.114668,
     "end_time": "2025-01-11T08:14:52.089111",
     "exception": false,
     "start_time": "2025-01-11T08:14:39.974443",
     "status": "completed"
    },
    "tags": []
   },
   "outputs": [
    {
     "name": "stdout",
     "output_type": "stream",
     "text": [
      "Collecting lifelines\r\n",
      "  Using cached lifelines-0.30.0-py3-none-any.whl.metadata (3.2 kB)\r\n",
      "Collecting numpy>=1.14.0 (from lifelines)\r\n",
      "  Downloading numpy-2.2.1-cp310-cp310-manylinux_2_17_x86_64.manylinux2014_x86_64.whl.metadata (62 kB)\r\n",
      "\u001b[2K     \u001b[90m━━━━━━━━━━━━━━━━━━━━━━━━━━━━━━━━━━━━━━━━\u001b[0m \u001b[32m62.0/62.0 kB\u001b[0m \u001b[31m1.8 MB/s\u001b[0m eta \u001b[36m0:00:00\u001b[0m\r\n",
      "\u001b[?25hCollecting scipy>=1.7.0 (from lifelines)\r\n",
      "  Downloading scipy-1.15.1-cp310-cp310-manylinux_2_17_x86_64.manylinux2014_x86_64.whl.metadata (61 kB)\r\n",
      "\u001b[2K     \u001b[90m━━━━━━━━━━━━━━━━━━━━━━━━━━━━━━━━━━━━━━━━\u001b[0m \u001b[32m62.0/62.0 kB\u001b[0m \u001b[31m2.7 MB/s\u001b[0m eta \u001b[36m0:00:00\u001b[0m\r\n",
      "\u001b[?25hCollecting pandas>=2.1 (from lifelines)\r\n",
      "  Downloading pandas-2.2.3-cp310-cp310-manylinux_2_17_x86_64.manylinux2014_x86_64.whl.metadata (89 kB)\r\n",
      "\u001b[2K     \u001b[90m━━━━━━━━━━━━━━━━━━━━━━━━━━━━━━━━━━━━━━━━\u001b[0m \u001b[32m89.9/89.9 kB\u001b[0m \u001b[31m4.7 MB/s\u001b[0m eta \u001b[36m0:00:00\u001b[0m\r\n",
      "\u001b[?25hCollecting matplotlib>=3.0 (from lifelines)\r\n",
      "  Downloading matplotlib-3.10.0-cp310-cp310-manylinux_2_17_x86_64.manylinux2014_x86_64.whl.metadata (11 kB)\r\n",
      "Collecting autograd>=1.5 (from lifelines)\r\n",
      "  Downloading autograd-1.7.0-py3-none-any.whl.metadata (7.5 kB)\r\n",
      "Collecting autograd-gamma>=0.3 (from lifelines)\r\n",
      "  Using cached autograd-gamma-0.5.0.tar.gz (4.0 kB)\r\n",
      "  Preparing metadata (setup.py) ... \u001b[?25l\u001b[?25hdone\r\n",
      "Collecting formulaic>=0.2.2 (from lifelines)\r\n",
      "  Downloading formulaic-1.1.1-py3-none-any.whl.metadata (6.9 kB)\r\n",
      "Collecting interface-meta>=1.2.0 (from formulaic>=0.2.2->lifelines)\r\n",
      "  Using cached interface_meta-1.3.0-py3-none-any.whl.metadata (6.7 kB)\r\n",
      "Collecting typing-extensions>=4.2.0 (from formulaic>=0.2.2->lifelines)\r\n",
      "  Downloading typing_extensions-4.12.2-py3-none-any.whl.metadata (3.0 kB)\r\n",
      "Collecting wrapt>=1.0 (from formulaic>=0.2.2->lifelines)\r\n",
      "  Downloading wrapt-1.17.1-cp310-cp310-manylinux_2_5_x86_64.manylinux1_x86_64.manylinux_2_17_x86_64.manylinux2014_x86_64.whl.metadata (6.4 kB)\r\n",
      "Collecting contourpy>=1.0.1 (from matplotlib>=3.0->lifelines)\r\n",
      "  Downloading contourpy-1.3.1-cp310-cp310-manylinux_2_17_x86_64.manylinux2014_x86_64.whl.metadata (5.4 kB)\r\n",
      "Collecting cycler>=0.10 (from matplotlib>=3.0->lifelines)\r\n",
      "  Downloading cycler-0.12.1-py3-none-any.whl.metadata (3.8 kB)\r\n",
      "Collecting fonttools>=4.22.0 (from matplotlib>=3.0->lifelines)\r\n",
      "  Downloading fonttools-4.55.3-cp310-cp310-manylinux_2_17_x86_64.manylinux2014_x86_64.whl.metadata (165 kB)\r\n",
      "\u001b[2K     \u001b[90m━━━━━━━━━━━━━━━━━━━━━━━━━━━━━━━━━━━━━━━━\u001b[0m \u001b[32m165.1/165.1 kB\u001b[0m \u001b[31m9.3 MB/s\u001b[0m eta \u001b[36m0:00:00\u001b[0m\r\n",
      "\u001b[?25hCollecting kiwisolver>=1.3.1 (from matplotlib>=3.0->lifelines)\r\n",
      "  Downloading kiwisolver-1.4.8-cp310-cp310-manylinux_2_12_x86_64.manylinux2010_x86_64.whl.metadata (6.2 kB)\r\n",
      "Collecting packaging>=20.0 (from matplotlib>=3.0->lifelines)\r\n",
      "  Downloading packaging-24.2-py3-none-any.whl.metadata (3.2 kB)\r\n",
      "Collecting pillow>=8 (from matplotlib>=3.0->lifelines)\r\n",
      "  Downloading pillow-11.1.0-cp310-cp310-manylinux_2_28_x86_64.whl.metadata (9.1 kB)\r\n",
      "Collecting pyparsing>=2.3.1 (from matplotlib>=3.0->lifelines)\r\n",
      "  Downloading pyparsing-3.2.1-py3-none-any.whl.metadata (5.0 kB)\r\n",
      "Collecting python-dateutil>=2.7 (from matplotlib>=3.0->lifelines)\r\n",
      "  Downloading python_dateutil-2.9.0.post0-py2.py3-none-any.whl.metadata (8.4 kB)\r\n",
      "Collecting pytz>=2020.1 (from pandas>=2.1->lifelines)\r\n",
      "  Downloading pytz-2024.2-py2.py3-none-any.whl.metadata (22 kB)\r\n",
      "Collecting tzdata>=2022.7 (from pandas>=2.1->lifelines)\r\n",
      "  Downloading tzdata-2024.2-py2.py3-none-any.whl.metadata (1.4 kB)\r\n",
      "Collecting six>=1.5 (from python-dateutil>=2.7->matplotlib>=3.0->lifelines)\r\n",
      "  Downloading six-1.17.0-py2.py3-none-any.whl.metadata (1.7 kB)\r\n",
      "Using cached lifelines-0.30.0-py3-none-any.whl (349 kB)\r\n",
      "Downloading autograd-1.7.0-py3-none-any.whl (52 kB)\r\n",
      "\u001b[2K   \u001b[90m━━━━━━━━━━━━━━━━━━━━━━━━━━━━━━━━━━━━━━━━\u001b[0m \u001b[32m52.5/52.5 kB\u001b[0m \u001b[31m3.0 MB/s\u001b[0m eta \u001b[36m0:00:00\u001b[0m\r\n",
      "\u001b[?25hDownloading formulaic-1.1.1-py3-none-any.whl (115 kB)\r\n",
      "\u001b[2K   \u001b[90m━━━━━━━━━━━━━━━━━━━━━━━━━━━━━━━━━━━━━━━━\u001b[0m \u001b[32m115.7/115.7 kB\u001b[0m \u001b[31m6.1 MB/s\u001b[0m eta \u001b[36m0:00:00\u001b[0m\r\n",
      "\u001b[?25hDownloading matplotlib-3.10.0-cp310-cp310-manylinux_2_17_x86_64.manylinux2014_x86_64.whl (8.6 MB)\r\n",
      "\u001b[2K   \u001b[90m━━━━━━━━━━━━━━━━━━━━━━━━━━━━━━━━━━━━━━━━\u001b[0m \u001b[32m8.6/8.6 MB\u001b[0m \u001b[31m17.7 MB/s\u001b[0m eta \u001b[36m0:00:00\u001b[0m\r\n",
      "\u001b[?25hDownloading numpy-2.2.1-cp310-cp310-manylinux_2_17_x86_64.manylinux2014_x86_64.whl (16.4 MB)\r\n",
      "\u001b[2K   \u001b[90m━━━━━━━━━━━━━━━━━━━━━━━━━━━━━━━━━━━━━━━━\u001b[0m \u001b[32m16.4/16.4 MB\u001b[0m \u001b[31m19.9 MB/s\u001b[0m eta \u001b[36m0:00:00\u001b[0m\r\n",
      "\u001b[?25hDownloading pandas-2.2.3-cp310-cp310-manylinux_2_17_x86_64.manylinux2014_x86_64.whl (13.1 MB)\r\n",
      "\u001b[2K   \u001b[90m━━━━━━━━━━━━━━━━━━━━━━━━━━━━━━━━━━━━━━━━\u001b[0m \u001b[32m13.1/13.1 MB\u001b[0m \u001b[31m22.5 MB/s\u001b[0m eta \u001b[36m0:00:00\u001b[0m\r\n",
      "\u001b[?25hDownloading scipy-1.15.1-cp310-cp310-manylinux_2_17_x86_64.manylinux2014_x86_64.whl (40.6 MB)\r\n",
      "\u001b[2K   \u001b[90m━━━━━━━━━━━━━━━━━━━━━━━━━━━━━━━━━━━━━━━━\u001b[0m \u001b[32m40.6/40.6 MB\u001b[0m \u001b[31m19.7 MB/s\u001b[0m eta \u001b[36m0:00:00\u001b[0m\r\n",
      "\u001b[?25hDownloading contourpy-1.3.1-cp310-cp310-manylinux_2_17_x86_64.manylinux2014_x86_64.whl (324 kB)\r\n",
      "\u001b[2K   \u001b[90m━━━━━━━━━━━━━━━━━━━━━━━━━━━━━━━━━━━━━━━━\u001b[0m \u001b[32m325.0/325.0 kB\u001b[0m \u001b[31m16.4 MB/s\u001b[0m eta \u001b[36m0:00:00\u001b[0m\r\n",
      "\u001b[?25hDownloading cycler-0.12.1-py3-none-any.whl (8.3 kB)\r\n",
      "Downloading fonttools-4.55.3-cp310-cp310-manylinux_2_17_x86_64.manylinux2014_x86_64.whl (4.6 MB)\r\n",
      "\u001b[2K   \u001b[90m━━━━━━━━━━━━━━━━━━━━━━━━━━━━━━━━━━━━━━━━\u001b[0m \u001b[32m4.6/4.6 MB\u001b[0m \u001b[31m27.5 MB/s\u001b[0m eta \u001b[36m0:00:00\u001b[0m\r\n",
      "\u001b[?25hUsing cached interface_meta-1.3.0-py3-none-any.whl (14 kB)\r\n",
      "Downloading kiwisolver-1.4.8-cp310-cp310-manylinux_2_12_x86_64.manylinux2010_x86_64.whl (1.6 MB)\r\n",
      "\u001b[2K   \u001b[90m━━━━━━━━━━━━━━━━━━━━━━━━━━━━━━━━━━━━━━━━\u001b[0m \u001b[32m1.6/1.6 MB\u001b[0m \u001b[31m22.8 MB/s\u001b[0m eta \u001b[36m0:00:00\u001b[0m\r\n",
      "\u001b[?25hDownloading packaging-24.2-py3-none-any.whl (65 kB)\r\n",
      "\u001b[2K   \u001b[90m━━━━━━━━━━━━━━━━━━━━━━━━━━━━━━━━━━━━━━━━\u001b[0m \u001b[32m65.5/65.5 kB\u001b[0m \u001b[31m2.9 MB/s\u001b[0m eta \u001b[36m0:00:00\u001b[0m\r\n",
      "\u001b[?25hDownloading pillow-11.1.0-cp310-cp310-manylinux_2_28_x86_64.whl (4.5 MB)\r\n",
      "\u001b[2K   \u001b[90m━━━━━━━━━━━━━━━━━━━━━━━━━━━━━━━━━━━━━━━━\u001b[0m \u001b[32m4.5/4.5 MB\u001b[0m \u001b[31m27.1 MB/s\u001b[0m eta \u001b[36m0:00:00\u001b[0m\r\n",
      "\u001b[?25hDownloading pyparsing-3.2.1-py3-none-any.whl (107 kB)\r\n",
      "\u001b[2K   \u001b[90m━━━━━━━━━━━━━━━━━━━━━━━━━━━━━━━━━━━━━━━━\u001b[0m \u001b[32m107.7/107.7 kB\u001b[0m \u001b[31m6.1 MB/s\u001b[0m eta \u001b[36m0:00:00\u001b[0m\r\n",
      "\u001b[?25hDownloading python_dateutil-2.9.0.post0-py2.py3-none-any.whl (229 kB)\r\n",
      "\u001b[2K   \u001b[90m━━━━━━━━━━━━━━━━━━━━━━━━━━━━━━━━━━━━━━━━\u001b[0m \u001b[32m229.9/229.9 kB\u001b[0m \u001b[31m11.4 MB/s\u001b[0m eta \u001b[36m0:00:00\u001b[0m\r\n",
      "\u001b[?25hDownloading pytz-2024.2-py2.py3-none-any.whl (508 kB)\r\n",
      "\u001b[2K   \u001b[90m━━━━━━━━━━━━━━━━━━━━━━━━━━━━━━━━━━━━━━━━\u001b[0m \u001b[32m508.0/508.0 kB\u001b[0m \u001b[31m14.1 MB/s\u001b[0m eta \u001b[36m0:00:00\u001b[0m\r\n",
      "\u001b[?25hDownloading typing_extensions-4.12.2-py3-none-any.whl (37 kB)\r\n",
      "Downloading tzdata-2024.2-py2.py3-none-any.whl (346 kB)\r\n",
      "\u001b[2K   \u001b[90m━━━━━━━━━━━━━━━━━━━━━━━━━━━━━━━━━━━━━━━━\u001b[0m \u001b[32m346.6/346.6 kB\u001b[0m \u001b[31m14.4 MB/s\u001b[0m eta \u001b[36m0:00:00\u001b[0m\r\n",
      "\u001b[?25hDownloading wrapt-1.17.1-cp310-cp310-manylinux_2_5_x86_64.manylinux1_x86_64.manylinux_2_17_x86_64.manylinux2014_x86_64.whl (82 kB)\r\n",
      "\u001b[2K   \u001b[90m━━━━━━━━━━━━━━━━━━━━━━━━━━━━━━━━━━━━━━━━\u001b[0m \u001b[32m82.8/82.8 kB\u001b[0m \u001b[31m4.5 MB/s\u001b[0m eta \u001b[36m0:00:00\u001b[0m\r\n",
      "\u001b[?25hDownloading six-1.17.0-py2.py3-none-any.whl (11 kB)\r\n",
      "Saved ./lifelines-0.30.0-py3-none-any.whl\r\n",
      "Saved ./autograd-1.7.0-py3-none-any.whl\r\n",
      "Saved ./autograd-gamma-0.5.0.tar.gz\r\n",
      "Saved ./formulaic-1.1.1-py3-none-any.whl\r\n",
      "Saved ./matplotlib-3.10.0-cp310-cp310-manylinux_2_17_x86_64.manylinux2014_x86_64.whl\r\n",
      "Saved ./numpy-2.2.1-cp310-cp310-manylinux_2_17_x86_64.manylinux2014_x86_64.whl\r\n",
      "Saved ./pandas-2.2.3-cp310-cp310-manylinux_2_17_x86_64.manylinux2014_x86_64.whl\r\n",
      "Saved ./scipy-1.15.1-cp310-cp310-manylinux_2_17_x86_64.manylinux2014_x86_64.whl\r\n",
      "Saved ./contourpy-1.3.1-cp310-cp310-manylinux_2_17_x86_64.manylinux2014_x86_64.whl\r\n",
      "Saved ./cycler-0.12.1-py3-none-any.whl\r\n",
      "Saved ./fonttools-4.55.3-cp310-cp310-manylinux_2_17_x86_64.manylinux2014_x86_64.whl\r\n",
      "Saved ./interface_meta-1.3.0-py3-none-any.whl\r\n",
      "Saved ./kiwisolver-1.4.8-cp310-cp310-manylinux_2_12_x86_64.manylinux2010_x86_64.whl\r\n",
      "Saved ./packaging-24.2-py3-none-any.whl\r\n",
      "Saved ./pillow-11.1.0-cp310-cp310-manylinux_2_28_x86_64.whl\r\n",
      "Saved ./pyparsing-3.2.1-py3-none-any.whl\r\n",
      "Saved ./python_dateutil-2.9.0.post0-py2.py3-none-any.whl\r\n",
      "Saved ./pytz-2024.2-py2.py3-none-any.whl\r\n",
      "Saved ./typing_extensions-4.12.2-py3-none-any.whl\r\n",
      "Saved ./tzdata-2024.2-py2.py3-none-any.whl\r\n",
      "Saved ./wrapt-1.17.1-cp310-cp310-manylinux_2_5_x86_64.manylinux1_x86_64.manylinux_2_17_x86_64.manylinux2014_x86_64.whl\r\n",
      "Saved ./six-1.17.0-py2.py3-none-any.whl\r\n",
      "Successfully downloaded lifelines autograd autograd-gamma formulaic matplotlib numpy pandas scipy contourpy cycler fonttools interface-meta kiwisolver packaging pillow pyparsing python-dateutil pytz typing-extensions tzdata wrapt six\r\n"
     ]
    }
   ],
   "source": [
    "!pip download lifelines"
   ]
  },
  {
   "cell_type": "code",
   "execution_count": 3,
   "id": "ed63f850",
   "metadata": {
    "execution": {
     "iopub.execute_input": "2025-01-11T08:14:52.123998Z",
     "iopub.status.busy": "2025-01-11T08:14:52.123610Z",
     "iopub.status.idle": "2025-01-11T08:14:57.501507Z",
     "shell.execute_reply": "2025-01-11T08:14:57.500483Z"
    },
    "papermill": {
     "duration": 5.39722,
     "end_time": "2025-01-11T08:14:57.503311",
     "exception": false,
     "start_time": "2025-01-11T08:14:52.106091",
     "status": "completed"
    },
    "tags": []
   },
   "outputs": [
    {
     "name": "stdout",
     "output_type": "stream",
     "text": [
      "Requirement already satisfied: scikit-learn in /usr/local/lib/python3.10/dist-packages (1.2.2)\r\n",
      "Requirement already satisfied: numpy>=1.17.3 in /usr/local/lib/python3.10/dist-packages (from scikit-learn) (1.26.4)\r\n",
      "Requirement already satisfied: scipy>=1.3.2 in /usr/local/lib/python3.10/dist-packages (from scikit-learn) (1.13.1)\r\n",
      "Requirement already satisfied: joblib>=1.1.1 in /usr/local/lib/python3.10/dist-packages (from scikit-learn) (1.4.2)\r\n",
      "Requirement already satisfied: threadpoolctl>=2.0.0 in /usr/local/lib/python3.10/dist-packages (from scikit-learn) (3.5.0)\r\n"
     ]
    }
   ],
   "source": [
    "!pip install scikit-learn\n",
    "\n",
    "from sklearn import metrics"
   ]
  },
  {
   "cell_type": "code",
   "execution_count": 4,
   "id": "d8783d6d",
   "metadata": {
    "execution": {
     "iopub.execute_input": "2025-01-11T08:14:57.537064Z",
     "iopub.status.busy": "2025-01-11T08:14:57.536532Z",
     "iopub.status.idle": "2025-01-11T08:14:58.882100Z",
     "shell.execute_reply": "2025-01-11T08:14:58.880922Z"
    },
    "papermill": {
     "duration": 1.364401,
     "end_time": "2025-01-11T08:14:58.884005",
     "exception": false,
     "start_time": "2025-01-11T08:14:57.519604",
     "status": "completed"
    },
    "tags": []
   },
   "outputs": [
    {
     "name": "stdout",
     "output_type": "stream",
     "text": [
      "Requirement already satisfied: pandas in /usr/local/lib/python3.10/dist-packages (2.1.4)\r\n",
      "\u001b[31mERROR: Could not find a version that satisfies the requirement as (from versions: none)\u001b[0m\u001b[31m\r\n",
      "\u001b[0m\u001b[31mERROR: No matching distribution found for as\u001b[0m\u001b[31m\r\n",
      "\u001b[0m"
     ]
    }
   ],
   "source": [
    "!pip install pandas as pd"
   ]
  },
  {
   "cell_type": "code",
   "execution_count": 5,
   "id": "e489df17",
   "metadata": {
    "execution": {
     "iopub.execute_input": "2025-01-11T08:14:58.919309Z",
     "iopub.status.busy": "2025-01-11T08:14:58.918927Z",
     "iopub.status.idle": "2025-01-11T08:14:59.824567Z",
     "shell.execute_reply": "2025-01-11T08:14:59.823622Z"
    },
    "papermill": {
     "duration": 0.92594,
     "end_time": "2025-01-11T08:14:59.826538",
     "exception": false,
     "start_time": "2025-01-11T08:14:58.900598",
     "status": "completed"
    },
    "tags": []
   },
   "outputs": [],
   "source": [
    "import pandas as pd\n",
    "import numpy as np\n",
    "from sklearn.model_selection import train_test_split, StratifiedKFold, KFold\n",
    "from sklearn.ensemble import GradientBoostingClassifier, GradientBoostingRegressor\n",
    "from sklearn.impute import SimpleImputer\n",
    "from sklearn.preprocessing import StandardScaler, OneHotEncoder\n",
    "from sklearn.compose import ColumnTransformer\n",
    "from sklearn.pipeline import Pipeline\n",
    "from lifelines.utils import concordance_index\n",
    "from lifelines import KaplanMeierFitter"
   ]
  },
  {
   "cell_type": "code",
   "execution_count": 6,
   "id": "9fb6562b",
   "metadata": {
    "execution": {
     "iopub.execute_input": "2025-01-11T08:14:59.860450Z",
     "iopub.status.busy": "2025-01-11T08:14:59.859927Z",
     "iopub.status.idle": "2025-01-11T08:15:00.054557Z",
     "shell.execute_reply": "2025-01-11T08:15:00.053628Z"
    },
    "papermill": {
     "duration": 0.213482,
     "end_time": "2025-01-11T08:15:00.056442",
     "exception": false,
     "start_time": "2025-01-11T08:14:59.842960",
     "status": "completed"
    },
    "tags": []
   },
   "outputs": [],
   "source": [
    "\n",
    "import plotly.io as pio\n",
    "pio.renderers.default = 'iframe'\n",
    "pd.options.display.max_columns = None "
   ]
  },
  {
   "cell_type": "code",
   "execution_count": 7,
   "id": "9ab7ae00",
   "metadata": {
    "execution": {
     "iopub.execute_input": "2025-01-11T08:15:00.089974Z",
     "iopub.status.busy": "2025-01-11T08:15:00.089620Z",
     "iopub.status.idle": "2025-01-11T08:15:00.093698Z",
     "shell.execute_reply": "2025-01-11T08:15:00.092723Z"
    },
    "papermill": {
     "duration": 0.022274,
     "end_time": "2025-01-11T08:15:00.095124",
     "exception": false,
     "start_time": "2025-01-11T08:15:00.072850",
     "status": "completed"
    },
    "tags": []
   },
   "outputs": [],
   "source": [
    "from sklearn.pipeline import Pipeline\n",
    "from sklearn.impute import SimpleImputer\n",
    "from sklearn.preprocessing import StandardScaler"
   ]
  },
  {
   "cell_type": "code",
   "execution_count": 8,
   "id": "4e29efcf",
   "metadata": {
    "execution": {
     "iopub.execute_input": "2025-01-11T08:15:00.128420Z",
     "iopub.status.busy": "2025-01-11T08:15:00.128035Z",
     "iopub.status.idle": "2025-01-11T08:15:00.518466Z",
     "shell.execute_reply": "2025-01-11T08:15:00.517574Z"
    },
    "papermill": {
     "duration": 0.408966,
     "end_time": "2025-01-11T08:15:00.520200",
     "exception": false,
     "start_time": "2025-01-11T08:15:00.111234",
     "status": "completed"
    },
    "tags": []
   },
   "outputs": [],
   "source": [
    "# Import dataset (df0)\n",
    "df0=pd.read_csv('/kaggle/input/equity-post-HCT-survival-predictions/train.csv')"
   ]
  },
  {
   "cell_type": "code",
   "execution_count": 9,
   "id": "df0cb329",
   "metadata": {
    "execution": {
     "iopub.execute_input": "2025-01-11T08:15:00.553647Z",
     "iopub.status.busy": "2025-01-11T08:15:00.553247Z",
     "iopub.status.idle": "2025-01-11T08:15:00.575000Z",
     "shell.execute_reply": "2025-01-11T08:15:00.574102Z"
    },
    "papermill": {
     "duration": 0.040316,
     "end_time": "2025-01-11T08:15:00.576823",
     "exception": false,
     "start_time": "2025-01-11T08:15:00.536507",
     "status": "completed"
    },
    "tags": []
   },
   "outputs": [],
   "source": [
    "df = df0.drop('ID', axis=1)"
   ]
  },
  {
   "cell_type": "markdown",
   "id": "fa2dabf1",
   "metadata": {
    "papermill": {
     "duration": 0.015605,
     "end_time": "2025-01-11T08:15:00.608502",
     "exception": false,
     "start_time": "2025-01-11T08:15:00.592897",
     "status": "completed"
    },
    "tags": []
   },
   "source": [
    "#### KaplanMeierFitter()\n",
    "_The KaplanMeierFitter_ is a tool from the lifelines library in Python used for survival analysis. It allows you to create Kaplan-Meier estimates, which are used to estimate the survival function from lifetime data.  \n",
    "It's a class provided by the lifelines library, which makes it easier to fit and plot survival curves."
   ]
  },
  {
   "cell_type": "code",
   "execution_count": 10,
   "id": "6f691fa8",
   "metadata": {
    "execution": {
     "iopub.execute_input": "2025-01-11T08:15:00.641640Z",
     "iopub.status.busy": "2025-01-11T08:15:00.641253Z",
     "iopub.status.idle": "2025-01-11T08:15:00.704221Z",
     "shell.execute_reply": "2025-01-11T08:15:00.703352Z"
    },
    "papermill": {
     "duration": 0.081558,
     "end_time": "2025-01-11T08:15:00.706041",
     "exception": false,
     "start_time": "2025-01-11T08:15:00.624483",
     "status": "completed"
    },
    "tags": []
   },
   "outputs": [],
   "source": [
    "# Combining 2 target variables (efs and efs_time) into One Target- \n",
    "\n",
    "def kaplan(data=df, time_col = 'efs_time', event_col='efs'):\n",
    "    \n",
    "    kmf = KaplanMeierFitter()\n",
    "    kmf.fit(data[time_col], event_observed=data[event_col])\n",
    "    return kmf.survival_function_at_times(df[time_col]).values.flatten()\n",
    "\n",
    "\n",
    "df['target'] = kaplan(data=df)"
   ]
  },
  {
   "cell_type": "code",
   "execution_count": 11,
   "id": "acc7cbb4",
   "metadata": {
    "execution": {
     "iopub.execute_input": "2025-01-11T08:15:00.739475Z",
     "iopub.status.busy": "2025-01-11T08:15:00.739099Z",
     "iopub.status.idle": "2025-01-11T08:15:00.745299Z",
     "shell.execute_reply": "2025-01-11T08:15:00.744504Z"
    },
    "papermill": {
     "duration": 0.024851,
     "end_time": "2025-01-11T08:15:00.747066",
     "exception": false,
     "start_time": "2025-01-11T08:15:00.722215",
     "status": "completed"
    },
    "tags": []
   },
   "outputs": [
    {
     "data": {
      "text/plain": [
       "(28800, 60)"
      ]
     },
     "execution_count": 11,
     "metadata": {},
     "output_type": "execute_result"
    }
   ],
   "source": [
    "df.shape"
   ]
  },
  {
   "cell_type": "code",
   "execution_count": 12,
   "id": "d4987378",
   "metadata": {
    "execution": {
     "iopub.execute_input": "2025-01-11T08:15:00.782046Z",
     "iopub.status.busy": "2025-01-11T08:15:00.781720Z",
     "iopub.status.idle": "2025-01-11T08:15:00.795289Z",
     "shell.execute_reply": "2025-01-11T08:15:00.794387Z"
    },
    "papermill": {
     "duration": 0.033713,
     "end_time": "2025-01-11T08:15:00.797090",
     "exception": false,
     "start_time": "2025-01-11T08:15:00.763377",
     "status": "completed"
    },
    "tags": []
   },
   "outputs": [],
   "source": [
    "df = df.drop(columns=['efs', 'efs_time'], errors='ignore')"
   ]
  },
  {
   "cell_type": "code",
   "execution_count": 13,
   "id": "56a2faee",
   "metadata": {
    "execution": {
     "iopub.execute_input": "2025-01-11T08:15:00.830369Z",
     "iopub.status.busy": "2025-01-11T08:15:00.829991Z",
     "iopub.status.idle": "2025-01-11T08:15:01.042769Z",
     "shell.execute_reply": "2025-01-11T08:15:01.041662Z"
    },
    "papermill": {
     "duration": 0.231512,
     "end_time": "2025-01-11T08:15:01.044636",
     "exception": false,
     "start_time": "2025-01-11T08:15:00.813124",
     "status": "completed"
    },
    "tags": []
   },
   "outputs": [
    {
     "data": {
      "text/plain": [
       "Series([], dtype: bool)"
      ]
     },
     "execution_count": 13,
     "metadata": {},
     "output_type": "execute_result"
    }
   ],
   "source": [
    "df.duplicated()[df.duplicated()==True]\n",
    "    #> No duplicates found"
   ]
  },
  {
   "cell_type": "markdown",
   "id": "48151c4f",
   "metadata": {
    "papermill": {
     "duration": 0.016263,
     "end_time": "2025-01-11T08:15:01.077135",
     "exception": false,
     "start_time": "2025-01-11T08:15:01.060872",
     "status": "completed"
    },
    "tags": []
   },
   "source": [
    "## Handling Missing Variables"
   ]
  },
  {
   "cell_type": "code",
   "execution_count": 14,
   "id": "862c9478",
   "metadata": {
    "execution": {
     "iopub.execute_input": "2025-01-11T08:15:01.111179Z",
     "iopub.status.busy": "2025-01-11T08:15:01.110825Z",
     "iopub.status.idle": "2025-01-11T08:15:01.806696Z",
     "shell.execute_reply": "2025-01-11T08:15:01.805759Z"
    },
    "papermill": {
     "duration": 0.714612,
     "end_time": "2025-01-11T08:15:01.808560",
     "exception": false,
     "start_time": "2025-01-11T08:15:01.093948",
     "status": "completed"
    },
    "tags": []
   },
   "outputs": [],
   "source": [
    "for col in df.select_dtypes(include='object').columns:\n",
    "       df[col] = df[col].str.strip().str.lower().replace(\n",
    "        {'n/a': None, 'na': None, 'nan': None, '-': None})"
   ]
  },
  {
   "cell_type": "code",
   "execution_count": 15,
   "id": "a403ac08",
   "metadata": {
    "execution": {
     "iopub.execute_input": "2025-01-11T08:15:01.844649Z",
     "iopub.status.busy": "2025-01-11T08:15:01.844310Z",
     "iopub.status.idle": "2025-01-11T08:15:01.852307Z",
     "shell.execute_reply": "2025-01-11T08:15:01.851342Z"
    },
    "papermill": {
     "duration": 0.028711,
     "end_time": "2025-01-11T08:15:01.854009",
     "exception": false,
     "start_time": "2025-01-11T08:15:01.825298",
     "status": "completed"
    },
    "tags": []
   },
   "outputs": [],
   "source": [
    "# cat_vars\n",
    "cat_vars = [var for var in df.columns if df[var].dtype == \"O\"]\n",
    "\n",
    "# num_vars\n",
    "num_vars= [var for var in df.columns if df[var].dtype != \"O\" and var != 'target']"
   ]
  },
  {
   "cell_type": "code",
   "execution_count": 16,
   "id": "428ebe1a",
   "metadata": {
    "execution": {
     "iopub.execute_input": "2025-01-11T08:15:01.890140Z",
     "iopub.status.busy": "2025-01-11T08:15:01.889804Z",
     "iopub.status.idle": "2025-01-11T08:15:01.896224Z",
     "shell.execute_reply": "2025-01-11T08:15:01.895049Z"
    },
    "papermill": {
     "duration": 0.025764,
     "end_time": "2025-01-11T08:15:01.897846",
     "exception": false,
     "start_time": "2025-01-11T08:15:01.872082",
     "status": "completed"
    },
    "tags": []
   },
   "outputs": [
    {
     "name": "stdout",
     "output_type": "stream",
     "text": [
      "cat_vars:  ['dri_score', 'psych_disturb', 'cyto_score', 'diabetes', 'tbi_status', 'arrhythmia', 'graft_type', 'vent_hist', 'renal_issue', 'pulm_severe', 'prim_disease_hct', 'cmv_status', 'tce_imm_match', 'rituximab', 'prod_type', 'cyto_score_detail', 'conditioning_intensity', 'ethnicity', 'obesity', 'mrd_hct', 'in_vivo_tcd', 'tce_match', 'hepatic_severe', 'prior_tumor', 'peptic_ulcer', 'gvhd_proph', 'rheum_issue', 'sex_match', 'race_group', 'hepatic_mild', 'tce_div_match', 'donor_related', 'melphalan_dose', 'cardiac', 'pulm_moderate'] \n",
      "\n",
      "num_vars:  ['hla_match_c_high', 'hla_high_res_8', 'hla_low_res_6', 'hla_high_res_6', 'hla_high_res_10', 'hla_match_dqb1_high', 'hla_nmdp_6', 'hla_match_c_low', 'hla_match_drb1_low', 'hla_match_dqb1_low', 'year_hct', 'hla_match_a_high', 'donor_age', 'hla_match_b_low', 'age_at_hct', 'hla_match_a_low', 'hla_match_b_high', 'comorbidity_score', 'karnofsky_score', 'hla_low_res_8', 'hla_match_drb1_high', 'hla_low_res_10']\n"
     ]
    }
   ],
   "source": [
    "print('cat_vars: ',cat_vars,'\\n')\n",
    "print('num_vars: ',num_vars )\n",
    "\n",
    "# Note that target is num_var"
   ]
  },
  {
   "cell_type": "code",
   "execution_count": 17,
   "id": "3c06d4ff",
   "metadata": {
    "execution": {
     "iopub.execute_input": "2025-01-11T08:15:01.934604Z",
     "iopub.status.busy": "2025-01-11T08:15:01.934224Z",
     "iopub.status.idle": "2025-01-11T08:15:01.979614Z",
     "shell.execute_reply": "2025-01-11T08:15:01.978582Z"
    },
    "papermill": {
     "duration": 0.065878,
     "end_time": "2025-01-11T08:15:01.981458",
     "exception": false,
     "start_time": "2025-01-11T08:15:01.915580",
     "status": "completed"
    },
    "tags": []
   },
   "outputs": [],
   "source": [
    "# Filling missing values for numerical columns with their median except target column\n",
    "df[num_vars] = df[num_vars].fillna(df[num_vars].median())"
   ]
  },
  {
   "cell_type": "code",
   "execution_count": 18,
   "id": "5fe44af4",
   "metadata": {
    "execution": {
     "iopub.execute_input": "2025-01-11T08:15:02.017229Z",
     "iopub.status.busy": "2025-01-11T08:15:02.016846Z",
     "iopub.status.idle": "2025-01-11T08:15:02.336990Z",
     "shell.execute_reply": "2025-01-11T08:15:02.336100Z"
    },
    "papermill": {
     "duration": 0.340404,
     "end_time": "2025-01-11T08:15:02.338845",
     "exception": false,
     "start_time": "2025-01-11T08:15:01.998441",
     "status": "completed"
    },
    "tags": []
   },
   "outputs": [],
   "source": [
    "# Filling missing values for categorical columns with their mode\n",
    "df[cat_vars] = df[cat_vars].apply(\n",
    "    lambda col: col.fillna(col.mode()[0] if not col.mode().empty else 'unknown'))"
   ]
  },
  {
   "cell_type": "code",
   "execution_count": 19,
   "id": "428d699c",
   "metadata": {
    "execution": {
     "iopub.execute_input": "2025-01-11T08:15:02.374797Z",
     "iopub.status.busy": "2025-01-11T08:15:02.374397Z",
     "iopub.status.idle": "2025-01-11T08:15:02.475311Z",
     "shell.execute_reply": "2025-01-11T08:15:02.474247Z"
    },
    "papermill": {
     "duration": 0.120433,
     "end_time": "2025-01-11T08:15:02.477222",
     "exception": false,
     "start_time": "2025-01-11T08:15:02.356789",
     "status": "completed"
    },
    "tags": []
   },
   "outputs": [],
   "source": [
    "# Factorise Categorical vars - \n",
    "for i in df[cat_vars]:\n",
    "    df[i], _ = pd.factorize(df[i])"
   ]
  },
  {
   "cell_type": "code",
   "execution_count": 20,
   "id": "2e740ad1",
   "metadata": {
    "execution": {
     "iopub.execute_input": "2025-01-11T08:15:02.511454Z",
     "iopub.status.busy": "2025-01-11T08:15:02.511075Z",
     "iopub.status.idle": "2025-01-11T08:15:02.551424Z",
     "shell.execute_reply": "2025-01-11T08:15:02.550390Z"
    },
    "papermill": {
     "duration": 0.059124,
     "end_time": "2025-01-11T08:15:02.552993",
     "exception": false,
     "start_time": "2025-01-11T08:15:02.493869",
     "status": "completed"
    },
    "tags": []
   },
   "outputs": [
    {
     "data": {
      "text/html": [
       "<div>\n",
       "<style scoped>\n",
       "    .dataframe tbody tr th:only-of-type {\n",
       "        vertical-align: middle;\n",
       "    }\n",
       "\n",
       "    .dataframe tbody tr th {\n",
       "        vertical-align: top;\n",
       "    }\n",
       "\n",
       "    .dataframe thead th {\n",
       "        text-align: right;\n",
       "    }\n",
       "</style>\n",
       "<table border=\"1\" class=\"dataframe\">\n",
       "  <thead>\n",
       "    <tr style=\"text-align: right;\">\n",
       "      <th></th>\n",
       "      <th>dri_score</th>\n",
       "      <th>psych_disturb</th>\n",
       "      <th>cyto_score</th>\n",
       "      <th>diabetes</th>\n",
       "      <th>hla_match_c_high</th>\n",
       "      <th>hla_high_res_8</th>\n",
       "      <th>tbi_status</th>\n",
       "      <th>arrhythmia</th>\n",
       "      <th>hla_low_res_6</th>\n",
       "      <th>graft_type</th>\n",
       "      <th>vent_hist</th>\n",
       "      <th>renal_issue</th>\n",
       "      <th>pulm_severe</th>\n",
       "      <th>prim_disease_hct</th>\n",
       "      <th>hla_high_res_6</th>\n",
       "      <th>cmv_status</th>\n",
       "      <th>hla_high_res_10</th>\n",
       "      <th>hla_match_dqb1_high</th>\n",
       "      <th>tce_imm_match</th>\n",
       "      <th>hla_nmdp_6</th>\n",
       "      <th>hla_match_c_low</th>\n",
       "      <th>rituximab</th>\n",
       "      <th>hla_match_drb1_low</th>\n",
       "      <th>hla_match_dqb1_low</th>\n",
       "      <th>prod_type</th>\n",
       "      <th>cyto_score_detail</th>\n",
       "      <th>conditioning_intensity</th>\n",
       "      <th>ethnicity</th>\n",
       "      <th>year_hct</th>\n",
       "      <th>obesity</th>\n",
       "      <th>mrd_hct</th>\n",
       "      <th>in_vivo_tcd</th>\n",
       "      <th>tce_match</th>\n",
       "      <th>hla_match_a_high</th>\n",
       "      <th>hepatic_severe</th>\n",
       "      <th>donor_age</th>\n",
       "      <th>prior_tumor</th>\n",
       "      <th>hla_match_b_low</th>\n",
       "      <th>peptic_ulcer</th>\n",
       "      <th>age_at_hct</th>\n",
       "      <th>hla_match_a_low</th>\n",
       "      <th>gvhd_proph</th>\n",
       "      <th>rheum_issue</th>\n",
       "      <th>sex_match</th>\n",
       "      <th>hla_match_b_high</th>\n",
       "      <th>race_group</th>\n",
       "      <th>comorbidity_score</th>\n",
       "      <th>karnofsky_score</th>\n",
       "      <th>hepatic_mild</th>\n",
       "      <th>tce_div_match</th>\n",
       "      <th>donor_related</th>\n",
       "      <th>melphalan_dose</th>\n",
       "      <th>hla_low_res_8</th>\n",
       "      <th>cardiac</th>\n",
       "      <th>hla_match_drb1_high</th>\n",
       "      <th>pulm_moderate</th>\n",
       "      <th>hla_low_res_10</th>\n",
       "      <th>target</th>\n",
       "    </tr>\n",
       "  </thead>\n",
       "  <tbody>\n",
       "    <tr>\n",
       "      <th>0</th>\n",
       "      <td>0</td>\n",
       "      <td>0</td>\n",
       "      <td>0</td>\n",
       "      <td>0</td>\n",
       "      <td>2.0</td>\n",
       "      <td>8.0</td>\n",
       "      <td>0</td>\n",
       "      <td>0</td>\n",
       "      <td>6.0</td>\n",
       "      <td>0</td>\n",
       "      <td>0</td>\n",
       "      <td>0</td>\n",
       "      <td>0</td>\n",
       "      <td>0</td>\n",
       "      <td>6.0</td>\n",
       "      <td>0</td>\n",
       "      <td>10.0</td>\n",
       "      <td>2.0</td>\n",
       "      <td>0</td>\n",
       "      <td>6.0</td>\n",
       "      <td>2.0</td>\n",
       "      <td>0</td>\n",
       "      <td>2.0</td>\n",
       "      <td>2.0</td>\n",
       "      <td>0</td>\n",
       "      <td>0</td>\n",
       "      <td>0</td>\n",
       "      <td>0</td>\n",
       "      <td>2016</td>\n",
       "      <td>0</td>\n",
       "      <td>0</td>\n",
       "      <td>0</td>\n",
       "      <td>0</td>\n",
       "      <td>2.0</td>\n",
       "      <td>0</td>\n",
       "      <td>40.063</td>\n",
       "      <td>0</td>\n",
       "      <td>2.0</td>\n",
       "      <td>0</td>\n",
       "      <td>9.942</td>\n",
       "      <td>2.0</td>\n",
       "      <td>0</td>\n",
       "      <td>0</td>\n",
       "      <td>0</td>\n",
       "      <td>2.0</td>\n",
       "      <td>0</td>\n",
       "      <td>0.0</td>\n",
       "      <td>90.0</td>\n",
       "      <td>0</td>\n",
       "      <td>0</td>\n",
       "      <td>0</td>\n",
       "      <td>0</td>\n",
       "      <td>8.0</td>\n",
       "      <td>0</td>\n",
       "      <td>2.0</td>\n",
       "      <td>0</td>\n",
       "      <td>10.0</td>\n",
       "      <td>0.458687</td>\n",
       "    </tr>\n",
       "    <tr>\n",
       "      <th>1</th>\n",
       "      <td>1</td>\n",
       "      <td>0</td>\n",
       "      <td>1</td>\n",
       "      <td>0</td>\n",
       "      <td>2.0</td>\n",
       "      <td>8.0</td>\n",
       "      <td>1</td>\n",
       "      <td>0</td>\n",
       "      <td>6.0</td>\n",
       "      <td>1</td>\n",
       "      <td>0</td>\n",
       "      <td>0</td>\n",
       "      <td>0</td>\n",
       "      <td>1</td>\n",
       "      <td>6.0</td>\n",
       "      <td>0</td>\n",
       "      <td>10.0</td>\n",
       "      <td>2.0</td>\n",
       "      <td>0</td>\n",
       "      <td>6.0</td>\n",
       "      <td>2.0</td>\n",
       "      <td>0</td>\n",
       "      <td>2.0</td>\n",
       "      <td>2.0</td>\n",
       "      <td>1</td>\n",
       "      <td>0</td>\n",
       "      <td>0</td>\n",
       "      <td>0</td>\n",
       "      <td>2008</td>\n",
       "      <td>0</td>\n",
       "      <td>1</td>\n",
       "      <td>1</td>\n",
       "      <td>0</td>\n",
       "      <td>2.0</td>\n",
       "      <td>0</td>\n",
       "      <td>72.290</td>\n",
       "      <td>0</td>\n",
       "      <td>2.0</td>\n",
       "      <td>0</td>\n",
       "      <td>43.705</td>\n",
       "      <td>2.0</td>\n",
       "      <td>1</td>\n",
       "      <td>0</td>\n",
       "      <td>1</td>\n",
       "      <td>2.0</td>\n",
       "      <td>1</td>\n",
       "      <td>3.0</td>\n",
       "      <td>90.0</td>\n",
       "      <td>0</td>\n",
       "      <td>0</td>\n",
       "      <td>1</td>\n",
       "      <td>0</td>\n",
       "      <td>8.0</td>\n",
       "      <td>0</td>\n",
       "      <td>2.0</td>\n",
       "      <td>1</td>\n",
       "      <td>10.0</td>\n",
       "      <td>0.847759</td>\n",
       "    </tr>\n",
       "    <tr>\n",
       "      <th>2</th>\n",
       "      <td>0</td>\n",
       "      <td>0</td>\n",
       "      <td>0</td>\n",
       "      <td>0</td>\n",
       "      <td>2.0</td>\n",
       "      <td>8.0</td>\n",
       "      <td>0</td>\n",
       "      <td>0</td>\n",
       "      <td>6.0</td>\n",
       "      <td>0</td>\n",
       "      <td>0</td>\n",
       "      <td>0</td>\n",
       "      <td>0</td>\n",
       "      <td>2</td>\n",
       "      <td>6.0</td>\n",
       "      <td>0</td>\n",
       "      <td>10.0</td>\n",
       "      <td>2.0</td>\n",
       "      <td>0</td>\n",
       "      <td>6.0</td>\n",
       "      <td>2.0</td>\n",
       "      <td>0</td>\n",
       "      <td>2.0</td>\n",
       "      <td>2.0</td>\n",
       "      <td>0</td>\n",
       "      <td>0</td>\n",
       "      <td>0</td>\n",
       "      <td>0</td>\n",
       "      <td>2019</td>\n",
       "      <td>0</td>\n",
       "      <td>0</td>\n",
       "      <td>0</td>\n",
       "      <td>0</td>\n",
       "      <td>2.0</td>\n",
       "      <td>0</td>\n",
       "      <td>40.063</td>\n",
       "      <td>0</td>\n",
       "      <td>2.0</td>\n",
       "      <td>0</td>\n",
       "      <td>33.997</td>\n",
       "      <td>2.0</td>\n",
       "      <td>2</td>\n",
       "      <td>0</td>\n",
       "      <td>2</td>\n",
       "      <td>2.0</td>\n",
       "      <td>0</td>\n",
       "      <td>0.0</td>\n",
       "      <td>90.0</td>\n",
       "      <td>0</td>\n",
       "      <td>0</td>\n",
       "      <td>1</td>\n",
       "      <td>0</td>\n",
       "      <td>8.0</td>\n",
       "      <td>0</td>\n",
       "      <td>2.0</td>\n",
       "      <td>0</td>\n",
       "      <td>10.0</td>\n",
       "      <td>0.462424</td>\n",
       "    </tr>\n",
       "    <tr>\n",
       "      <th>3</th>\n",
       "      <td>2</td>\n",
       "      <td>0</td>\n",
       "      <td>1</td>\n",
       "      <td>0</td>\n",
       "      <td>2.0</td>\n",
       "      <td>8.0</td>\n",
       "      <td>0</td>\n",
       "      <td>0</td>\n",
       "      <td>6.0</td>\n",
       "      <td>0</td>\n",
       "      <td>0</td>\n",
       "      <td>0</td>\n",
       "      <td>0</td>\n",
       "      <td>3</td>\n",
       "      <td>6.0</td>\n",
       "      <td>0</td>\n",
       "      <td>10.0</td>\n",
       "      <td>2.0</td>\n",
       "      <td>0</td>\n",
       "      <td>6.0</td>\n",
       "      <td>2.0</td>\n",
       "      <td>0</td>\n",
       "      <td>2.0</td>\n",
       "      <td>2.0</td>\n",
       "      <td>0</td>\n",
       "      <td>0</td>\n",
       "      <td>0</td>\n",
       "      <td>0</td>\n",
       "      <td>2009</td>\n",
       "      <td>0</td>\n",
       "      <td>1</td>\n",
       "      <td>1</td>\n",
       "      <td>0</td>\n",
       "      <td>2.0</td>\n",
       "      <td>0</td>\n",
       "      <td>29.230</td>\n",
       "      <td>0</td>\n",
       "      <td>2.0</td>\n",
       "      <td>0</td>\n",
       "      <td>43.245</td>\n",
       "      <td>2.0</td>\n",
       "      <td>3</td>\n",
       "      <td>0</td>\n",
       "      <td>3</td>\n",
       "      <td>2.0</td>\n",
       "      <td>2</td>\n",
       "      <td>0.0</td>\n",
       "      <td>90.0</td>\n",
       "      <td>1</td>\n",
       "      <td>0</td>\n",
       "      <td>0</td>\n",
       "      <td>0</td>\n",
       "      <td>8.0</td>\n",
       "      <td>0</td>\n",
       "      <td>2.0</td>\n",
       "      <td>0</td>\n",
       "      <td>10.0</td>\n",
       "      <td>0.456661</td>\n",
       "    </tr>\n",
       "    <tr>\n",
       "      <th>4</th>\n",
       "      <td>2</td>\n",
       "      <td>0</td>\n",
       "      <td>0</td>\n",
       "      <td>0</td>\n",
       "      <td>2.0</td>\n",
       "      <td>8.0</td>\n",
       "      <td>0</td>\n",
       "      <td>0</td>\n",
       "      <td>6.0</td>\n",
       "      <td>1</td>\n",
       "      <td>0</td>\n",
       "      <td>0</td>\n",
       "      <td>0</td>\n",
       "      <td>4</td>\n",
       "      <td>6.0</td>\n",
       "      <td>0</td>\n",
       "      <td>10.0</td>\n",
       "      <td>2.0</td>\n",
       "      <td>0</td>\n",
       "      <td>5.0</td>\n",
       "      <td>2.0</td>\n",
       "      <td>0</td>\n",
       "      <td>2.0</td>\n",
       "      <td>2.0</td>\n",
       "      <td>1</td>\n",
       "      <td>0</td>\n",
       "      <td>0</td>\n",
       "      <td>1</td>\n",
       "      <td>2018</td>\n",
       "      <td>0</td>\n",
       "      <td>0</td>\n",
       "      <td>0</td>\n",
       "      <td>0</td>\n",
       "      <td>2.0</td>\n",
       "      <td>0</td>\n",
       "      <td>56.810</td>\n",
       "      <td>0</td>\n",
       "      <td>2.0</td>\n",
       "      <td>0</td>\n",
       "      <td>29.740</td>\n",
       "      <td>2.0</td>\n",
       "      <td>4</td>\n",
       "      <td>0</td>\n",
       "      <td>0</td>\n",
       "      <td>2.0</td>\n",
       "      <td>3</td>\n",
       "      <td>1.0</td>\n",
       "      <td>90.0</td>\n",
       "      <td>0</td>\n",
       "      <td>0</td>\n",
       "      <td>1</td>\n",
       "      <td>1</td>\n",
       "      <td>8.0</td>\n",
       "      <td>0</td>\n",
       "      <td>2.0</td>\n",
       "      <td>0</td>\n",
       "      <td>10.0</td>\n",
       "      <td>0.464674</td>\n",
       "    </tr>\n",
       "  </tbody>\n",
       "</table>\n",
       "</div>"
      ],
      "text/plain": [
       "   dri_score  psych_disturb  cyto_score  diabetes  hla_match_c_high  \\\n",
       "0          0              0           0         0               2.0   \n",
       "1          1              0           1         0               2.0   \n",
       "2          0              0           0         0               2.0   \n",
       "3          2              0           1         0               2.0   \n",
       "4          2              0           0         0               2.0   \n",
       "\n",
       "   hla_high_res_8  tbi_status  arrhythmia  hla_low_res_6  graft_type  \\\n",
       "0             8.0           0           0            6.0           0   \n",
       "1             8.0           1           0            6.0           1   \n",
       "2             8.0           0           0            6.0           0   \n",
       "3             8.0           0           0            6.0           0   \n",
       "4             8.0           0           0            6.0           1   \n",
       "\n",
       "   vent_hist  renal_issue  pulm_severe  prim_disease_hct  hla_high_res_6  \\\n",
       "0          0            0            0                 0             6.0   \n",
       "1          0            0            0                 1             6.0   \n",
       "2          0            0            0                 2             6.0   \n",
       "3          0            0            0                 3             6.0   \n",
       "4          0            0            0                 4             6.0   \n",
       "\n",
       "   cmv_status  hla_high_res_10  hla_match_dqb1_high  tce_imm_match  \\\n",
       "0           0             10.0                  2.0              0   \n",
       "1           0             10.0                  2.0              0   \n",
       "2           0             10.0                  2.0              0   \n",
       "3           0             10.0                  2.0              0   \n",
       "4           0             10.0                  2.0              0   \n",
       "\n",
       "   hla_nmdp_6  hla_match_c_low  rituximab  hla_match_drb1_low  \\\n",
       "0         6.0              2.0          0                 2.0   \n",
       "1         6.0              2.0          0                 2.0   \n",
       "2         6.0              2.0          0                 2.0   \n",
       "3         6.0              2.0          0                 2.0   \n",
       "4         5.0              2.0          0                 2.0   \n",
       "\n",
       "   hla_match_dqb1_low  prod_type  cyto_score_detail  conditioning_intensity  \\\n",
       "0                 2.0          0                  0                       0   \n",
       "1                 2.0          1                  0                       0   \n",
       "2                 2.0          0                  0                       0   \n",
       "3                 2.0          0                  0                       0   \n",
       "4                 2.0          1                  0                       0   \n",
       "\n",
       "   ethnicity  year_hct  obesity  mrd_hct  in_vivo_tcd  tce_match  \\\n",
       "0          0      2016        0        0            0          0   \n",
       "1          0      2008        0        1            1          0   \n",
       "2          0      2019        0        0            0          0   \n",
       "3          0      2009        0        1            1          0   \n",
       "4          1      2018        0        0            0          0   \n",
       "\n",
       "   hla_match_a_high  hepatic_severe  donor_age  prior_tumor  hla_match_b_low  \\\n",
       "0               2.0               0     40.063            0              2.0   \n",
       "1               2.0               0     72.290            0              2.0   \n",
       "2               2.0               0     40.063            0              2.0   \n",
       "3               2.0               0     29.230            0              2.0   \n",
       "4               2.0               0     56.810            0              2.0   \n",
       "\n",
       "   peptic_ulcer  age_at_hct  hla_match_a_low  gvhd_proph  rheum_issue  \\\n",
       "0             0       9.942              2.0           0            0   \n",
       "1             0      43.705              2.0           1            0   \n",
       "2             0      33.997              2.0           2            0   \n",
       "3             0      43.245              2.0           3            0   \n",
       "4             0      29.740              2.0           4            0   \n",
       "\n",
       "   sex_match  hla_match_b_high  race_group  comorbidity_score  \\\n",
       "0          0               2.0           0                0.0   \n",
       "1          1               2.0           1                3.0   \n",
       "2          2               2.0           0                0.0   \n",
       "3          3               2.0           2                0.0   \n",
       "4          0               2.0           3                1.0   \n",
       "\n",
       "   karnofsky_score  hepatic_mild  tce_div_match  donor_related  \\\n",
       "0             90.0             0              0              0   \n",
       "1             90.0             0              0              1   \n",
       "2             90.0             0              0              1   \n",
       "3             90.0             1              0              0   \n",
       "4             90.0             0              0              1   \n",
       "\n",
       "   melphalan_dose  hla_low_res_8  cardiac  hla_match_drb1_high  pulm_moderate  \\\n",
       "0               0            8.0        0                  2.0              0   \n",
       "1               0            8.0        0                  2.0              1   \n",
       "2               0            8.0        0                  2.0              0   \n",
       "3               0            8.0        0                  2.0              0   \n",
       "4               1            8.0        0                  2.0              0   \n",
       "\n",
       "   hla_low_res_10    target  \n",
       "0            10.0  0.458687  \n",
       "1            10.0  0.847759  \n",
       "2            10.0  0.462424  \n",
       "3            10.0  0.456661  \n",
       "4            10.0  0.464674  "
      ]
     },
     "execution_count": 20,
     "metadata": {},
     "output_type": "execute_result"
    }
   ],
   "source": [
    "pd.set_option('display.max_columns', None)\n",
    "\n",
    "df.head()"
   ]
  },
  {
   "cell_type": "markdown",
   "id": "d1857b83",
   "metadata": {
    "papermill": {
     "duration": 0.016378,
     "end_time": "2025-01-11T08:15:02.586326",
     "exception": false,
     "start_time": "2025-01-11T08:15:02.569948",
     "status": "completed"
    },
    "tags": []
   },
   "source": [
    "## Correlation"
   ]
  },
  {
   "cell_type": "code",
   "execution_count": 21,
   "id": "521a06cf",
   "metadata": {
    "execution": {
     "iopub.execute_input": "2025-01-11T08:15:02.621759Z",
     "iopub.status.busy": "2025-01-11T08:15:02.621423Z",
     "iopub.status.idle": "2025-01-11T08:15:02.709077Z",
     "shell.execute_reply": "2025-01-11T08:15:02.708020Z"
    },
    "papermill": {
     "duration": 0.108149,
     "end_time": "2025-01-11T08:15:02.711004",
     "exception": false,
     "start_time": "2025-01-11T08:15:02.602855",
     "status": "completed"
    },
    "tags": []
   },
   "outputs": [
    {
     "name": "stdout",
     "output_type": "stream",
     "text": [
      "Correlation for  dri_score  =  -0.015663222896883162\n",
      "Correlation for  psych_disturb  =  0.0445884478144293\n",
      "Correlation for  cyto_score  =  0.005200974001809842\n",
      "Correlation for  diabetes  =  0.06472635931119704\n",
      "Correlation for  hla_match_c_high  =  -0.012607743434186506\n",
      "Correlation for  hla_high_res_8  =  -0.021272383826416604\n",
      "Correlation for  tbi_status  =  0.03962863015684236\n",
      "Correlation for  arrhythmia  =  0.05401029510435935\n",
      "Correlation for  hla_low_res_6  =  -0.01637095516160984\n",
      "Correlation for  graft_type  =  0.14554016971025033\n",
      "Correlation for  vent_hist  =  0.008114302625674821\n",
      "Correlation for  renal_issue  =  -0.0014354737125927305\n",
      "Correlation for  pulm_severe  =  0.08856949096233102\n",
      "Correlation for  prim_disease_hct  =  0.022227791379227767\n",
      "Correlation for  hla_high_res_6  =  -0.022485941112610923\n",
      "Correlation for  cmv_status  =  -0.04700236873073342\n",
      "Correlation for  hla_high_res_10  =  -0.014870926680981769\n",
      "Correlation for  hla_match_dqb1_high  =  -0.011014935896483587\n",
      "Correlation for  tce_imm_match  =  -0.010223102154939436\n",
      "Correlation for  hla_nmdp_6  =  -0.02775666653336865\n",
      "Correlation for  hla_match_c_low  =  -0.025543142112158065\n",
      "Correlation for  rituximab  =  -0.0007278326299850066\n",
      "Correlation for  hla_match_drb1_low  =  0.007730898334987154\n",
      "Correlation for  hla_match_dqb1_low  =  -0.003497582990192846\n",
      "Correlation for  prod_type  =  0.14779783679594405\n",
      "Correlation for  cyto_score_detail  =  0.1433940065306735\n",
      "Correlation for  conditioning_intensity  =  0.10732563049417022\n",
      "Correlation for  ethnicity  =  -0.022388609044774216\n",
      "Correlation for  year_hct  =  -0.028695826775622848\n",
      "Correlation for  obesity  =  0.03074833082517407\n",
      "Correlation for  mrd_hct  =  -0.008842078678669884\n",
      "Correlation for  in_vivo_tcd  =  0.07006714037528944\n",
      "Correlation for  tce_match  =  0.003539940343421233\n",
      "Correlation for  hla_match_a_high  =  -0.0375720230187408\n",
      "Correlation for  hepatic_severe  =  -0.04789906664682709\n",
      "Correlation for  donor_age  =  0.0508395880982666\n",
      "Correlation for  prior_tumor  =  0.04599486098127646\n",
      "Correlation for  hla_match_b_low  =  -0.009862467785865716\n",
      "Correlation for  peptic_ulcer  =  -0.00937345492741115\n",
      "Correlation for  age_at_hct  =  0.15831520426166\n",
      "Correlation for  hla_match_a_low  =  -0.038003931155751604\n",
      "Correlation for  gvhd_proph  =  -0.03124104267503382\n",
      "Correlation for  rheum_issue  =  -0.017908544146560016\n",
      "Correlation for  sex_match  =  -0.01436595926484298\n",
      "Correlation for  hla_match_b_high  =  -0.02668134098954301\n",
      "Correlation for  race_group  =  0.04629366456303323\n",
      "Correlation for  comorbidity_score  =  0.19505665800257938\n",
      "Correlation for  karnofsky_score  =  -0.1418953974639729\n",
      "Correlation for  hepatic_mild  =  -0.0012755681469293822\n",
      "Correlation for  tce_div_match  =  -0.00542926207357832\n",
      "Correlation for  donor_related  =  -0.04116835919870321\n",
      "Correlation for  melphalan_dose  =  0.007489996142651538\n",
      "Correlation for  hla_low_res_8  =  -0.019737133983262746\n",
      "Correlation for  cardiac  =  0.0755601291542598\n",
      "Correlation for  hla_match_drb1_high  =  0.007931542185053056\n",
      "Correlation for  pulm_moderate  =  0.05266960546521714\n",
      "Correlation for  hla_low_res_10  =  -0.013714686454559095\n"
     ]
    }
   ],
   "source": [
    "# Get list of feature columns (excluding target)\n",
    "\n",
    "X = [col for col in df.columns if col != 'target']\n",
    "\n",
    "for feature in X:\n",
    "    correlation = df[feature].corr(df[\"target\"])\n",
    "    print('Correlation for ', feature, ' = ',correlation)"
   ]
  },
  {
   "cell_type": "markdown",
   "id": "6836c145",
   "metadata": {
    "papermill": {
     "duration": 0.016535,
     "end_time": "2025-01-11T08:15:02.744596",
     "exception": false,
     "start_time": "2025-01-11T08:15:02.728061",
     "status": "completed"
    },
    "tags": []
   },
   "source": [
    "## K Fold Validation"
   ]
  },
  {
   "cell_type": "code",
   "execution_count": 22,
   "id": "856c6b10",
   "metadata": {
    "execution": {
     "iopub.execute_input": "2025-01-11T08:15:02.779646Z",
     "iopub.status.busy": "2025-01-11T08:15:02.779144Z",
     "iopub.status.idle": "2025-01-11T08:15:02.793099Z",
     "shell.execute_reply": "2025-01-11T08:15:02.792239Z"
    },
    "papermill": {
     "duration": 0.033572,
     "end_time": "2025-01-11T08:15:02.794888",
     "exception": false,
     "start_time": "2025-01-11T08:15:02.761316",
     "status": "completed"
    },
    "tags": []
   },
   "outputs": [],
   "source": [
    "df1=df0.copy()"
   ]
  },
  {
   "cell_type": "code",
   "execution_count": 23,
   "id": "a5e708b7",
   "metadata": {
    "execution": {
     "iopub.execute_input": "2025-01-11T08:15:02.842755Z",
     "iopub.status.busy": "2025-01-11T08:15:02.842291Z",
     "iopub.status.idle": "2025-01-11T08:15:02.847747Z",
     "shell.execute_reply": "2025-01-11T08:15:02.846730Z"
    },
    "papermill": {
     "duration": 0.030199,
     "end_time": "2025-01-11T08:15:02.849552",
     "exception": false,
     "start_time": "2025-01-11T08:15:02.819353",
     "status": "completed"
    },
    "tags": []
   },
   "outputs": [],
   "source": [
    "df1['target']=df['target']"
   ]
  },
  {
   "cell_type": "code",
   "execution_count": 24,
   "id": "4ee31848",
   "metadata": {
    "execution": {
     "iopub.execute_input": "2025-01-11T08:15:02.894522Z",
     "iopub.status.busy": "2025-01-11T08:15:02.894136Z",
     "iopub.status.idle": "2025-01-11T08:15:02.911214Z",
     "shell.execute_reply": "2025-01-11T08:15:02.910355Z"
    },
    "papermill": {
     "duration": 0.040011,
     "end_time": "2025-01-11T08:15:02.912902",
     "exception": false,
     "start_time": "2025-01-11T08:15:02.872891",
     "status": "completed"
    },
    "tags": []
   },
   "outputs": [],
   "source": [
    "# Define features and target\n",
    "X1 = df1.drop(columns=['efs', 'efs_time', 'ID', 'target', 'rituximab'], errors='ignore')\n",
    "target = df1['target']"
   ]
  },
  {
   "cell_type": "code",
   "execution_count": 25,
   "id": "1ca7f595",
   "metadata": {
    "execution": {
     "iopub.execute_input": "2025-01-11T08:15:02.948084Z",
     "iopub.status.busy": "2025-01-11T08:15:02.947713Z",
     "iopub.status.idle": "2025-01-11T08:15:02.964935Z",
     "shell.execute_reply": "2025-01-11T08:15:02.963974Z"
    },
    "papermill": {
     "duration": 0.03685,
     "end_time": "2025-01-11T08:15:02.966716",
     "exception": false,
     "start_time": "2025-01-11T08:15:02.929866",
     "status": "completed"
    },
    "tags": []
   },
   "outputs": [],
   "source": [
    "# Identify categorical and numerical columns\n",
    "cat_vars1 = X1.select_dtypes(include=['object']).columns\n",
    "num_vars1 = X1.select_dtypes(include=['int64', 'float64']).columns"
   ]
  },
  {
   "cell_type": "code",
   "execution_count": 26,
   "id": "8f7766b7",
   "metadata": {
    "execution": {
     "iopub.execute_input": "2025-01-11T08:15:03.002052Z",
     "iopub.status.busy": "2025-01-11T08:15:03.001663Z",
     "iopub.status.idle": "2025-01-11T08:15:03.006121Z",
     "shell.execute_reply": "2025-01-11T08:15:03.005104Z"
    },
    "papermill": {
     "duration": 0.024016,
     "end_time": "2025-01-11T08:15:03.007754",
     "exception": false,
     "start_time": "2025-01-11T08:15:02.983738",
     "status": "completed"
    },
    "tags": []
   },
   "outputs": [],
   "source": [
    "# Preprocessing for numerical data: Imputation and Scaling\n",
    "numerical_transformer = Pipeline(steps=[\n",
    "    ('imputer', SimpleImputer(strategy='mean')),\n",
    "    ('scaler', StandardScaler())\n",
    "])"
   ]
  },
  {
   "cell_type": "code",
   "execution_count": 27,
   "id": "637ff05e",
   "metadata": {
    "execution": {
     "iopub.execute_input": "2025-01-11T08:15:03.043245Z",
     "iopub.status.busy": "2025-01-11T08:15:03.042865Z",
     "iopub.status.idle": "2025-01-11T08:15:03.047311Z",
     "shell.execute_reply": "2025-01-11T08:15:03.046186Z"
    },
    "papermill": {
     "duration": 0.023892,
     "end_time": "2025-01-11T08:15:03.048908",
     "exception": false,
     "start_time": "2025-01-11T08:15:03.025016",
     "status": "completed"
    },
    "tags": []
   },
   "outputs": [],
   "source": [
    "from sklearn.preprocessing import OneHotEncoder"
   ]
  },
  {
   "cell_type": "code",
   "execution_count": 28,
   "id": "cdac69f0",
   "metadata": {
    "execution": {
     "iopub.execute_input": "2025-01-11T08:15:03.084911Z",
     "iopub.status.busy": "2025-01-11T08:15:03.084529Z",
     "iopub.status.idle": "2025-01-11T08:15:03.089047Z",
     "shell.execute_reply": "2025-01-11T08:15:03.087978Z"
    },
    "papermill": {
     "duration": 0.023972,
     "end_time": "2025-01-11T08:15:03.090661",
     "exception": false,
     "start_time": "2025-01-11T08:15:03.066689",
     "status": "completed"
    },
    "tags": []
   },
   "outputs": [],
   "source": [
    "# Preprocessing for categorical data: Imputation and One-Hot Encoding\n",
    "categorical_transformer = Pipeline(steps=[\n",
    "    ('imputer', SimpleImputer(strategy='most_frequent')),\n",
    "    ('onehot', OneHotEncoder(handle_unknown='ignore'))\n",
    "])"
   ]
  },
  {
   "cell_type": "code",
   "execution_count": 29,
   "id": "af02d04c",
   "metadata": {
    "execution": {
     "iopub.execute_input": "2025-01-11T08:15:03.125699Z",
     "iopub.status.busy": "2025-01-11T08:15:03.125336Z",
     "iopub.status.idle": "2025-01-11T08:15:03.129346Z",
     "shell.execute_reply": "2025-01-11T08:15:03.128354Z"
    },
    "papermill": {
     "duration": 0.023279,
     "end_time": "2025-01-11T08:15:03.130967",
     "exception": false,
     "start_time": "2025-01-11T08:15:03.107688",
     "status": "completed"
    },
    "tags": []
   },
   "outputs": [],
   "source": [
    "from sklearn.compose import ColumnTransformer"
   ]
  },
  {
   "cell_type": "code",
   "execution_count": 30,
   "id": "eb2e9654",
   "metadata": {
    "execution": {
     "iopub.execute_input": "2025-01-11T08:15:03.166027Z",
     "iopub.status.busy": "2025-01-11T08:15:03.165666Z",
     "iopub.status.idle": "2025-01-11T08:15:03.169913Z",
     "shell.execute_reply": "2025-01-11T08:15:03.168988Z"
    },
    "papermill": {
     "duration": 0.023669,
     "end_time": "2025-01-11T08:15:03.171448",
     "exception": false,
     "start_time": "2025-01-11T08:15:03.147779",
     "status": "completed"
    },
    "tags": []
   },
   "outputs": [],
   "source": [
    "# Combine preprocessors in a column transformer\n",
    "preprocessor = ColumnTransformer(\n",
    "    transformers=[\n",
    "        ('num', numerical_transformer, num_vars1),\n",
    "        ('cat', categorical_transformer, cat_vars1)\n",
    "    ]\n",
    ")"
   ]
  },
  {
   "cell_type": "markdown",
   "id": "c15eca12",
   "metadata": {
    "papermill": {
     "duration": 0.016371,
     "end_time": "2025-01-11T08:15:03.204868",
     "exception": false,
     "start_time": "2025-01-11T08:15:03.188497",
     "status": "completed"
    },
    "tags": []
   },
   "source": [
    "## Create Model Pipeline"
   ]
  },
  {
   "cell_type": "code",
   "execution_count": 31,
   "id": "b3478ede",
   "metadata": {
    "execution": {
     "iopub.execute_input": "2025-01-11T08:15:03.239991Z",
     "iopub.status.busy": "2025-01-11T08:15:03.239637Z",
     "iopub.status.idle": "2025-01-11T08:15:03.243771Z",
     "shell.execute_reply": "2025-01-11T08:15:03.242905Z"
    },
    "papermill": {
     "duration": 0.023587,
     "end_time": "2025-01-11T08:15:03.245435",
     "exception": false,
     "start_time": "2025-01-11T08:15:03.221848",
     "status": "completed"
    },
    "tags": []
   },
   "outputs": [],
   "source": [
    "from sklearn.ensemble import GradientBoostingRegressor"
   ]
  },
  {
   "cell_type": "code",
   "execution_count": 32,
   "id": "5584adf0",
   "metadata": {
    "execution": {
     "iopub.execute_input": "2025-01-11T08:15:03.281351Z",
     "iopub.status.busy": "2025-01-11T08:15:03.280903Z",
     "iopub.status.idle": "2025-01-11T08:15:03.285842Z",
     "shell.execute_reply": "2025-01-11T08:15:03.284773Z"
    },
    "papermill": {
     "duration": 0.024623,
     "end_time": "2025-01-11T08:15:03.287544",
     "exception": false,
     "start_time": "2025-01-11T08:15:03.262921",
     "status": "completed"
    },
    "tags": []
   },
   "outputs": [],
   "source": [
    "# Create the model pipeline\n",
    "model = Pipeline(steps=[\n",
    "    ('preprocessor', preprocessor),\n",
    "    ('classifier', GradientBoostingRegressor(random_state=42))\n",
    "])"
   ]
  },
  {
   "cell_type": "code",
   "execution_count": 33,
   "id": "f8bb538b",
   "metadata": {
    "execution": {
     "iopub.execute_input": "2025-01-11T08:15:03.322803Z",
     "iopub.status.busy": "2025-01-11T08:15:03.322427Z",
     "iopub.status.idle": "2025-01-11T08:15:03.326457Z",
     "shell.execute_reply": "2025-01-11T08:15:03.325531Z"
    },
    "papermill": {
     "duration": 0.023365,
     "end_time": "2025-01-11T08:15:03.328017",
     "exception": false,
     "start_time": "2025-01-11T08:15:03.304652",
     "status": "completed"
    },
    "tags": []
   },
   "outputs": [],
   "source": [
    "from lifelines.utils import concordance_index"
   ]
  },
  {
   "cell_type": "code",
   "execution_count": 34,
   "id": "4004a303",
   "metadata": {
    "execution": {
     "iopub.execute_input": "2025-01-11T08:15:03.363475Z",
     "iopub.status.busy": "2025-01-11T08:15:03.363074Z",
     "iopub.status.idle": "2025-01-11T08:15:21.770893Z",
     "shell.execute_reply": "2025-01-11T08:15:21.769661Z"
    },
    "papermill": {
     "duration": 18.427623,
     "end_time": "2025-01-11T08:15:21.772739",
     "exception": false,
     "start_time": "2025-01-11T08:15:03.345116",
     "status": "completed"
    },
    "tags": []
   },
   "outputs": [
    {
     "name": "stdout",
     "output_type": "stream",
     "text": [
      "Mean Stratified C-Index: 0.6321\n"
     ]
    }
   ],
   "source": [
    "kf = KFold(n_splits=5, shuffle=True, random_state=42)\n",
    "c_indices = []\n",
    "\n",
    "for train_index, val_index in kf.split(X1):\n",
    "    X_train, X_val = X1.iloc[train_index], X1.iloc[val_index]\n",
    "    y_train, y_val = target.iloc[train_index], target.iloc[val_index]\n",
    "\n",
    "# Fit the model\n",
    "model.fit(X_train, y_train)\n",
    "\n",
    "# Predict probabilities\n",
    "val_probabilities = model.predict(X_val)\n",
    "\n",
    "# Calculate C-index\n",
    "c_index = concordance_index(y_val, val_probabilities)\n",
    "c_indices.append(c_index)\n",
    "\n",
    "print(f\"Mean Stratified C-Index: {np.mean(c_indices):.4f}\")\n",
    "    "
   ]
  },
  {
   "cell_type": "code",
   "execution_count": 35,
   "id": "8ae69ca9",
   "metadata": {
    "execution": {
     "iopub.execute_input": "2025-01-11T08:15:21.808624Z",
     "iopub.status.busy": "2025-01-11T08:15:21.808229Z",
     "iopub.status.idle": "2025-01-11T08:15:44.155549Z",
     "shell.execute_reply": "2025-01-11T08:15:44.154486Z"
    },
    "papermill": {
     "duration": 22.367185,
     "end_time": "2025-01-11T08:15:44.157511",
     "exception": false,
     "start_time": "2025-01-11T08:15:21.790326",
     "status": "completed"
    },
    "tags": []
   },
   "outputs": [
    {
     "data": {
      "text/html": [
       "<style>#sk-container-id-1 {color: black;background-color: white;}#sk-container-id-1 pre{padding: 0;}#sk-container-id-1 div.sk-toggleable {background-color: white;}#sk-container-id-1 label.sk-toggleable__label {cursor: pointer;display: block;width: 100%;margin-bottom: 0;padding: 0.3em;box-sizing: border-box;text-align: center;}#sk-container-id-1 label.sk-toggleable__label-arrow:before {content: \"▸\";float: left;margin-right: 0.25em;color: #696969;}#sk-container-id-1 label.sk-toggleable__label-arrow:hover:before {color: black;}#sk-container-id-1 div.sk-estimator:hover label.sk-toggleable__label-arrow:before {color: black;}#sk-container-id-1 div.sk-toggleable__content {max-height: 0;max-width: 0;overflow: hidden;text-align: left;background-color: #f0f8ff;}#sk-container-id-1 div.sk-toggleable__content pre {margin: 0.2em;color: black;border-radius: 0.25em;background-color: #f0f8ff;}#sk-container-id-1 input.sk-toggleable__control:checked~div.sk-toggleable__content {max-height: 200px;max-width: 100%;overflow: auto;}#sk-container-id-1 input.sk-toggleable__control:checked~label.sk-toggleable__label-arrow:before {content: \"▾\";}#sk-container-id-1 div.sk-estimator input.sk-toggleable__control:checked~label.sk-toggleable__label {background-color: #d4ebff;}#sk-container-id-1 div.sk-label input.sk-toggleable__control:checked~label.sk-toggleable__label {background-color: #d4ebff;}#sk-container-id-1 input.sk-hidden--visually {border: 0;clip: rect(1px 1px 1px 1px);clip: rect(1px, 1px, 1px, 1px);height: 1px;margin: -1px;overflow: hidden;padding: 0;position: absolute;width: 1px;}#sk-container-id-1 div.sk-estimator {font-family: monospace;background-color: #f0f8ff;border: 1px dotted black;border-radius: 0.25em;box-sizing: border-box;margin-bottom: 0.5em;}#sk-container-id-1 div.sk-estimator:hover {background-color: #d4ebff;}#sk-container-id-1 div.sk-parallel-item::after {content: \"\";width: 100%;border-bottom: 1px solid gray;flex-grow: 1;}#sk-container-id-1 div.sk-label:hover label.sk-toggleable__label {background-color: #d4ebff;}#sk-container-id-1 div.sk-serial::before {content: \"\";position: absolute;border-left: 1px solid gray;box-sizing: border-box;top: 0;bottom: 0;left: 50%;z-index: 0;}#sk-container-id-1 div.sk-serial {display: flex;flex-direction: column;align-items: center;background-color: white;padding-right: 0.2em;padding-left: 0.2em;position: relative;}#sk-container-id-1 div.sk-item {position: relative;z-index: 1;}#sk-container-id-1 div.sk-parallel {display: flex;align-items: stretch;justify-content: center;background-color: white;position: relative;}#sk-container-id-1 div.sk-item::before, #sk-container-id-1 div.sk-parallel-item::before {content: \"\";position: absolute;border-left: 1px solid gray;box-sizing: border-box;top: 0;bottom: 0;left: 50%;z-index: -1;}#sk-container-id-1 div.sk-parallel-item {display: flex;flex-direction: column;z-index: 1;position: relative;background-color: white;}#sk-container-id-1 div.sk-parallel-item:first-child::after {align-self: flex-end;width: 50%;}#sk-container-id-1 div.sk-parallel-item:last-child::after {align-self: flex-start;width: 50%;}#sk-container-id-1 div.sk-parallel-item:only-child::after {width: 0;}#sk-container-id-1 div.sk-dashed-wrapped {border: 1px dashed gray;margin: 0 0.4em 0.5em 0.4em;box-sizing: border-box;padding-bottom: 0.4em;background-color: white;}#sk-container-id-1 div.sk-label label {font-family: monospace;font-weight: bold;display: inline-block;line-height: 1.2em;}#sk-container-id-1 div.sk-label-container {text-align: center;}#sk-container-id-1 div.sk-container {/* jupyter's `normalize.less` sets `[hidden] { display: none; }` but bootstrap.min.css set `[hidden] { display: none !important; }` so we also need the `!important` here to be able to override the default hidden behavior on the sphinx rendered scikit-learn.org. See: https://github.com/scikit-learn/scikit-learn/issues/21755 */display: inline-block !important;position: relative;}#sk-container-id-1 div.sk-text-repr-fallback {display: none;}</style><div id=\"sk-container-id-1\" class=\"sk-top-container\"><div class=\"sk-text-repr-fallback\"><pre>Pipeline(steps=[(&#x27;preprocessor&#x27;,\n",
       "                 ColumnTransformer(transformers=[(&#x27;num&#x27;,\n",
       "                                                  Pipeline(steps=[(&#x27;imputer&#x27;,\n",
       "                                                                   SimpleImputer()),\n",
       "                                                                  (&#x27;scaler&#x27;,\n",
       "                                                                   StandardScaler())]),\n",
       "                                                  Index([&#x27;hla_match_c_high&#x27;, &#x27;hla_high_res_8&#x27;, &#x27;hla_low_res_6&#x27;, &#x27;hla_high_res_6&#x27;,\n",
       "       &#x27;hla_high_res_10&#x27;, &#x27;hla_match_dqb1_high&#x27;, &#x27;hla_nmdp_6&#x27;,\n",
       "       &#x27;hla_match_c_low&#x27;, &#x27;hla_match_drb1_low&#x27;, &#x27;hla_match_dqb1_low&#x27;,\n",
       "       &#x27;year_hct&#x27;, &#x27;hla_...\n",
       "       &#x27;cyto_score_detail&#x27;, &#x27;conditioning_intensity&#x27;, &#x27;ethnicity&#x27;, &#x27;obesity&#x27;,\n",
       "       &#x27;mrd_hct&#x27;, &#x27;in_vivo_tcd&#x27;, &#x27;tce_match&#x27;, &#x27;hepatic_severe&#x27;, &#x27;prior_tumor&#x27;,\n",
       "       &#x27;peptic_ulcer&#x27;, &#x27;gvhd_proph&#x27;, &#x27;rheum_issue&#x27;, &#x27;sex_match&#x27;, &#x27;race_group&#x27;,\n",
       "       &#x27;hepatic_mild&#x27;, &#x27;tce_div_match&#x27;, &#x27;donor_related&#x27;, &#x27;melphalan_dose&#x27;,\n",
       "       &#x27;cardiac&#x27;, &#x27;pulm_moderate&#x27;],\n",
       "      dtype=&#x27;object&#x27;))])),\n",
       "                (&#x27;classifier&#x27;, GradientBoostingRegressor(random_state=42))])</pre><b>In a Jupyter environment, please rerun this cell to show the HTML representation or trust the notebook. <br />On GitHub, the HTML representation is unable to render, please try loading this page with nbviewer.org.</b></div><div class=\"sk-container\" hidden><div class=\"sk-item sk-dashed-wrapped\"><div class=\"sk-label-container\"><div class=\"sk-label sk-toggleable\"><input class=\"sk-toggleable__control sk-hidden--visually\" id=\"sk-estimator-id-1\" type=\"checkbox\" ><label for=\"sk-estimator-id-1\" class=\"sk-toggleable__label sk-toggleable__label-arrow\">Pipeline</label><div class=\"sk-toggleable__content\"><pre>Pipeline(steps=[(&#x27;preprocessor&#x27;,\n",
       "                 ColumnTransformer(transformers=[(&#x27;num&#x27;,\n",
       "                                                  Pipeline(steps=[(&#x27;imputer&#x27;,\n",
       "                                                                   SimpleImputer()),\n",
       "                                                                  (&#x27;scaler&#x27;,\n",
       "                                                                   StandardScaler())]),\n",
       "                                                  Index([&#x27;hla_match_c_high&#x27;, &#x27;hla_high_res_8&#x27;, &#x27;hla_low_res_6&#x27;, &#x27;hla_high_res_6&#x27;,\n",
       "       &#x27;hla_high_res_10&#x27;, &#x27;hla_match_dqb1_high&#x27;, &#x27;hla_nmdp_6&#x27;,\n",
       "       &#x27;hla_match_c_low&#x27;, &#x27;hla_match_drb1_low&#x27;, &#x27;hla_match_dqb1_low&#x27;,\n",
       "       &#x27;year_hct&#x27;, &#x27;hla_...\n",
       "       &#x27;cyto_score_detail&#x27;, &#x27;conditioning_intensity&#x27;, &#x27;ethnicity&#x27;, &#x27;obesity&#x27;,\n",
       "       &#x27;mrd_hct&#x27;, &#x27;in_vivo_tcd&#x27;, &#x27;tce_match&#x27;, &#x27;hepatic_severe&#x27;, &#x27;prior_tumor&#x27;,\n",
       "       &#x27;peptic_ulcer&#x27;, &#x27;gvhd_proph&#x27;, &#x27;rheum_issue&#x27;, &#x27;sex_match&#x27;, &#x27;race_group&#x27;,\n",
       "       &#x27;hepatic_mild&#x27;, &#x27;tce_div_match&#x27;, &#x27;donor_related&#x27;, &#x27;melphalan_dose&#x27;,\n",
       "       &#x27;cardiac&#x27;, &#x27;pulm_moderate&#x27;],\n",
       "      dtype=&#x27;object&#x27;))])),\n",
       "                (&#x27;classifier&#x27;, GradientBoostingRegressor(random_state=42))])</pre></div></div></div><div class=\"sk-serial\"><div class=\"sk-item sk-dashed-wrapped\"><div class=\"sk-label-container\"><div class=\"sk-label sk-toggleable\"><input class=\"sk-toggleable__control sk-hidden--visually\" id=\"sk-estimator-id-2\" type=\"checkbox\" ><label for=\"sk-estimator-id-2\" class=\"sk-toggleable__label sk-toggleable__label-arrow\">preprocessor: ColumnTransformer</label><div class=\"sk-toggleable__content\"><pre>ColumnTransformer(transformers=[(&#x27;num&#x27;,\n",
       "                                 Pipeline(steps=[(&#x27;imputer&#x27;, SimpleImputer()),\n",
       "                                                 (&#x27;scaler&#x27;, StandardScaler())]),\n",
       "                                 Index([&#x27;hla_match_c_high&#x27;, &#x27;hla_high_res_8&#x27;, &#x27;hla_low_res_6&#x27;, &#x27;hla_high_res_6&#x27;,\n",
       "       &#x27;hla_high_res_10&#x27;, &#x27;hla_match_dqb1_high&#x27;, &#x27;hla_nmdp_6&#x27;,\n",
       "       &#x27;hla_match_c_low&#x27;, &#x27;hla_match_drb1_low&#x27;, &#x27;hla_match_dqb1_low&#x27;,\n",
       "       &#x27;year_hct&#x27;, &#x27;hla_match_a_high&#x27;, &#x27;donor_age&#x27;, &#x27;hla_m...\n",
       "       &#x27;prim_disease_hct&#x27;, &#x27;cmv_status&#x27;, &#x27;tce_imm_match&#x27;, &#x27;prod_type&#x27;,\n",
       "       &#x27;cyto_score_detail&#x27;, &#x27;conditioning_intensity&#x27;, &#x27;ethnicity&#x27;, &#x27;obesity&#x27;,\n",
       "       &#x27;mrd_hct&#x27;, &#x27;in_vivo_tcd&#x27;, &#x27;tce_match&#x27;, &#x27;hepatic_severe&#x27;, &#x27;prior_tumor&#x27;,\n",
       "       &#x27;peptic_ulcer&#x27;, &#x27;gvhd_proph&#x27;, &#x27;rheum_issue&#x27;, &#x27;sex_match&#x27;, &#x27;race_group&#x27;,\n",
       "       &#x27;hepatic_mild&#x27;, &#x27;tce_div_match&#x27;, &#x27;donor_related&#x27;, &#x27;melphalan_dose&#x27;,\n",
       "       &#x27;cardiac&#x27;, &#x27;pulm_moderate&#x27;],\n",
       "      dtype=&#x27;object&#x27;))])</pre></div></div></div><div class=\"sk-parallel\"><div class=\"sk-parallel-item\"><div class=\"sk-item\"><div class=\"sk-label-container\"><div class=\"sk-label sk-toggleable\"><input class=\"sk-toggleable__control sk-hidden--visually\" id=\"sk-estimator-id-3\" type=\"checkbox\" ><label for=\"sk-estimator-id-3\" class=\"sk-toggleable__label sk-toggleable__label-arrow\">num</label><div class=\"sk-toggleable__content\"><pre>Index([&#x27;hla_match_c_high&#x27;, &#x27;hla_high_res_8&#x27;, &#x27;hla_low_res_6&#x27;, &#x27;hla_high_res_6&#x27;,\n",
       "       &#x27;hla_high_res_10&#x27;, &#x27;hla_match_dqb1_high&#x27;, &#x27;hla_nmdp_6&#x27;,\n",
       "       &#x27;hla_match_c_low&#x27;, &#x27;hla_match_drb1_low&#x27;, &#x27;hla_match_dqb1_low&#x27;,\n",
       "       &#x27;year_hct&#x27;, &#x27;hla_match_a_high&#x27;, &#x27;donor_age&#x27;, &#x27;hla_match_b_low&#x27;,\n",
       "       &#x27;age_at_hct&#x27;, &#x27;hla_match_a_low&#x27;, &#x27;hla_match_b_high&#x27;,\n",
       "       &#x27;comorbidity_score&#x27;, &#x27;karnofsky_score&#x27;, &#x27;hla_low_res_8&#x27;,\n",
       "       &#x27;hla_match_drb1_high&#x27;, &#x27;hla_low_res_10&#x27;],\n",
       "      dtype=&#x27;object&#x27;)</pre></div></div></div><div class=\"sk-serial\"><div class=\"sk-item\"><div class=\"sk-serial\"><div class=\"sk-item\"><div class=\"sk-estimator sk-toggleable\"><input class=\"sk-toggleable__control sk-hidden--visually\" id=\"sk-estimator-id-4\" type=\"checkbox\" ><label for=\"sk-estimator-id-4\" class=\"sk-toggleable__label sk-toggleable__label-arrow\">SimpleImputer</label><div class=\"sk-toggleable__content\"><pre>SimpleImputer()</pre></div></div></div><div class=\"sk-item\"><div class=\"sk-estimator sk-toggleable\"><input class=\"sk-toggleable__control sk-hidden--visually\" id=\"sk-estimator-id-5\" type=\"checkbox\" ><label for=\"sk-estimator-id-5\" class=\"sk-toggleable__label sk-toggleable__label-arrow\">StandardScaler</label><div class=\"sk-toggleable__content\"><pre>StandardScaler()</pre></div></div></div></div></div></div></div></div><div class=\"sk-parallel-item\"><div class=\"sk-item\"><div class=\"sk-label-container\"><div class=\"sk-label sk-toggleable\"><input class=\"sk-toggleable__control sk-hidden--visually\" id=\"sk-estimator-id-6\" type=\"checkbox\" ><label for=\"sk-estimator-id-6\" class=\"sk-toggleable__label sk-toggleable__label-arrow\">cat</label><div class=\"sk-toggleable__content\"><pre>Index([&#x27;dri_score&#x27;, &#x27;psych_disturb&#x27;, &#x27;cyto_score&#x27;, &#x27;diabetes&#x27;, &#x27;tbi_status&#x27;,\n",
       "       &#x27;arrhythmia&#x27;, &#x27;graft_type&#x27;, &#x27;vent_hist&#x27;, &#x27;renal_issue&#x27;, &#x27;pulm_severe&#x27;,\n",
       "       &#x27;prim_disease_hct&#x27;, &#x27;cmv_status&#x27;, &#x27;tce_imm_match&#x27;, &#x27;prod_type&#x27;,\n",
       "       &#x27;cyto_score_detail&#x27;, &#x27;conditioning_intensity&#x27;, &#x27;ethnicity&#x27;, &#x27;obesity&#x27;,\n",
       "       &#x27;mrd_hct&#x27;, &#x27;in_vivo_tcd&#x27;, &#x27;tce_match&#x27;, &#x27;hepatic_severe&#x27;, &#x27;prior_tumor&#x27;,\n",
       "       &#x27;peptic_ulcer&#x27;, &#x27;gvhd_proph&#x27;, &#x27;rheum_issue&#x27;, &#x27;sex_match&#x27;, &#x27;race_group&#x27;,\n",
       "       &#x27;hepatic_mild&#x27;, &#x27;tce_div_match&#x27;, &#x27;donor_related&#x27;, &#x27;melphalan_dose&#x27;,\n",
       "       &#x27;cardiac&#x27;, &#x27;pulm_moderate&#x27;],\n",
       "      dtype=&#x27;object&#x27;)</pre></div></div></div><div class=\"sk-serial\"><div class=\"sk-item\"><div class=\"sk-serial\"><div class=\"sk-item\"><div class=\"sk-estimator sk-toggleable\"><input class=\"sk-toggleable__control sk-hidden--visually\" id=\"sk-estimator-id-7\" type=\"checkbox\" ><label for=\"sk-estimator-id-7\" class=\"sk-toggleable__label sk-toggleable__label-arrow\">SimpleImputer</label><div class=\"sk-toggleable__content\"><pre>SimpleImputer(strategy=&#x27;most_frequent&#x27;)</pre></div></div></div><div class=\"sk-item\"><div class=\"sk-estimator sk-toggleable\"><input class=\"sk-toggleable__control sk-hidden--visually\" id=\"sk-estimator-id-8\" type=\"checkbox\" ><label for=\"sk-estimator-id-8\" class=\"sk-toggleable__label sk-toggleable__label-arrow\">OneHotEncoder</label><div class=\"sk-toggleable__content\"><pre>OneHotEncoder(handle_unknown=&#x27;ignore&#x27;)</pre></div></div></div></div></div></div></div></div></div></div><div class=\"sk-item\"><div class=\"sk-estimator sk-toggleable\"><input class=\"sk-toggleable__control sk-hidden--visually\" id=\"sk-estimator-id-9\" type=\"checkbox\" ><label for=\"sk-estimator-id-9\" class=\"sk-toggleable__label sk-toggleable__label-arrow\">GradientBoostingRegressor</label><div class=\"sk-toggleable__content\"><pre>GradientBoostingRegressor(random_state=42)</pre></div></div></div></div></div></div></div>"
      ],
      "text/plain": [
       "Pipeline(steps=[('preprocessor',\n",
       "                 ColumnTransformer(transformers=[('num',\n",
       "                                                  Pipeline(steps=[('imputer',\n",
       "                                                                   SimpleImputer()),\n",
       "                                                                  ('scaler',\n",
       "                                                                   StandardScaler())]),\n",
       "                                                  Index(['hla_match_c_high', 'hla_high_res_8', 'hla_low_res_6', 'hla_high_res_6',\n",
       "       'hla_high_res_10', 'hla_match_dqb1_high', 'hla_nmdp_6',\n",
       "       'hla_match_c_low', 'hla_match_drb1_low', 'hla_match_dqb1_low',\n",
       "       'year_hct', 'hla_...\n",
       "       'cyto_score_detail', 'conditioning_intensity', 'ethnicity', 'obesity',\n",
       "       'mrd_hct', 'in_vivo_tcd', 'tce_match', 'hepatic_severe', 'prior_tumor',\n",
       "       'peptic_ulcer', 'gvhd_proph', 'rheum_issue', 'sex_match', 'race_group',\n",
       "       'hepatic_mild', 'tce_div_match', 'donor_related', 'melphalan_dose',\n",
       "       'cardiac', 'pulm_moderate'],\n",
       "      dtype='object'))])),\n",
       "                ('classifier', GradientBoostingRegressor(random_state=42))])"
      ]
     },
     "execution_count": 35,
     "metadata": {},
     "output_type": "execute_result"
    }
   ],
   "source": [
    "# Train the model on the full dataset\n",
    "model.fit(X1, target)"
   ]
  },
  {
   "cell_type": "code",
   "execution_count": 36,
   "id": "72272390",
   "metadata": {
    "execution": {
     "iopub.execute_input": "2025-01-11T08:15:44.193984Z",
     "iopub.status.busy": "2025-01-11T08:15:44.193625Z",
     "iopub.status.idle": "2025-01-11T08:15:44.220425Z",
     "shell.execute_reply": "2025-01-11T08:15:44.219295Z"
    },
    "papermill": {
     "duration": 0.046912,
     "end_time": "2025-01-11T08:15:44.222155",
     "exception": false,
     "start_time": "2025-01-11T08:15:44.175243",
     "status": "completed"
    },
    "tags": []
   },
   "outputs": [
    {
     "name": "stdout",
     "output_type": "stream",
     "text": [
      "Predictions saved to submission.csv\n"
     ]
    }
   ],
   "source": [
    "# Load the test data\n",
    "test_data = pd.read_csv('/kaggle/input/equity-post-HCT-survival-predictions/test.csv')\n",
    "\n",
    "# Predict probabilities for the test dataset\n",
    "prediction = model.predict(test_data.drop(columns=['ID', 'rituximab'], errors='ignore'))\n",
    "\n",
    "# Add predictions to the test dataset\n",
    "test_data['prediction'] = prediction\n",
    "\n",
    "# Save predictions to a new CSV file\n",
    "output_file_path = 'submission.csv'\n",
    "test_data[['ID', 'prediction']].to_csv(output_file_path, index=False)\n",
    "\n",
    "print(f\"Predictions saved to {output_file_path}\")"
   ]
  },
  {
   "cell_type": "code",
   "execution_count": null,
   "id": "f3aa6ab1",
   "metadata": {
    "papermill": {
     "duration": 0.017159,
     "end_time": "2025-01-11T08:15:44.257712",
     "exception": false,
     "start_time": "2025-01-11T08:15:44.240553",
     "status": "completed"
    },
    "tags": []
   },
   "outputs": [],
   "source": []
  }
 ],
 "metadata": {
  "kaggle": {
   "accelerator": "none",
   "dataSources": [
    {
     "databundleVersionId": 10381525,
     "sourceId": 70942,
     "sourceType": "competition"
    }
   ],
   "dockerImageVersionId": 30822,
   "isGpuEnabled": false,
   "isInternetEnabled": true,
   "language": "python",
   "sourceType": "notebook"
  },
  "kernelspec": {
   "display_name": "Python 3",
   "language": "python",
   "name": "python3"
  },
  "language_info": {
   "codemirror_mode": {
    "name": "ipython",
    "version": 3
   },
   "file_extension": ".py",
   "mimetype": "text/x-python",
   "name": "python",
   "nbconvert_exporter": "python",
   "pygments_lexer": "ipython3",
   "version": "3.10.12"
  },
  "papermill": {
   "default_parameters": {},
   "duration": 91.96881,
   "end_time": "2025-01-11T08:15:44.996099",
   "environment_variables": {},
   "exception": null,
   "input_path": "__notebook__.ipynb",
   "output_path": "__notebook__.ipynb",
   "parameters": {},
   "start_time": "2025-01-11T08:14:13.027289",
   "version": "2.6.0"
  }
 },
 "nbformat": 4,
 "nbformat_minor": 5
}
