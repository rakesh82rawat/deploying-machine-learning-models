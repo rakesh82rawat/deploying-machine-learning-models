{
 "cells": [
  {
   "cell_type": "code",
   "execution_count": 1,
   "id": "0e939153",
   "metadata": {
    "_kg_hide-input": false,
    "_kg_hide-output": false,
    "execution": {
     "iopub.execute_input": "2025-01-11T10:00:44.898194Z",
     "iopub.status.busy": "2025-01-11T10:00:44.897778Z",
     "iopub.status.idle": "2025-01-11T10:01:10.811533Z",
     "shell.execute_reply": "2025-01-11T10:01:10.809737Z"
    },
    "papermill": {
     "duration": 25.926771,
     "end_time": "2025-01-11T10:01:10.813691",
     "exception": false,
     "start_time": "2025-01-11T10:00:44.886920",
     "status": "completed"
    },
    "tags": []
   },
   "outputs": [
    {
     "name": "stdout",
     "output_type": "stream",
     "text": [
      "Processing /kaggle/input/pip-install-lifelines/autograd-1.7.0-py3-none-any.whl\r\n",
      "Requirement already satisfied: numpy in /usr/local/lib/python3.10/dist-packages (from autograd==1.7.0) (1.26.4)\r\n",
      "autograd is already installed with the same version as the provided wheel. Use --force-reinstall to force an installation of the wheel.\r\n",
      "Processing /kaggle/input/pip-install-lifelines/autograd-gamma-0.5.0.tar.gz\r\n",
      "  Preparing metadata (setup.py) ... \u001b[?25l\u001b[?25hdone\r\n",
      "Requirement already satisfied: autograd>=1.2.0 in /usr/local/lib/python3.10/dist-packages (from autograd-gamma==0.5.0) (1.7.0)\r\n",
      "Requirement already satisfied: scipy>=1.2.0 in /usr/local/lib/python3.10/dist-packages (from autograd-gamma==0.5.0) (1.13.1)\r\n",
      "Requirement already satisfied: numpy in /usr/local/lib/python3.10/dist-packages (from autograd>=1.2.0->autograd-gamma==0.5.0) (1.26.4)\r\n",
      "Building wheels for collected packages: autograd-gamma\r\n",
      "  Building wheel for autograd-gamma (setup.py) ... \u001b[?25l\u001b[?25hdone\r\n",
      "  Created wheel for autograd-gamma: filename=autograd_gamma-0.5.0-py3-none-any.whl size=4031 sha256=5ee6bb3cc7573ec599755a712be0e9864cb14a4ba2dc427a30e943ba1be32232\r\n",
      "  Stored in directory: /root/.cache/pip/wheels/6b/b5/e0/4c79e15c0b5f2c15ecf613c720bb20daab20a666eb67135155\r\n",
      "Successfully built autograd-gamma\r\n",
      "Installing collected packages: autograd-gamma\r\n",
      "Successfully installed autograd-gamma-0.5.0\r\n",
      "Processing /kaggle/input/pip-install-lifelines/interface_meta-1.3.0-py3-none-any.whl\r\n",
      "Installing collected packages: interface-meta\r\n",
      "Successfully installed interface-meta-1.3.0\r\n",
      "Processing /kaggle/input/pip-install-lifelines/formulaic-1.0.2-py3-none-any.whl\r\n",
      "Requirement already satisfied: interface-meta>=1.2.0 in /usr/local/lib/python3.10/dist-packages (from formulaic==1.0.2) (1.3.0)\r\n",
      "Requirement already satisfied: numpy>=1.16.5 in /usr/local/lib/python3.10/dist-packages (from formulaic==1.0.2) (1.26.4)\r\n",
      "Requirement already satisfied: pandas>=1.0 in /usr/local/lib/python3.10/dist-packages (from formulaic==1.0.2) (2.1.4)\r\n",
      "Requirement already satisfied: scipy>=1.6 in /usr/local/lib/python3.10/dist-packages (from formulaic==1.0.2) (1.13.1)\r\n",
      "Requirement already satisfied: typing-extensions>=4.2.0 in /usr/local/lib/python3.10/dist-packages (from formulaic==1.0.2) (4.12.2)\r\n",
      "Requirement already satisfied: wrapt>=1.0 in /usr/local/lib/python3.10/dist-packages (from formulaic==1.0.2) (1.16.0)\r\n",
      "Requirement already satisfied: python-dateutil>=2.8.2 in /usr/local/lib/python3.10/dist-packages (from pandas>=1.0->formulaic==1.0.2) (2.8.2)\r\n",
      "Requirement already satisfied: pytz>=2020.1 in /usr/local/lib/python3.10/dist-packages (from pandas>=1.0->formulaic==1.0.2) (2024.2)\r\n",
      "Requirement already satisfied: tzdata>=2022.1 in /usr/local/lib/python3.10/dist-packages (from pandas>=1.0->formulaic==1.0.2) (2024.1)\r\n",
      "Requirement already satisfied: six>=1.5 in /usr/local/lib/python3.10/dist-packages (from python-dateutil>=2.8.2->pandas>=1.0->formulaic==1.0.2) (1.16.0)\r\n",
      "Installing collected packages: formulaic\r\n",
      "Successfully installed formulaic-1.0.2\r\n",
      "Processing /kaggle/input/pip-install-lifelines/lifelines-0.30.0-py3-none-any.whl\r\n",
      "Requirement already satisfied: numpy>=1.14.0 in /usr/local/lib/python3.10/dist-packages (from lifelines==0.30.0) (1.26.4)\r\n",
      "Requirement already satisfied: scipy>=1.7.0 in /usr/local/lib/python3.10/dist-packages (from lifelines==0.30.0) (1.13.1)\r\n",
      "Requirement already satisfied: pandas>=2.1 in /usr/local/lib/python3.10/dist-packages (from lifelines==0.30.0) (2.1.4)\r\n",
      "Requirement already satisfied: matplotlib>=3.0 in /usr/local/lib/python3.10/dist-packages (from lifelines==0.30.0) (3.7.1)\r\n",
      "Requirement already satisfied: autograd>=1.5 in /usr/local/lib/python3.10/dist-packages (from lifelines==0.30.0) (1.7.0)\r\n",
      "Requirement already satisfied: autograd-gamma>=0.3 in /usr/local/lib/python3.10/dist-packages (from lifelines==0.30.0) (0.5.0)\r\n",
      "Requirement already satisfied: formulaic>=0.2.2 in /usr/local/lib/python3.10/dist-packages (from lifelines==0.30.0) (1.0.2)\r\n",
      "Requirement already satisfied: interface-meta>=1.2.0 in /usr/local/lib/python3.10/dist-packages (from formulaic>=0.2.2->lifelines==0.30.0) (1.3.0)\r\n",
      "Requirement already satisfied: typing-extensions>=4.2.0 in /usr/local/lib/python3.10/dist-packages (from formulaic>=0.2.2->lifelines==0.30.0) (4.12.2)\r\n",
      "Requirement already satisfied: wrapt>=1.0 in /usr/local/lib/python3.10/dist-packages (from formulaic>=0.2.2->lifelines==0.30.0) (1.16.0)\r\n",
      "Requirement already satisfied: contourpy>=1.0.1 in /usr/local/lib/python3.10/dist-packages (from matplotlib>=3.0->lifelines==0.30.0) (1.3.0)\r\n",
      "Requirement already satisfied: cycler>=0.10 in /usr/local/lib/python3.10/dist-packages (from matplotlib>=3.0->lifelines==0.30.0) (0.12.1)\r\n",
      "Requirement already satisfied: fonttools>=4.22.0 in /usr/local/lib/python3.10/dist-packages (from matplotlib>=3.0->lifelines==0.30.0) (4.53.1)\r\n",
      "Requirement already satisfied: kiwisolver>=1.0.1 in /usr/local/lib/python3.10/dist-packages (from matplotlib>=3.0->lifelines==0.30.0) (1.4.7)\r\n",
      "Requirement already satisfied: packaging>=20.0 in /usr/local/lib/python3.10/dist-packages (from matplotlib>=3.0->lifelines==0.30.0) (24.1)\r\n",
      "Requirement already satisfied: pillow>=6.2.0 in /usr/local/lib/python3.10/dist-packages (from matplotlib>=3.0->lifelines==0.30.0) (10.4.0)\r\n",
      "Requirement already satisfied: pyparsing>=2.3.1 in /usr/local/lib/python3.10/dist-packages (from matplotlib>=3.0->lifelines==0.30.0) (3.1.4)\r\n",
      "Requirement already satisfied: python-dateutil>=2.7 in /usr/local/lib/python3.10/dist-packages (from matplotlib>=3.0->lifelines==0.30.0) (2.8.2)\r\n",
      "Requirement already satisfied: pytz>=2020.1 in /usr/local/lib/python3.10/dist-packages (from pandas>=2.1->lifelines==0.30.0) (2024.2)\r\n",
      "Requirement already satisfied: tzdata>=2022.1 in /usr/local/lib/python3.10/dist-packages (from pandas>=2.1->lifelines==0.30.0) (2024.1)\r\n",
      "Requirement already satisfied: six>=1.5 in /usr/local/lib/python3.10/dist-packages (from python-dateutil>=2.7->matplotlib>=3.0->lifelines==0.30.0) (1.16.0)\r\n",
      "Installing collected packages: lifelines\r\n",
      "Successfully installed lifelines-0.30.0\r\n"
     ]
    }
   ],
   "source": [
    " # Installations-1\n",
    "!pip install /kaggle/input/pip-install-lifelines/autograd-1.7.0-py3-none-any.whl\n",
    "!pip install /kaggle/input/pip-install-lifelines/autograd-gamma-0.5.0.tar.gz\n",
    "!pip install /kaggle/input/pip-install-lifelines/interface_meta-1.3.0-py3-none-any.whl\n",
    "!pip install /kaggle/input/pip-install-lifelines/formulaic-1.0.2-py3-none-any.whl\n",
    "!pip install /kaggle/input/pip-install-lifelines/lifelines-0.30.0-py3-none-any.whl"
   ]
  },
  {
   "cell_type": "code",
   "execution_count": 2,
   "id": "698f6edc",
   "metadata": {
    "_kg_hide-input": true,
    "_kg_hide-output": true,
    "execution": {
     "iopub.execute_input": "2025-01-11T10:01:10.834265Z",
     "iopub.status.busy": "2025-01-11T10:01:10.833830Z",
     "iopub.status.idle": "2025-01-11T10:01:10.838475Z",
     "shell.execute_reply": "2025-01-11T10:01:10.837278Z"
    },
    "papermill": {
     "duration": 0.017391,
     "end_time": "2025-01-11T10:01:10.840439",
     "exception": false,
     "start_time": "2025-01-11T10:01:10.823048",
     "status": "completed"
    },
    "tags": []
   },
   "outputs": [],
   "source": [
    "#!pip download lifelines"
   ]
  },
  {
   "cell_type": "code",
   "execution_count": 3,
   "id": "5545ac84",
   "metadata": {
    "execution": {
     "iopub.execute_input": "2025-01-11T10:01:10.859607Z",
     "iopub.status.busy": "2025-01-11T10:01:10.859206Z",
     "iopub.status.idle": "2025-01-11T10:01:12.515962Z",
     "shell.execute_reply": "2025-01-11T10:01:12.514569Z"
    },
    "papermill": {
     "duration": 1.668878,
     "end_time": "2025-01-11T10:01:12.518177",
     "exception": false,
     "start_time": "2025-01-11T10:01:10.849299",
     "status": "completed"
    },
    "tags": []
   },
   "outputs": [],
   "source": [
    "#!pip install scikit-learn\n",
    "\n",
    "from sklearn import metrics"
   ]
  },
  {
   "cell_type": "code",
   "execution_count": 4,
   "id": "91829d7d",
   "metadata": {
    "execution": {
     "iopub.execute_input": "2025-01-11T10:01:12.537509Z",
     "iopub.status.busy": "2025-01-11T10:01:12.536901Z",
     "iopub.status.idle": "2025-01-11T10:01:13.613332Z",
     "shell.execute_reply": "2025-01-11T10:01:13.612184Z"
    },
    "papermill": {
     "duration": 1.088259,
     "end_time": "2025-01-11T10:01:13.615410",
     "exception": false,
     "start_time": "2025-01-11T10:01:12.527151",
     "status": "completed"
    },
    "tags": []
   },
   "outputs": [],
   "source": [
    "import pandas as pd\n",
    "import numpy as np\n",
    "from sklearn.model_selection import train_test_split, StratifiedKFold, KFold\n",
    "from sklearn.ensemble import GradientBoostingClassifier, GradientBoostingRegressor\n",
    "from sklearn.impute import SimpleImputer\n",
    "from sklearn.preprocessing import StandardScaler, OneHotEncoder\n",
    "from sklearn.compose import ColumnTransformer\n",
    "from sklearn.pipeline import Pipeline\n",
    "from lifelines.utils import concordance_index\n",
    "from lifelines import KaplanMeierFitter"
   ]
  },
  {
   "cell_type": "code",
   "execution_count": 5,
   "id": "eeac17f3",
   "metadata": {
    "execution": {
     "iopub.execute_input": "2025-01-11T10:01:13.635973Z",
     "iopub.status.busy": "2025-01-11T10:01:13.635479Z",
     "iopub.status.idle": "2025-01-11T10:01:13.851409Z",
     "shell.execute_reply": "2025-01-11T10:01:13.850346Z"
    },
    "papermill": {
     "duration": 0.22861,
     "end_time": "2025-01-11T10:01:13.853595",
     "exception": false,
     "start_time": "2025-01-11T10:01:13.624985",
     "status": "completed"
    },
    "tags": []
   },
   "outputs": [],
   "source": [
    "\n",
    "import plotly.io as pio\n",
    "pio.renderers.default = 'iframe'\n",
    "pd.options.display.max_columns = None "
   ]
  },
  {
   "cell_type": "code",
   "execution_count": 6,
   "id": "96e9c088",
   "metadata": {
    "execution": {
     "iopub.execute_input": "2025-01-11T10:01:13.873075Z",
     "iopub.status.busy": "2025-01-11T10:01:13.872696Z",
     "iopub.status.idle": "2025-01-11T10:01:13.877192Z",
     "shell.execute_reply": "2025-01-11T10:01:13.876094Z"
    },
    "papermill": {
     "duration": 0.016052,
     "end_time": "2025-01-11T10:01:13.879154",
     "exception": false,
     "start_time": "2025-01-11T10:01:13.863102",
     "status": "completed"
    },
    "tags": []
   },
   "outputs": [],
   "source": [
    "from sklearn.pipeline import Pipeline\n",
    "from sklearn.impute import SimpleImputer\n",
    "from sklearn.preprocessing import StandardScaler"
   ]
  },
  {
   "cell_type": "code",
   "execution_count": 7,
   "id": "cf4ed703",
   "metadata": {
    "execution": {
     "iopub.execute_input": "2025-01-11T10:01:13.898867Z",
     "iopub.status.busy": "2025-01-11T10:01:13.898505Z",
     "iopub.status.idle": "2025-01-11T10:01:14.353937Z",
     "shell.execute_reply": "2025-01-11T10:01:14.352901Z"
    },
    "papermill": {
     "duration": 0.467581,
     "end_time": "2025-01-11T10:01:14.355983",
     "exception": false,
     "start_time": "2025-01-11T10:01:13.888402",
     "status": "completed"
    },
    "tags": []
   },
   "outputs": [],
   "source": [
    "# Import dataset (df0)\n",
    "df0=pd.read_csv('/kaggle/input/equity-post-HCT-survival-predictions/train.csv')"
   ]
  },
  {
   "cell_type": "code",
   "execution_count": 8,
   "id": "351e9a44",
   "metadata": {
    "execution": {
     "iopub.execute_input": "2025-01-11T10:01:14.375202Z",
     "iopub.status.busy": "2025-01-11T10:01:14.374690Z",
     "iopub.status.idle": "2025-01-11T10:01:14.403158Z",
     "shell.execute_reply": "2025-01-11T10:01:14.401837Z"
    },
    "papermill": {
     "duration": 0.040372,
     "end_time": "2025-01-11T10:01:14.405259",
     "exception": false,
     "start_time": "2025-01-11T10:01:14.364887",
     "status": "completed"
    },
    "tags": []
   },
   "outputs": [],
   "source": [
    "df = df0.drop('ID', axis=1)"
   ]
  },
  {
   "cell_type": "markdown",
   "id": "15d87d7d",
   "metadata": {
    "papermill": {
     "duration": 0.00841,
     "end_time": "2025-01-11T10:01:14.422551",
     "exception": false,
     "start_time": "2025-01-11T10:01:14.414141",
     "status": "completed"
    },
    "tags": []
   },
   "source": [
    "#### KaplanMeierFitter()\n",
    "_The KaplanMeierFitter_ is a tool from the lifelines library in Python used for survival analysis. It allows you to create Kaplan-Meier estimates, which are used to estimate the survival function from lifetime data.  \n",
    "It's a class provided by the lifelines library, which makes it easier to fit and plot survival curves."
   ]
  },
  {
   "cell_type": "code",
   "execution_count": 9,
   "id": "a4ae5d5f",
   "metadata": {
    "execution": {
     "iopub.execute_input": "2025-01-11T10:01:14.441267Z",
     "iopub.status.busy": "2025-01-11T10:01:14.440872Z",
     "iopub.status.idle": "2025-01-11T10:01:14.515032Z",
     "shell.execute_reply": "2025-01-11T10:01:14.513707Z"
    },
    "papermill": {
     "duration": 0.086052,
     "end_time": "2025-01-11T10:01:14.517224",
     "exception": false,
     "start_time": "2025-01-11T10:01:14.431172",
     "status": "completed"
    },
    "tags": []
   },
   "outputs": [],
   "source": [
    "# Combining 2 target variables (efs and efs_time) into One Target- \n",
    "\n",
    "def kaplan(data=df, time_col = 'efs_time', event_col='efs'):\n",
    "    \n",
    "    kmf = KaplanMeierFitter()\n",
    "    kmf.fit(data[time_col], event_observed=data[event_col])\n",
    "    return kmf.survival_function_at_times(df[time_col]).values.flatten()\n",
    "\n",
    "\n",
    "df['target'] = kaplan(data=df)"
   ]
  },
  {
   "cell_type": "code",
   "execution_count": 10,
   "id": "88c9d4a3",
   "metadata": {
    "execution": {
     "iopub.execute_input": "2025-01-11T10:01:14.535958Z",
     "iopub.status.busy": "2025-01-11T10:01:14.535610Z",
     "iopub.status.idle": "2025-01-11T10:01:14.542641Z",
     "shell.execute_reply": "2025-01-11T10:01:14.541476Z"
    },
    "papermill": {
     "duration": 0.018459,
     "end_time": "2025-01-11T10:01:14.544372",
     "exception": false,
     "start_time": "2025-01-11T10:01:14.525913",
     "status": "completed"
    },
    "tags": []
   },
   "outputs": [
    {
     "data": {
      "text/plain": [
       "(28800, 60)"
      ]
     },
     "execution_count": 10,
     "metadata": {},
     "output_type": "execute_result"
    }
   ],
   "source": [
    "df.shape"
   ]
  },
  {
   "cell_type": "code",
   "execution_count": 11,
   "id": "b64fd782",
   "metadata": {
    "execution": {
     "iopub.execute_input": "2025-01-11T10:01:14.565696Z",
     "iopub.status.busy": "2025-01-11T10:01:14.565267Z",
     "iopub.status.idle": "2025-01-11T10:01:14.580878Z",
     "shell.execute_reply": "2025-01-11T10:01:14.579574Z"
    },
    "papermill": {
     "duration": 0.028209,
     "end_time": "2025-01-11T10:01:14.582941",
     "exception": false,
     "start_time": "2025-01-11T10:01:14.554732",
     "status": "completed"
    },
    "tags": []
   },
   "outputs": [],
   "source": [
    "df = df.drop(columns=['efs', 'efs_time'], errors='ignore')"
   ]
  },
  {
   "cell_type": "code",
   "execution_count": 12,
   "id": "5e6412c5",
   "metadata": {
    "execution": {
     "iopub.execute_input": "2025-01-11T10:01:14.602103Z",
     "iopub.status.busy": "2025-01-11T10:01:14.601732Z",
     "iopub.status.idle": "2025-01-11T10:01:14.827804Z",
     "shell.execute_reply": "2025-01-11T10:01:14.826601Z"
    },
    "papermill": {
     "duration": 0.238109,
     "end_time": "2025-01-11T10:01:14.830039",
     "exception": false,
     "start_time": "2025-01-11T10:01:14.591930",
     "status": "completed"
    },
    "tags": []
   },
   "outputs": [
    {
     "data": {
      "text/plain": [
       "Series([], dtype: bool)"
      ]
     },
     "execution_count": 12,
     "metadata": {},
     "output_type": "execute_result"
    }
   ],
   "source": [
    "df.duplicated()[df.duplicated()==True]\n",
    "    #> No duplicates found"
   ]
  },
  {
   "cell_type": "markdown",
   "id": "c97f7265",
   "metadata": {
    "papermill": {
     "duration": 0.009146,
     "end_time": "2025-01-11T10:01:14.848752",
     "exception": false,
     "start_time": "2025-01-11T10:01:14.839606",
     "status": "completed"
    },
    "tags": []
   },
   "source": [
    "## Handling Missing Variables"
   ]
  },
  {
   "cell_type": "code",
   "execution_count": 13,
   "id": "ccf22b43",
   "metadata": {
    "execution": {
     "iopub.execute_input": "2025-01-11T10:01:14.868617Z",
     "iopub.status.busy": "2025-01-11T10:01:14.868208Z",
     "iopub.status.idle": "2025-01-11T10:01:15.586000Z",
     "shell.execute_reply": "2025-01-11T10:01:15.584594Z"
    },
    "papermill": {
     "duration": 0.730089,
     "end_time": "2025-01-11T10:01:15.588259",
     "exception": false,
     "start_time": "2025-01-11T10:01:14.858170",
     "status": "completed"
    },
    "tags": []
   },
   "outputs": [],
   "source": [
    "for col in df.select_dtypes(include='object').columns:\n",
    "       df[col] = df[col].str.strip().str.lower().replace(\n",
    "        {'n/a': None, 'na': None, 'nan': None, '-': None})"
   ]
  },
  {
   "cell_type": "code",
   "execution_count": 14,
   "id": "987068dc",
   "metadata": {
    "execution": {
     "iopub.execute_input": "2025-01-11T10:01:15.607312Z",
     "iopub.status.busy": "2025-01-11T10:01:15.606901Z",
     "iopub.status.idle": "2025-01-11T10:01:15.615504Z",
     "shell.execute_reply": "2025-01-11T10:01:15.614294Z"
    },
    "papermill": {
     "duration": 0.020016,
     "end_time": "2025-01-11T10:01:15.617207",
     "exception": false,
     "start_time": "2025-01-11T10:01:15.597191",
     "status": "completed"
    },
    "tags": []
   },
   "outputs": [],
   "source": [
    "# cat_vars\n",
    "cat_vars = [var for var in df.columns if df[var].dtype == \"O\"]\n",
    "\n",
    "# num_vars\n",
    "num_vars= [var for var in df.columns if df[var].dtype != \"O\" and var != 'target']"
   ]
  },
  {
   "cell_type": "code",
   "execution_count": 15,
   "id": "0d5d44d6",
   "metadata": {
    "execution": {
     "iopub.execute_input": "2025-01-11T10:01:15.637684Z",
     "iopub.status.busy": "2025-01-11T10:01:15.637164Z",
     "iopub.status.idle": "2025-01-11T10:01:15.643867Z",
     "shell.execute_reply": "2025-01-11T10:01:15.642317Z"
    },
    "papermill": {
     "duration": 0.019185,
     "end_time": "2025-01-11T10:01:15.645850",
     "exception": false,
     "start_time": "2025-01-11T10:01:15.626665",
     "status": "completed"
    },
    "tags": []
   },
   "outputs": [
    {
     "name": "stdout",
     "output_type": "stream",
     "text": [
      "cat_vars:  ['dri_score', 'psych_disturb', 'cyto_score', 'diabetes', 'tbi_status', 'arrhythmia', 'graft_type', 'vent_hist', 'renal_issue', 'pulm_severe', 'prim_disease_hct', 'cmv_status', 'tce_imm_match', 'rituximab', 'prod_type', 'cyto_score_detail', 'conditioning_intensity', 'ethnicity', 'obesity', 'mrd_hct', 'in_vivo_tcd', 'tce_match', 'hepatic_severe', 'prior_tumor', 'peptic_ulcer', 'gvhd_proph', 'rheum_issue', 'sex_match', 'race_group', 'hepatic_mild', 'tce_div_match', 'donor_related', 'melphalan_dose', 'cardiac', 'pulm_moderate'] \n",
      "\n",
      "num_vars:  ['hla_match_c_high', 'hla_high_res_8', 'hla_low_res_6', 'hla_high_res_6', 'hla_high_res_10', 'hla_match_dqb1_high', 'hla_nmdp_6', 'hla_match_c_low', 'hla_match_drb1_low', 'hla_match_dqb1_low', 'year_hct', 'hla_match_a_high', 'donor_age', 'hla_match_b_low', 'age_at_hct', 'hla_match_a_low', 'hla_match_b_high', 'comorbidity_score', 'karnofsky_score', 'hla_low_res_8', 'hla_match_drb1_high', 'hla_low_res_10']\n"
     ]
    }
   ],
   "source": [
    "print('cat_vars: ',cat_vars,'\\n')\n",
    "print('num_vars: ',num_vars )\n",
    "\n",
    "# Note that target is num_var"
   ]
  },
  {
   "cell_type": "code",
   "execution_count": 16,
   "id": "42982178",
   "metadata": {
    "execution": {
     "iopub.execute_input": "2025-01-11T10:01:15.664956Z",
     "iopub.status.busy": "2025-01-11T10:01:15.664576Z",
     "iopub.status.idle": "2025-01-11T10:01:15.712658Z",
     "shell.execute_reply": "2025-01-11T10:01:15.711397Z"
    },
    "papermill": {
     "duration": 0.059908,
     "end_time": "2025-01-11T10:01:15.714678",
     "exception": false,
     "start_time": "2025-01-11T10:01:15.654770",
     "status": "completed"
    },
    "tags": []
   },
   "outputs": [],
   "source": [
    "# Filling missing values for numerical columns with their median except target column\n",
    "df[num_vars] = df[num_vars].fillna(df[num_vars].median())"
   ]
  },
  {
   "cell_type": "code",
   "execution_count": 17,
   "id": "8b020aa9",
   "metadata": {
    "execution": {
     "iopub.execute_input": "2025-01-11T10:01:15.734083Z",
     "iopub.status.busy": "2025-01-11T10:01:15.733623Z",
     "iopub.status.idle": "2025-01-11T10:01:16.068807Z",
     "shell.execute_reply": "2025-01-11T10:01:16.067617Z"
    },
    "papermill": {
     "duration": 0.347387,
     "end_time": "2025-01-11T10:01:16.071078",
     "exception": false,
     "start_time": "2025-01-11T10:01:15.723691",
     "status": "completed"
    },
    "tags": []
   },
   "outputs": [],
   "source": [
    "# Filling missing values for categorical columns with their mode\n",
    "df[cat_vars] = df[cat_vars].apply(\n",
    "    lambda col: col.fillna(col.mode()[0] if not col.mode().empty else 'unknown'))"
   ]
  },
  {
   "cell_type": "code",
   "execution_count": 18,
   "id": "09b2442b",
   "metadata": {
    "execution": {
     "iopub.execute_input": "2025-01-11T10:01:16.091419Z",
     "iopub.status.busy": "2025-01-11T10:01:16.090999Z",
     "iopub.status.idle": "2025-01-11T10:01:16.204457Z",
     "shell.execute_reply": "2025-01-11T10:01:16.203044Z"
    },
    "papermill": {
     "duration": 0.126284,
     "end_time": "2025-01-11T10:01:16.206672",
     "exception": false,
     "start_time": "2025-01-11T10:01:16.080388",
     "status": "completed"
    },
    "tags": []
   },
   "outputs": [],
   "source": [
    "# Factorise Categorical vars - \n",
    "for i in df[cat_vars]:\n",
    "    df[i], _ = pd.factorize(df[i])"
   ]
  },
  {
   "cell_type": "code",
   "execution_count": 19,
   "id": "a9090013",
   "metadata": {
    "execution": {
     "iopub.execute_input": "2025-01-11T10:01:16.226220Z",
     "iopub.status.busy": "2025-01-11T10:01:16.225822Z",
     "iopub.status.idle": "2025-01-11T10:01:16.266182Z",
     "shell.execute_reply": "2025-01-11T10:01:16.265120Z"
    },
    "papermill": {
     "duration": 0.05253,
     "end_time": "2025-01-11T10:01:16.268368",
     "exception": false,
     "start_time": "2025-01-11T10:01:16.215838",
     "status": "completed"
    },
    "tags": []
   },
   "outputs": [
    {
     "data": {
      "text/html": [
       "<div>\n",
       "<style scoped>\n",
       "    .dataframe tbody tr th:only-of-type {\n",
       "        vertical-align: middle;\n",
       "    }\n",
       "\n",
       "    .dataframe tbody tr th {\n",
       "        vertical-align: top;\n",
       "    }\n",
       "\n",
       "    .dataframe thead th {\n",
       "        text-align: right;\n",
       "    }\n",
       "</style>\n",
       "<table border=\"1\" class=\"dataframe\">\n",
       "  <thead>\n",
       "    <tr style=\"text-align: right;\">\n",
       "      <th></th>\n",
       "      <th>dri_score</th>\n",
       "      <th>psych_disturb</th>\n",
       "      <th>cyto_score</th>\n",
       "      <th>diabetes</th>\n",
       "      <th>hla_match_c_high</th>\n",
       "      <th>hla_high_res_8</th>\n",
       "      <th>tbi_status</th>\n",
       "      <th>arrhythmia</th>\n",
       "      <th>hla_low_res_6</th>\n",
       "      <th>graft_type</th>\n",
       "      <th>vent_hist</th>\n",
       "      <th>renal_issue</th>\n",
       "      <th>pulm_severe</th>\n",
       "      <th>prim_disease_hct</th>\n",
       "      <th>hla_high_res_6</th>\n",
       "      <th>cmv_status</th>\n",
       "      <th>hla_high_res_10</th>\n",
       "      <th>hla_match_dqb1_high</th>\n",
       "      <th>tce_imm_match</th>\n",
       "      <th>hla_nmdp_6</th>\n",
       "      <th>hla_match_c_low</th>\n",
       "      <th>rituximab</th>\n",
       "      <th>hla_match_drb1_low</th>\n",
       "      <th>hla_match_dqb1_low</th>\n",
       "      <th>prod_type</th>\n",
       "      <th>cyto_score_detail</th>\n",
       "      <th>conditioning_intensity</th>\n",
       "      <th>ethnicity</th>\n",
       "      <th>year_hct</th>\n",
       "      <th>obesity</th>\n",
       "      <th>mrd_hct</th>\n",
       "      <th>in_vivo_tcd</th>\n",
       "      <th>tce_match</th>\n",
       "      <th>hla_match_a_high</th>\n",
       "      <th>hepatic_severe</th>\n",
       "      <th>donor_age</th>\n",
       "      <th>prior_tumor</th>\n",
       "      <th>hla_match_b_low</th>\n",
       "      <th>peptic_ulcer</th>\n",
       "      <th>age_at_hct</th>\n",
       "      <th>hla_match_a_low</th>\n",
       "      <th>gvhd_proph</th>\n",
       "      <th>rheum_issue</th>\n",
       "      <th>sex_match</th>\n",
       "      <th>hla_match_b_high</th>\n",
       "      <th>race_group</th>\n",
       "      <th>comorbidity_score</th>\n",
       "      <th>karnofsky_score</th>\n",
       "      <th>hepatic_mild</th>\n",
       "      <th>tce_div_match</th>\n",
       "      <th>donor_related</th>\n",
       "      <th>melphalan_dose</th>\n",
       "      <th>hla_low_res_8</th>\n",
       "      <th>cardiac</th>\n",
       "      <th>hla_match_drb1_high</th>\n",
       "      <th>pulm_moderate</th>\n",
       "      <th>hla_low_res_10</th>\n",
       "      <th>target</th>\n",
       "    </tr>\n",
       "  </thead>\n",
       "  <tbody>\n",
       "    <tr>\n",
       "      <th>0</th>\n",
       "      <td>0</td>\n",
       "      <td>0</td>\n",
       "      <td>0</td>\n",
       "      <td>0</td>\n",
       "      <td>2.0</td>\n",
       "      <td>8.0</td>\n",
       "      <td>0</td>\n",
       "      <td>0</td>\n",
       "      <td>6.0</td>\n",
       "      <td>0</td>\n",
       "      <td>0</td>\n",
       "      <td>0</td>\n",
       "      <td>0</td>\n",
       "      <td>0</td>\n",
       "      <td>6.0</td>\n",
       "      <td>0</td>\n",
       "      <td>10.0</td>\n",
       "      <td>2.0</td>\n",
       "      <td>0</td>\n",
       "      <td>6.0</td>\n",
       "      <td>2.0</td>\n",
       "      <td>0</td>\n",
       "      <td>2.0</td>\n",
       "      <td>2.0</td>\n",
       "      <td>0</td>\n",
       "      <td>0</td>\n",
       "      <td>0</td>\n",
       "      <td>0</td>\n",
       "      <td>2016</td>\n",
       "      <td>0</td>\n",
       "      <td>0</td>\n",
       "      <td>0</td>\n",
       "      <td>0</td>\n",
       "      <td>2.0</td>\n",
       "      <td>0</td>\n",
       "      <td>40.063</td>\n",
       "      <td>0</td>\n",
       "      <td>2.0</td>\n",
       "      <td>0</td>\n",
       "      <td>9.942</td>\n",
       "      <td>2.0</td>\n",
       "      <td>0</td>\n",
       "      <td>0</td>\n",
       "      <td>0</td>\n",
       "      <td>2.0</td>\n",
       "      <td>0</td>\n",
       "      <td>0.0</td>\n",
       "      <td>90.0</td>\n",
       "      <td>0</td>\n",
       "      <td>0</td>\n",
       "      <td>0</td>\n",
       "      <td>0</td>\n",
       "      <td>8.0</td>\n",
       "      <td>0</td>\n",
       "      <td>2.0</td>\n",
       "      <td>0</td>\n",
       "      <td>10.0</td>\n",
       "      <td>0.458687</td>\n",
       "    </tr>\n",
       "    <tr>\n",
       "      <th>1</th>\n",
       "      <td>1</td>\n",
       "      <td>0</td>\n",
       "      <td>1</td>\n",
       "      <td>0</td>\n",
       "      <td>2.0</td>\n",
       "      <td>8.0</td>\n",
       "      <td>1</td>\n",
       "      <td>0</td>\n",
       "      <td>6.0</td>\n",
       "      <td>1</td>\n",
       "      <td>0</td>\n",
       "      <td>0</td>\n",
       "      <td>0</td>\n",
       "      <td>1</td>\n",
       "      <td>6.0</td>\n",
       "      <td>0</td>\n",
       "      <td>10.0</td>\n",
       "      <td>2.0</td>\n",
       "      <td>0</td>\n",
       "      <td>6.0</td>\n",
       "      <td>2.0</td>\n",
       "      <td>0</td>\n",
       "      <td>2.0</td>\n",
       "      <td>2.0</td>\n",
       "      <td>1</td>\n",
       "      <td>0</td>\n",
       "      <td>0</td>\n",
       "      <td>0</td>\n",
       "      <td>2008</td>\n",
       "      <td>0</td>\n",
       "      <td>1</td>\n",
       "      <td>1</td>\n",
       "      <td>0</td>\n",
       "      <td>2.0</td>\n",
       "      <td>0</td>\n",
       "      <td>72.290</td>\n",
       "      <td>0</td>\n",
       "      <td>2.0</td>\n",
       "      <td>0</td>\n",
       "      <td>43.705</td>\n",
       "      <td>2.0</td>\n",
       "      <td>1</td>\n",
       "      <td>0</td>\n",
       "      <td>1</td>\n",
       "      <td>2.0</td>\n",
       "      <td>1</td>\n",
       "      <td>3.0</td>\n",
       "      <td>90.0</td>\n",
       "      <td>0</td>\n",
       "      <td>0</td>\n",
       "      <td>1</td>\n",
       "      <td>0</td>\n",
       "      <td>8.0</td>\n",
       "      <td>0</td>\n",
       "      <td>2.0</td>\n",
       "      <td>1</td>\n",
       "      <td>10.0</td>\n",
       "      <td>0.847759</td>\n",
       "    </tr>\n",
       "    <tr>\n",
       "      <th>2</th>\n",
       "      <td>0</td>\n",
       "      <td>0</td>\n",
       "      <td>0</td>\n",
       "      <td>0</td>\n",
       "      <td>2.0</td>\n",
       "      <td>8.0</td>\n",
       "      <td>0</td>\n",
       "      <td>0</td>\n",
       "      <td>6.0</td>\n",
       "      <td>0</td>\n",
       "      <td>0</td>\n",
       "      <td>0</td>\n",
       "      <td>0</td>\n",
       "      <td>2</td>\n",
       "      <td>6.0</td>\n",
       "      <td>0</td>\n",
       "      <td>10.0</td>\n",
       "      <td>2.0</td>\n",
       "      <td>0</td>\n",
       "      <td>6.0</td>\n",
       "      <td>2.0</td>\n",
       "      <td>0</td>\n",
       "      <td>2.0</td>\n",
       "      <td>2.0</td>\n",
       "      <td>0</td>\n",
       "      <td>0</td>\n",
       "      <td>0</td>\n",
       "      <td>0</td>\n",
       "      <td>2019</td>\n",
       "      <td>0</td>\n",
       "      <td>0</td>\n",
       "      <td>0</td>\n",
       "      <td>0</td>\n",
       "      <td>2.0</td>\n",
       "      <td>0</td>\n",
       "      <td>40.063</td>\n",
       "      <td>0</td>\n",
       "      <td>2.0</td>\n",
       "      <td>0</td>\n",
       "      <td>33.997</td>\n",
       "      <td>2.0</td>\n",
       "      <td>2</td>\n",
       "      <td>0</td>\n",
       "      <td>2</td>\n",
       "      <td>2.0</td>\n",
       "      <td>0</td>\n",
       "      <td>0.0</td>\n",
       "      <td>90.0</td>\n",
       "      <td>0</td>\n",
       "      <td>0</td>\n",
       "      <td>1</td>\n",
       "      <td>0</td>\n",
       "      <td>8.0</td>\n",
       "      <td>0</td>\n",
       "      <td>2.0</td>\n",
       "      <td>0</td>\n",
       "      <td>10.0</td>\n",
       "      <td>0.462424</td>\n",
       "    </tr>\n",
       "    <tr>\n",
       "      <th>3</th>\n",
       "      <td>2</td>\n",
       "      <td>0</td>\n",
       "      <td>1</td>\n",
       "      <td>0</td>\n",
       "      <td>2.0</td>\n",
       "      <td>8.0</td>\n",
       "      <td>0</td>\n",
       "      <td>0</td>\n",
       "      <td>6.0</td>\n",
       "      <td>0</td>\n",
       "      <td>0</td>\n",
       "      <td>0</td>\n",
       "      <td>0</td>\n",
       "      <td>3</td>\n",
       "      <td>6.0</td>\n",
       "      <td>0</td>\n",
       "      <td>10.0</td>\n",
       "      <td>2.0</td>\n",
       "      <td>0</td>\n",
       "      <td>6.0</td>\n",
       "      <td>2.0</td>\n",
       "      <td>0</td>\n",
       "      <td>2.0</td>\n",
       "      <td>2.0</td>\n",
       "      <td>0</td>\n",
       "      <td>0</td>\n",
       "      <td>0</td>\n",
       "      <td>0</td>\n",
       "      <td>2009</td>\n",
       "      <td>0</td>\n",
       "      <td>1</td>\n",
       "      <td>1</td>\n",
       "      <td>0</td>\n",
       "      <td>2.0</td>\n",
       "      <td>0</td>\n",
       "      <td>29.230</td>\n",
       "      <td>0</td>\n",
       "      <td>2.0</td>\n",
       "      <td>0</td>\n",
       "      <td>43.245</td>\n",
       "      <td>2.0</td>\n",
       "      <td>3</td>\n",
       "      <td>0</td>\n",
       "      <td>3</td>\n",
       "      <td>2.0</td>\n",
       "      <td>2</td>\n",
       "      <td>0.0</td>\n",
       "      <td>90.0</td>\n",
       "      <td>1</td>\n",
       "      <td>0</td>\n",
       "      <td>0</td>\n",
       "      <td>0</td>\n",
       "      <td>8.0</td>\n",
       "      <td>0</td>\n",
       "      <td>2.0</td>\n",
       "      <td>0</td>\n",
       "      <td>10.0</td>\n",
       "      <td>0.456661</td>\n",
       "    </tr>\n",
       "    <tr>\n",
       "      <th>4</th>\n",
       "      <td>2</td>\n",
       "      <td>0</td>\n",
       "      <td>0</td>\n",
       "      <td>0</td>\n",
       "      <td>2.0</td>\n",
       "      <td>8.0</td>\n",
       "      <td>0</td>\n",
       "      <td>0</td>\n",
       "      <td>6.0</td>\n",
       "      <td>1</td>\n",
       "      <td>0</td>\n",
       "      <td>0</td>\n",
       "      <td>0</td>\n",
       "      <td>4</td>\n",
       "      <td>6.0</td>\n",
       "      <td>0</td>\n",
       "      <td>10.0</td>\n",
       "      <td>2.0</td>\n",
       "      <td>0</td>\n",
       "      <td>5.0</td>\n",
       "      <td>2.0</td>\n",
       "      <td>0</td>\n",
       "      <td>2.0</td>\n",
       "      <td>2.0</td>\n",
       "      <td>1</td>\n",
       "      <td>0</td>\n",
       "      <td>0</td>\n",
       "      <td>1</td>\n",
       "      <td>2018</td>\n",
       "      <td>0</td>\n",
       "      <td>0</td>\n",
       "      <td>0</td>\n",
       "      <td>0</td>\n",
       "      <td>2.0</td>\n",
       "      <td>0</td>\n",
       "      <td>56.810</td>\n",
       "      <td>0</td>\n",
       "      <td>2.0</td>\n",
       "      <td>0</td>\n",
       "      <td>29.740</td>\n",
       "      <td>2.0</td>\n",
       "      <td>4</td>\n",
       "      <td>0</td>\n",
       "      <td>0</td>\n",
       "      <td>2.0</td>\n",
       "      <td>3</td>\n",
       "      <td>1.0</td>\n",
       "      <td>90.0</td>\n",
       "      <td>0</td>\n",
       "      <td>0</td>\n",
       "      <td>1</td>\n",
       "      <td>1</td>\n",
       "      <td>8.0</td>\n",
       "      <td>0</td>\n",
       "      <td>2.0</td>\n",
       "      <td>0</td>\n",
       "      <td>10.0</td>\n",
       "      <td>0.464674</td>\n",
       "    </tr>\n",
       "  </tbody>\n",
       "</table>\n",
       "</div>"
      ],
      "text/plain": [
       "   dri_score  psych_disturb  cyto_score  diabetes  hla_match_c_high  \\\n",
       "0          0              0           0         0               2.0   \n",
       "1          1              0           1         0               2.0   \n",
       "2          0              0           0         0               2.0   \n",
       "3          2              0           1         0               2.0   \n",
       "4          2              0           0         0               2.0   \n",
       "\n",
       "   hla_high_res_8  tbi_status  arrhythmia  hla_low_res_6  graft_type  \\\n",
       "0             8.0           0           0            6.0           0   \n",
       "1             8.0           1           0            6.0           1   \n",
       "2             8.0           0           0            6.0           0   \n",
       "3             8.0           0           0            6.0           0   \n",
       "4             8.0           0           0            6.0           1   \n",
       "\n",
       "   vent_hist  renal_issue  pulm_severe  prim_disease_hct  hla_high_res_6  \\\n",
       "0          0            0            0                 0             6.0   \n",
       "1          0            0            0                 1             6.0   \n",
       "2          0            0            0                 2             6.0   \n",
       "3          0            0            0                 3             6.0   \n",
       "4          0            0            0                 4             6.0   \n",
       "\n",
       "   cmv_status  hla_high_res_10  hla_match_dqb1_high  tce_imm_match  \\\n",
       "0           0             10.0                  2.0              0   \n",
       "1           0             10.0                  2.0              0   \n",
       "2           0             10.0                  2.0              0   \n",
       "3           0             10.0                  2.0              0   \n",
       "4           0             10.0                  2.0              0   \n",
       "\n",
       "   hla_nmdp_6  hla_match_c_low  rituximab  hla_match_drb1_low  \\\n",
       "0         6.0              2.0          0                 2.0   \n",
       "1         6.0              2.0          0                 2.0   \n",
       "2         6.0              2.0          0                 2.0   \n",
       "3         6.0              2.0          0                 2.0   \n",
       "4         5.0              2.0          0                 2.0   \n",
       "\n",
       "   hla_match_dqb1_low  prod_type  cyto_score_detail  conditioning_intensity  \\\n",
       "0                 2.0          0                  0                       0   \n",
       "1                 2.0          1                  0                       0   \n",
       "2                 2.0          0                  0                       0   \n",
       "3                 2.0          0                  0                       0   \n",
       "4                 2.0          1                  0                       0   \n",
       "\n",
       "   ethnicity  year_hct  obesity  mrd_hct  in_vivo_tcd  tce_match  \\\n",
       "0          0      2016        0        0            0          0   \n",
       "1          0      2008        0        1            1          0   \n",
       "2          0      2019        0        0            0          0   \n",
       "3          0      2009        0        1            1          0   \n",
       "4          1      2018        0        0            0          0   \n",
       "\n",
       "   hla_match_a_high  hepatic_severe  donor_age  prior_tumor  hla_match_b_low  \\\n",
       "0               2.0               0     40.063            0              2.0   \n",
       "1               2.0               0     72.290            0              2.0   \n",
       "2               2.0               0     40.063            0              2.0   \n",
       "3               2.0               0     29.230            0              2.0   \n",
       "4               2.0               0     56.810            0              2.0   \n",
       "\n",
       "   peptic_ulcer  age_at_hct  hla_match_a_low  gvhd_proph  rheum_issue  \\\n",
       "0             0       9.942              2.0           0            0   \n",
       "1             0      43.705              2.0           1            0   \n",
       "2             0      33.997              2.0           2            0   \n",
       "3             0      43.245              2.0           3            0   \n",
       "4             0      29.740              2.0           4            0   \n",
       "\n",
       "   sex_match  hla_match_b_high  race_group  comorbidity_score  \\\n",
       "0          0               2.0           0                0.0   \n",
       "1          1               2.0           1                3.0   \n",
       "2          2               2.0           0                0.0   \n",
       "3          3               2.0           2                0.0   \n",
       "4          0               2.0           3                1.0   \n",
       "\n",
       "   karnofsky_score  hepatic_mild  tce_div_match  donor_related  \\\n",
       "0             90.0             0              0              0   \n",
       "1             90.0             0              0              1   \n",
       "2             90.0             0              0              1   \n",
       "3             90.0             1              0              0   \n",
       "4             90.0             0              0              1   \n",
       "\n",
       "   melphalan_dose  hla_low_res_8  cardiac  hla_match_drb1_high  pulm_moderate  \\\n",
       "0               0            8.0        0                  2.0              0   \n",
       "1               0            8.0        0                  2.0              1   \n",
       "2               0            8.0        0                  2.0              0   \n",
       "3               0            8.0        0                  2.0              0   \n",
       "4               1            8.0        0                  2.0              0   \n",
       "\n",
       "   hla_low_res_10    target  \n",
       "0            10.0  0.458687  \n",
       "1            10.0  0.847759  \n",
       "2            10.0  0.462424  \n",
       "3            10.0  0.456661  \n",
       "4            10.0  0.464674  "
      ]
     },
     "execution_count": 19,
     "metadata": {},
     "output_type": "execute_result"
    }
   ],
   "source": [
    "pd.set_option('display.max_columns', None)\n",
    "\n",
    "df.head()"
   ]
  },
  {
   "cell_type": "markdown",
   "id": "3b4c6288",
   "metadata": {
    "papermill": {
     "duration": 0.009485,
     "end_time": "2025-01-11T10:01:16.287403",
     "exception": false,
     "start_time": "2025-01-11T10:01:16.277918",
     "status": "completed"
    },
    "tags": []
   },
   "source": [
    "## Correlation"
   ]
  },
  {
   "cell_type": "code",
   "execution_count": 20,
   "id": "97f7bce3",
   "metadata": {
    "execution": {
     "iopub.execute_input": "2025-01-11T10:01:16.308225Z",
     "iopub.status.busy": "2025-01-11T10:01:16.307836Z",
     "iopub.status.idle": "2025-01-11T10:01:16.431986Z",
     "shell.execute_reply": "2025-01-11T10:01:16.430368Z"
    },
    "papermill": {
     "duration": 0.137059,
     "end_time": "2025-01-11T10:01:16.434419",
     "exception": false,
     "start_time": "2025-01-11T10:01:16.297360",
     "status": "completed"
    },
    "tags": []
   },
   "outputs": [
    {
     "name": "stdout",
     "output_type": "stream",
     "text": [
      "Correlation for  dri_score  =  -0.015663222896883162\n",
      "Correlation for  psych_disturb  =  0.0445884478144293\n",
      "Correlation for  cyto_score  =  0.005200974001809842\n",
      "Correlation for  diabetes  =  0.06472635931119704\n",
      "Correlation for  hla_match_c_high  =  -0.012607743434186506\n",
      "Correlation for  hla_high_res_8  =  -0.021272383826416604\n",
      "Correlation for  tbi_status  =  0.03962863015684236\n",
      "Correlation for  arrhythmia  =  0.05401029510435935\n",
      "Correlation for  hla_low_res_6  =  -0.01637095516160984\n",
      "Correlation for  graft_type  =  0.14554016971025033\n",
      "Correlation for  vent_hist  =  0.008114302625674821\n",
      "Correlation for  renal_issue  =  -0.0014354737125927305\n",
      "Correlation for  pulm_severe  =  0.08856949096233102\n",
      "Correlation for  prim_disease_hct  =  0.022227791379227767\n",
      "Correlation for  hla_high_res_6  =  -0.022485941112610923\n",
      "Correlation for  cmv_status  =  -0.04700236873073342\n",
      "Correlation for  hla_high_res_10  =  -0.014870926680981769\n",
      "Correlation for  hla_match_dqb1_high  =  -0.011014935896483587\n",
      "Correlation for  tce_imm_match  =  -0.010223102154939436\n",
      "Correlation for  hla_nmdp_6  =  -0.02775666653336865\n",
      "Correlation for  hla_match_c_low  =  -0.025543142112158065\n",
      "Correlation for  rituximab  =  -0.0007278326299850066\n",
      "Correlation for  hla_match_drb1_low  =  0.007730898334987154\n",
      "Correlation for  hla_match_dqb1_low  =  -0.003497582990192846\n",
      "Correlation for  prod_type  =  0.14779783679594405\n",
      "Correlation for  cyto_score_detail  =  0.1433940065306735\n",
      "Correlation for  conditioning_intensity  =  0.10732563049417022\n",
      "Correlation for  ethnicity  =  -0.022388609044774216\n",
      "Correlation for  year_hct  =  -0.028695826775622848\n",
      "Correlation for  obesity  =  0.03074833082517407\n",
      "Correlation for  mrd_hct  =  -0.008842078678669884\n",
      "Correlation for  in_vivo_tcd  =  0.07006714037528944\n",
      "Correlation for  tce_match  =  0.003539940343421233\n",
      "Correlation for  hla_match_a_high  =  -0.0375720230187408\n",
      "Correlation for  hepatic_severe  =  -0.04789906664682709\n",
      "Correlation for  donor_age  =  0.0508395880982666\n",
      "Correlation for  prior_tumor  =  0.04599486098127646\n",
      "Correlation for  hla_match_b_low  =  -0.009862467785865716\n",
      "Correlation for  peptic_ulcer  =  -0.00937345492741115\n",
      "Correlation for  age_at_hct  =  0.15831520426166\n",
      "Correlation for  hla_match_a_low  =  -0.038003931155751604\n",
      "Correlation for  gvhd_proph  =  -0.03124104267503382\n",
      "Correlation for  rheum_issue  =  -0.017908544146560016\n",
      "Correlation for  sex_match  =  -0.01436595926484298\n",
      "Correlation for  hla_match_b_high  =  -0.02668134098954301\n",
      "Correlation for  race_group  =  0.04629366456303323\n",
      "Correlation for  comorbidity_score  =  0.19505665800257938\n",
      "Correlation for  karnofsky_score  =  -0.1418953974639729\n",
      "Correlation for  hepatic_mild  =  -0.0012755681469293822\n",
      "Correlation for  tce_div_match  =  -0.00542926207357832\n",
      "Correlation for  donor_related  =  -0.04116835919870321\n",
      "Correlation for  melphalan_dose  =  0.007489996142651538\n",
      "Correlation for  hla_low_res_8  =  -0.019737133983262746\n",
      "Correlation for  cardiac  =  0.0755601291542598\n",
      "Correlation for  hla_match_drb1_high  =  0.007931542185053056\n",
      "Correlation for  pulm_moderate  =  0.05266960546521714\n",
      "Correlation for  hla_low_res_10  =  -0.013714686454559095\n"
     ]
    }
   ],
   "source": [
    "# Get list of feature columns (excluding target)\n",
    "\n",
    "X = [col for col in df.columns if col != 'target']\n",
    "\n",
    "for feature in X:\n",
    "    correlation = df[feature].corr(df[\"target\"])\n",
    "    print('Correlation for ', feature, ' = ',correlation)"
   ]
  },
  {
   "cell_type": "markdown",
   "id": "6ce8474c",
   "metadata": {
    "papermill": {
     "duration": 0.009571,
     "end_time": "2025-01-11T10:01:16.454183",
     "exception": false,
     "start_time": "2025-01-11T10:01:16.444612",
     "status": "completed"
    },
    "tags": []
   },
   "source": [
    "## K Fold Validation"
   ]
  },
  {
   "cell_type": "code",
   "execution_count": 21,
   "id": "373f2050",
   "metadata": {
    "execution": {
     "iopub.execute_input": "2025-01-11T10:01:16.474442Z",
     "iopub.status.busy": "2025-01-11T10:01:16.474058Z",
     "iopub.status.idle": "2025-01-11T10:01:16.489428Z",
     "shell.execute_reply": "2025-01-11T10:01:16.488354Z"
    },
    "papermill": {
     "duration": 0.027777,
     "end_time": "2025-01-11T10:01:16.491422",
     "exception": false,
     "start_time": "2025-01-11T10:01:16.463645",
     "status": "completed"
    },
    "tags": []
   },
   "outputs": [],
   "source": [
    "df1=df0.copy()"
   ]
  },
  {
   "cell_type": "code",
   "execution_count": 22,
   "id": "7f3845e1",
   "metadata": {
    "execution": {
     "iopub.execute_input": "2025-01-11T10:01:16.512859Z",
     "iopub.status.busy": "2025-01-11T10:01:16.512305Z",
     "iopub.status.idle": "2025-01-11T10:01:16.518150Z",
     "shell.execute_reply": "2025-01-11T10:01:16.517053Z"
    },
    "papermill": {
     "duration": 0.018475,
     "end_time": "2025-01-11T10:01:16.520172",
     "exception": false,
     "start_time": "2025-01-11T10:01:16.501697",
     "status": "completed"
    },
    "tags": []
   },
   "outputs": [],
   "source": [
    "df1['target']=df['target']"
   ]
  },
  {
   "cell_type": "code",
   "execution_count": 23,
   "id": "84f01243",
   "metadata": {
    "execution": {
     "iopub.execute_input": "2025-01-11T10:01:16.541260Z",
     "iopub.status.busy": "2025-01-11T10:01:16.540839Z",
     "iopub.status.idle": "2025-01-11T10:01:16.561823Z",
     "shell.execute_reply": "2025-01-11T10:01:16.560507Z"
    },
    "papermill": {
     "duration": 0.034266,
     "end_time": "2025-01-11T10:01:16.563984",
     "exception": false,
     "start_time": "2025-01-11T10:01:16.529718",
     "status": "completed"
    },
    "tags": []
   },
   "outputs": [],
   "source": [
    "# Define features and target\n",
    "X1 = df1.drop(columns=['efs', 'efs_time', 'ID', 'target', 'rituximab'], errors='ignore')\n",
    "target = df1['target']"
   ]
  },
  {
   "cell_type": "code",
   "execution_count": 24,
   "id": "dda8d61f",
   "metadata": {
    "execution": {
     "iopub.execute_input": "2025-01-11T10:01:16.584639Z",
     "iopub.status.busy": "2025-01-11T10:01:16.584201Z",
     "iopub.status.idle": "2025-01-11T10:01:16.602039Z",
     "shell.execute_reply": "2025-01-11T10:01:16.600810Z"
    },
    "papermill": {
     "duration": 0.030481,
     "end_time": "2025-01-11T10:01:16.604074",
     "exception": false,
     "start_time": "2025-01-11T10:01:16.573593",
     "status": "completed"
    },
    "tags": []
   },
   "outputs": [],
   "source": [
    "# Identify categorical and numerical columns\n",
    "cat_vars1 = X1.select_dtypes(include=['object']).columns\n",
    "num_vars1 = X1.select_dtypes(include=['int64', 'float64']).columns"
   ]
  },
  {
   "cell_type": "code",
   "execution_count": 25,
   "id": "719e7d03",
   "metadata": {
    "execution": {
     "iopub.execute_input": "2025-01-11T10:01:16.625600Z",
     "iopub.status.busy": "2025-01-11T10:01:16.625202Z",
     "iopub.status.idle": "2025-01-11T10:01:16.629859Z",
     "shell.execute_reply": "2025-01-11T10:01:16.628661Z"
    },
    "papermill": {
     "duration": 0.017574,
     "end_time": "2025-01-11T10:01:16.631715",
     "exception": false,
     "start_time": "2025-01-11T10:01:16.614141",
     "status": "completed"
    },
    "tags": []
   },
   "outputs": [],
   "source": [
    "# Preprocessing for numerical data: Imputation and Scaling\n",
    "numerical_transformer = Pipeline(steps=[\n",
    "    ('imputer', SimpleImputer(strategy='mean')),\n",
    "    ('scaler', StandardScaler())\n",
    "])"
   ]
  },
  {
   "cell_type": "code",
   "execution_count": 26,
   "id": "cac18f60",
   "metadata": {
    "execution": {
     "iopub.execute_input": "2025-01-11T10:01:16.652695Z",
     "iopub.status.busy": "2025-01-11T10:01:16.652308Z",
     "iopub.status.idle": "2025-01-11T10:01:16.656704Z",
     "shell.execute_reply": "2025-01-11T10:01:16.655567Z"
    },
    "papermill": {
     "duration": 0.01702,
     "end_time": "2025-01-11T10:01:16.658315",
     "exception": false,
     "start_time": "2025-01-11T10:01:16.641295",
     "status": "completed"
    },
    "tags": []
   },
   "outputs": [],
   "source": [
    "from sklearn.preprocessing import OneHotEncoder"
   ]
  },
  {
   "cell_type": "code",
   "execution_count": 27,
   "id": "4452e475",
   "metadata": {
    "execution": {
     "iopub.execute_input": "2025-01-11T10:01:16.678782Z",
     "iopub.status.busy": "2025-01-11T10:01:16.678325Z",
     "iopub.status.idle": "2025-01-11T10:01:16.682932Z",
     "shell.execute_reply": "2025-01-11T10:01:16.681839Z"
    },
    "papermill": {
     "duration": 0.016881,
     "end_time": "2025-01-11T10:01:16.684810",
     "exception": false,
     "start_time": "2025-01-11T10:01:16.667929",
     "status": "completed"
    },
    "tags": []
   },
   "outputs": [],
   "source": [
    "# Preprocessing for categorical data: Imputation and One-Hot Encoding\n",
    "categorical_transformer = Pipeline(steps=[\n",
    "    ('imputer', SimpleImputer(strategy='most_frequent')),\n",
    "    ('onehot', OneHotEncoder(handle_unknown='ignore'))\n",
    "])"
   ]
  },
  {
   "cell_type": "code",
   "execution_count": 28,
   "id": "257a9855",
   "metadata": {
    "execution": {
     "iopub.execute_input": "2025-01-11T10:01:16.705717Z",
     "iopub.status.busy": "2025-01-11T10:01:16.705356Z",
     "iopub.status.idle": "2025-01-11T10:01:16.710168Z",
     "shell.execute_reply": "2025-01-11T10:01:16.708890Z"
    },
    "papermill": {
     "duration": 0.017569,
     "end_time": "2025-01-11T10:01:16.712112",
     "exception": false,
     "start_time": "2025-01-11T10:01:16.694543",
     "status": "completed"
    },
    "tags": []
   },
   "outputs": [],
   "source": [
    "from sklearn.compose import ColumnTransformer"
   ]
  },
  {
   "cell_type": "code",
   "execution_count": 29,
   "id": "bd02a09a",
   "metadata": {
    "execution": {
     "iopub.execute_input": "2025-01-11T10:01:16.732642Z",
     "iopub.status.busy": "2025-01-11T10:01:16.732286Z",
     "iopub.status.idle": "2025-01-11T10:01:16.736739Z",
     "shell.execute_reply": "2025-01-11T10:01:16.735611Z"
    },
    "papermill": {
     "duration": 0.016838,
     "end_time": "2025-01-11T10:01:16.738585",
     "exception": false,
     "start_time": "2025-01-11T10:01:16.721747",
     "status": "completed"
    },
    "tags": []
   },
   "outputs": [],
   "source": [
    "# Combine preprocessors in a column transformer\n",
    "preprocessor = ColumnTransformer(\n",
    "    transformers=[\n",
    "        ('num', numerical_transformer, num_vars1),\n",
    "        ('cat', categorical_transformer, cat_vars1)\n",
    "    ]\n",
    ")"
   ]
  },
  {
   "cell_type": "markdown",
   "id": "7d6852ff",
   "metadata": {
    "papermill": {
     "duration": 0.00918,
     "end_time": "2025-01-11T10:01:16.757387",
     "exception": false,
     "start_time": "2025-01-11T10:01:16.748207",
     "status": "completed"
    },
    "tags": []
   },
   "source": [
    "## Create Model Pipeline"
   ]
  },
  {
   "cell_type": "code",
   "execution_count": 30,
   "id": "4ddfde79",
   "metadata": {
    "execution": {
     "iopub.execute_input": "2025-01-11T10:01:16.777738Z",
     "iopub.status.busy": "2025-01-11T10:01:16.777372Z",
     "iopub.status.idle": "2025-01-11T10:01:16.781741Z",
     "shell.execute_reply": "2025-01-11T10:01:16.780654Z"
    },
    "papermill": {
     "duration": 0.0168,
     "end_time": "2025-01-11T10:01:16.783570",
     "exception": false,
     "start_time": "2025-01-11T10:01:16.766770",
     "status": "completed"
    },
    "tags": []
   },
   "outputs": [],
   "source": [
    "from sklearn.ensemble import GradientBoostingRegressor"
   ]
  },
  {
   "cell_type": "code",
   "execution_count": 31,
   "id": "c5f59159",
   "metadata": {
    "execution": {
     "iopub.execute_input": "2025-01-11T10:01:16.803902Z",
     "iopub.status.busy": "2025-01-11T10:01:16.803556Z",
     "iopub.status.idle": "2025-01-11T10:01:16.808381Z",
     "shell.execute_reply": "2025-01-11T10:01:16.807146Z"
    },
    "papermill": {
     "duration": 0.017249,
     "end_time": "2025-01-11T10:01:16.810320",
     "exception": false,
     "start_time": "2025-01-11T10:01:16.793071",
     "status": "completed"
    },
    "tags": []
   },
   "outputs": [],
   "source": [
    "# Create the model pipeline\n",
    "model = Pipeline(steps=[\n",
    "    ('preprocessor', preprocessor),\n",
    "    ('classifier', GradientBoostingRegressor(random_state=42))\n",
    "])"
   ]
  },
  {
   "cell_type": "code",
   "execution_count": 32,
   "id": "286e654c",
   "metadata": {
    "execution": {
     "iopub.execute_input": "2025-01-11T10:01:16.831052Z",
     "iopub.status.busy": "2025-01-11T10:01:16.830684Z",
     "iopub.status.idle": "2025-01-11T10:01:16.835696Z",
     "shell.execute_reply": "2025-01-11T10:01:16.834164Z"
    },
    "papermill": {
     "duration": 0.01747,
     "end_time": "2025-01-11T10:01:16.837616",
     "exception": false,
     "start_time": "2025-01-11T10:01:16.820146",
     "status": "completed"
    },
    "tags": []
   },
   "outputs": [],
   "source": [
    "from lifelines.utils import concordance_index"
   ]
  },
  {
   "cell_type": "code",
   "execution_count": 33,
   "id": "a2636618",
   "metadata": {
    "execution": {
     "iopub.execute_input": "2025-01-11T10:01:16.858194Z",
     "iopub.status.busy": "2025-01-11T10:01:16.857763Z",
     "iopub.status.idle": "2025-01-11T10:01:37.785985Z",
     "shell.execute_reply": "2025-01-11T10:01:37.784465Z"
    },
    "papermill": {
     "duration": 20.941137,
     "end_time": "2025-01-11T10:01:37.788326",
     "exception": false,
     "start_time": "2025-01-11T10:01:16.847189",
     "status": "completed"
    },
    "tags": []
   },
   "outputs": [
    {
     "name": "stdout",
     "output_type": "stream",
     "text": [
      "Mean Stratified C-Index: 0.6321\n"
     ]
    }
   ],
   "source": [
    "kf = KFold(n_splits=5, shuffle=True, random_state=42)\n",
    "c_indices = []\n",
    "\n",
    "for train_index, val_index in kf.split(X1):\n",
    "    X_train, X_val = X1.iloc[train_index], X1.iloc[val_index]\n",
    "    y_train, y_val = target.iloc[train_index], target.iloc[val_index]\n",
    "\n",
    "# Fit the model\n",
    "model.fit(X_train, y_train)\n",
    "\n",
    "# Predict probabilities\n",
    "val_probabilities = model.predict(X_val)\n",
    "\n",
    "# Calculate C-index\n",
    "c_index = concordance_index(y_val, val_probabilities)\n",
    "c_indices.append(c_index)\n",
    "\n",
    "print(f\"Mean Stratified C-Index: {np.mean(c_indices):.4f}\")\n",
    "    "
   ]
  },
  {
   "cell_type": "code",
   "execution_count": 34,
   "id": "3f71005c",
   "metadata": {
    "execution": {
     "iopub.execute_input": "2025-01-11T10:01:37.809152Z",
     "iopub.status.busy": "2025-01-11T10:01:37.808762Z",
     "iopub.status.idle": "2025-01-11T10:02:02.885187Z",
     "shell.execute_reply": "2025-01-11T10:02:02.884158Z"
    },
    "papermill": {
     "duration": 25.088878,
     "end_time": "2025-01-11T10:02:02.887080",
     "exception": false,
     "start_time": "2025-01-11T10:01:37.798202",
     "status": "completed"
    },
    "tags": []
   },
   "outputs": [
    {
     "data": {
      "text/html": [
       "<style>#sk-container-id-1 {color: black;background-color: white;}#sk-container-id-1 pre{padding: 0;}#sk-container-id-1 div.sk-toggleable {background-color: white;}#sk-container-id-1 label.sk-toggleable__label {cursor: pointer;display: block;width: 100%;margin-bottom: 0;padding: 0.3em;box-sizing: border-box;text-align: center;}#sk-container-id-1 label.sk-toggleable__label-arrow:before {content: \"▸\";float: left;margin-right: 0.25em;color: #696969;}#sk-container-id-1 label.sk-toggleable__label-arrow:hover:before {color: black;}#sk-container-id-1 div.sk-estimator:hover label.sk-toggleable__label-arrow:before {color: black;}#sk-container-id-1 div.sk-toggleable__content {max-height: 0;max-width: 0;overflow: hidden;text-align: left;background-color: #f0f8ff;}#sk-container-id-1 div.sk-toggleable__content pre {margin: 0.2em;color: black;border-radius: 0.25em;background-color: #f0f8ff;}#sk-container-id-1 input.sk-toggleable__control:checked~div.sk-toggleable__content {max-height: 200px;max-width: 100%;overflow: auto;}#sk-container-id-1 input.sk-toggleable__control:checked~label.sk-toggleable__label-arrow:before {content: \"▾\";}#sk-container-id-1 div.sk-estimator input.sk-toggleable__control:checked~label.sk-toggleable__label {background-color: #d4ebff;}#sk-container-id-1 div.sk-label input.sk-toggleable__control:checked~label.sk-toggleable__label {background-color: #d4ebff;}#sk-container-id-1 input.sk-hidden--visually {border: 0;clip: rect(1px 1px 1px 1px);clip: rect(1px, 1px, 1px, 1px);height: 1px;margin: -1px;overflow: hidden;padding: 0;position: absolute;width: 1px;}#sk-container-id-1 div.sk-estimator {font-family: monospace;background-color: #f0f8ff;border: 1px dotted black;border-radius: 0.25em;box-sizing: border-box;margin-bottom: 0.5em;}#sk-container-id-1 div.sk-estimator:hover {background-color: #d4ebff;}#sk-container-id-1 div.sk-parallel-item::after {content: \"\";width: 100%;border-bottom: 1px solid gray;flex-grow: 1;}#sk-container-id-1 div.sk-label:hover label.sk-toggleable__label {background-color: #d4ebff;}#sk-container-id-1 div.sk-serial::before {content: \"\";position: absolute;border-left: 1px solid gray;box-sizing: border-box;top: 0;bottom: 0;left: 50%;z-index: 0;}#sk-container-id-1 div.sk-serial {display: flex;flex-direction: column;align-items: center;background-color: white;padding-right: 0.2em;padding-left: 0.2em;position: relative;}#sk-container-id-1 div.sk-item {position: relative;z-index: 1;}#sk-container-id-1 div.sk-parallel {display: flex;align-items: stretch;justify-content: center;background-color: white;position: relative;}#sk-container-id-1 div.sk-item::before, #sk-container-id-1 div.sk-parallel-item::before {content: \"\";position: absolute;border-left: 1px solid gray;box-sizing: border-box;top: 0;bottom: 0;left: 50%;z-index: -1;}#sk-container-id-1 div.sk-parallel-item {display: flex;flex-direction: column;z-index: 1;position: relative;background-color: white;}#sk-container-id-1 div.sk-parallel-item:first-child::after {align-self: flex-end;width: 50%;}#sk-container-id-1 div.sk-parallel-item:last-child::after {align-self: flex-start;width: 50%;}#sk-container-id-1 div.sk-parallel-item:only-child::after {width: 0;}#sk-container-id-1 div.sk-dashed-wrapped {border: 1px dashed gray;margin: 0 0.4em 0.5em 0.4em;box-sizing: border-box;padding-bottom: 0.4em;background-color: white;}#sk-container-id-1 div.sk-label label {font-family: monospace;font-weight: bold;display: inline-block;line-height: 1.2em;}#sk-container-id-1 div.sk-label-container {text-align: center;}#sk-container-id-1 div.sk-container {/* jupyter's `normalize.less` sets `[hidden] { display: none; }` but bootstrap.min.css set `[hidden] { display: none !important; }` so we also need the `!important` here to be able to override the default hidden behavior on the sphinx rendered scikit-learn.org. See: https://github.com/scikit-learn/scikit-learn/issues/21755 */display: inline-block !important;position: relative;}#sk-container-id-1 div.sk-text-repr-fallback {display: none;}</style><div id=\"sk-container-id-1\" class=\"sk-top-container\"><div class=\"sk-text-repr-fallback\"><pre>Pipeline(steps=[(&#x27;preprocessor&#x27;,\n",
       "                 ColumnTransformer(transformers=[(&#x27;num&#x27;,\n",
       "                                                  Pipeline(steps=[(&#x27;imputer&#x27;,\n",
       "                                                                   SimpleImputer()),\n",
       "                                                                  (&#x27;scaler&#x27;,\n",
       "                                                                   StandardScaler())]),\n",
       "                                                  Index([&#x27;hla_match_c_high&#x27;, &#x27;hla_high_res_8&#x27;, &#x27;hla_low_res_6&#x27;, &#x27;hla_high_res_6&#x27;,\n",
       "       &#x27;hla_high_res_10&#x27;, &#x27;hla_match_dqb1_high&#x27;, &#x27;hla_nmdp_6&#x27;,\n",
       "       &#x27;hla_match_c_low&#x27;, &#x27;hla_match_drb1_low&#x27;, &#x27;hla_match_dqb1_low&#x27;,\n",
       "       &#x27;year_hct&#x27;, &#x27;hla_...\n",
       "       &#x27;cyto_score_detail&#x27;, &#x27;conditioning_intensity&#x27;, &#x27;ethnicity&#x27;, &#x27;obesity&#x27;,\n",
       "       &#x27;mrd_hct&#x27;, &#x27;in_vivo_tcd&#x27;, &#x27;tce_match&#x27;, &#x27;hepatic_severe&#x27;, &#x27;prior_tumor&#x27;,\n",
       "       &#x27;peptic_ulcer&#x27;, &#x27;gvhd_proph&#x27;, &#x27;rheum_issue&#x27;, &#x27;sex_match&#x27;, &#x27;race_group&#x27;,\n",
       "       &#x27;hepatic_mild&#x27;, &#x27;tce_div_match&#x27;, &#x27;donor_related&#x27;, &#x27;melphalan_dose&#x27;,\n",
       "       &#x27;cardiac&#x27;, &#x27;pulm_moderate&#x27;],\n",
       "      dtype=&#x27;object&#x27;))])),\n",
       "                (&#x27;classifier&#x27;, GradientBoostingRegressor(random_state=42))])</pre><b>In a Jupyter environment, please rerun this cell to show the HTML representation or trust the notebook. <br />On GitHub, the HTML representation is unable to render, please try loading this page with nbviewer.org.</b></div><div class=\"sk-container\" hidden><div class=\"sk-item sk-dashed-wrapped\"><div class=\"sk-label-container\"><div class=\"sk-label sk-toggleable\"><input class=\"sk-toggleable__control sk-hidden--visually\" id=\"sk-estimator-id-1\" type=\"checkbox\" ><label for=\"sk-estimator-id-1\" class=\"sk-toggleable__label sk-toggleable__label-arrow\">Pipeline</label><div class=\"sk-toggleable__content\"><pre>Pipeline(steps=[(&#x27;preprocessor&#x27;,\n",
       "                 ColumnTransformer(transformers=[(&#x27;num&#x27;,\n",
       "                                                  Pipeline(steps=[(&#x27;imputer&#x27;,\n",
       "                                                                   SimpleImputer()),\n",
       "                                                                  (&#x27;scaler&#x27;,\n",
       "                                                                   StandardScaler())]),\n",
       "                                                  Index([&#x27;hla_match_c_high&#x27;, &#x27;hla_high_res_8&#x27;, &#x27;hla_low_res_6&#x27;, &#x27;hla_high_res_6&#x27;,\n",
       "       &#x27;hla_high_res_10&#x27;, &#x27;hla_match_dqb1_high&#x27;, &#x27;hla_nmdp_6&#x27;,\n",
       "       &#x27;hla_match_c_low&#x27;, &#x27;hla_match_drb1_low&#x27;, &#x27;hla_match_dqb1_low&#x27;,\n",
       "       &#x27;year_hct&#x27;, &#x27;hla_...\n",
       "       &#x27;cyto_score_detail&#x27;, &#x27;conditioning_intensity&#x27;, &#x27;ethnicity&#x27;, &#x27;obesity&#x27;,\n",
       "       &#x27;mrd_hct&#x27;, &#x27;in_vivo_tcd&#x27;, &#x27;tce_match&#x27;, &#x27;hepatic_severe&#x27;, &#x27;prior_tumor&#x27;,\n",
       "       &#x27;peptic_ulcer&#x27;, &#x27;gvhd_proph&#x27;, &#x27;rheum_issue&#x27;, &#x27;sex_match&#x27;, &#x27;race_group&#x27;,\n",
       "       &#x27;hepatic_mild&#x27;, &#x27;tce_div_match&#x27;, &#x27;donor_related&#x27;, &#x27;melphalan_dose&#x27;,\n",
       "       &#x27;cardiac&#x27;, &#x27;pulm_moderate&#x27;],\n",
       "      dtype=&#x27;object&#x27;))])),\n",
       "                (&#x27;classifier&#x27;, GradientBoostingRegressor(random_state=42))])</pre></div></div></div><div class=\"sk-serial\"><div class=\"sk-item sk-dashed-wrapped\"><div class=\"sk-label-container\"><div class=\"sk-label sk-toggleable\"><input class=\"sk-toggleable__control sk-hidden--visually\" id=\"sk-estimator-id-2\" type=\"checkbox\" ><label for=\"sk-estimator-id-2\" class=\"sk-toggleable__label sk-toggleable__label-arrow\">preprocessor: ColumnTransformer</label><div class=\"sk-toggleable__content\"><pre>ColumnTransformer(transformers=[(&#x27;num&#x27;,\n",
       "                                 Pipeline(steps=[(&#x27;imputer&#x27;, SimpleImputer()),\n",
       "                                                 (&#x27;scaler&#x27;, StandardScaler())]),\n",
       "                                 Index([&#x27;hla_match_c_high&#x27;, &#x27;hla_high_res_8&#x27;, &#x27;hla_low_res_6&#x27;, &#x27;hla_high_res_6&#x27;,\n",
       "       &#x27;hla_high_res_10&#x27;, &#x27;hla_match_dqb1_high&#x27;, &#x27;hla_nmdp_6&#x27;,\n",
       "       &#x27;hla_match_c_low&#x27;, &#x27;hla_match_drb1_low&#x27;, &#x27;hla_match_dqb1_low&#x27;,\n",
       "       &#x27;year_hct&#x27;, &#x27;hla_match_a_high&#x27;, &#x27;donor_age&#x27;, &#x27;hla_m...\n",
       "       &#x27;prim_disease_hct&#x27;, &#x27;cmv_status&#x27;, &#x27;tce_imm_match&#x27;, &#x27;prod_type&#x27;,\n",
       "       &#x27;cyto_score_detail&#x27;, &#x27;conditioning_intensity&#x27;, &#x27;ethnicity&#x27;, &#x27;obesity&#x27;,\n",
       "       &#x27;mrd_hct&#x27;, &#x27;in_vivo_tcd&#x27;, &#x27;tce_match&#x27;, &#x27;hepatic_severe&#x27;, &#x27;prior_tumor&#x27;,\n",
       "       &#x27;peptic_ulcer&#x27;, &#x27;gvhd_proph&#x27;, &#x27;rheum_issue&#x27;, &#x27;sex_match&#x27;, &#x27;race_group&#x27;,\n",
       "       &#x27;hepatic_mild&#x27;, &#x27;tce_div_match&#x27;, &#x27;donor_related&#x27;, &#x27;melphalan_dose&#x27;,\n",
       "       &#x27;cardiac&#x27;, &#x27;pulm_moderate&#x27;],\n",
       "      dtype=&#x27;object&#x27;))])</pre></div></div></div><div class=\"sk-parallel\"><div class=\"sk-parallel-item\"><div class=\"sk-item\"><div class=\"sk-label-container\"><div class=\"sk-label sk-toggleable\"><input class=\"sk-toggleable__control sk-hidden--visually\" id=\"sk-estimator-id-3\" type=\"checkbox\" ><label for=\"sk-estimator-id-3\" class=\"sk-toggleable__label sk-toggleable__label-arrow\">num</label><div class=\"sk-toggleable__content\"><pre>Index([&#x27;hla_match_c_high&#x27;, &#x27;hla_high_res_8&#x27;, &#x27;hla_low_res_6&#x27;, &#x27;hla_high_res_6&#x27;,\n",
       "       &#x27;hla_high_res_10&#x27;, &#x27;hla_match_dqb1_high&#x27;, &#x27;hla_nmdp_6&#x27;,\n",
       "       &#x27;hla_match_c_low&#x27;, &#x27;hla_match_drb1_low&#x27;, &#x27;hla_match_dqb1_low&#x27;,\n",
       "       &#x27;year_hct&#x27;, &#x27;hla_match_a_high&#x27;, &#x27;donor_age&#x27;, &#x27;hla_match_b_low&#x27;,\n",
       "       &#x27;age_at_hct&#x27;, &#x27;hla_match_a_low&#x27;, &#x27;hla_match_b_high&#x27;,\n",
       "       &#x27;comorbidity_score&#x27;, &#x27;karnofsky_score&#x27;, &#x27;hla_low_res_8&#x27;,\n",
       "       &#x27;hla_match_drb1_high&#x27;, &#x27;hla_low_res_10&#x27;],\n",
       "      dtype=&#x27;object&#x27;)</pre></div></div></div><div class=\"sk-serial\"><div class=\"sk-item\"><div class=\"sk-serial\"><div class=\"sk-item\"><div class=\"sk-estimator sk-toggleable\"><input class=\"sk-toggleable__control sk-hidden--visually\" id=\"sk-estimator-id-4\" type=\"checkbox\" ><label for=\"sk-estimator-id-4\" class=\"sk-toggleable__label sk-toggleable__label-arrow\">SimpleImputer</label><div class=\"sk-toggleable__content\"><pre>SimpleImputer()</pre></div></div></div><div class=\"sk-item\"><div class=\"sk-estimator sk-toggleable\"><input class=\"sk-toggleable__control sk-hidden--visually\" id=\"sk-estimator-id-5\" type=\"checkbox\" ><label for=\"sk-estimator-id-5\" class=\"sk-toggleable__label sk-toggleable__label-arrow\">StandardScaler</label><div class=\"sk-toggleable__content\"><pre>StandardScaler()</pre></div></div></div></div></div></div></div></div><div class=\"sk-parallel-item\"><div class=\"sk-item\"><div class=\"sk-label-container\"><div class=\"sk-label sk-toggleable\"><input class=\"sk-toggleable__control sk-hidden--visually\" id=\"sk-estimator-id-6\" type=\"checkbox\" ><label for=\"sk-estimator-id-6\" class=\"sk-toggleable__label sk-toggleable__label-arrow\">cat</label><div class=\"sk-toggleable__content\"><pre>Index([&#x27;dri_score&#x27;, &#x27;psych_disturb&#x27;, &#x27;cyto_score&#x27;, &#x27;diabetes&#x27;, &#x27;tbi_status&#x27;,\n",
       "       &#x27;arrhythmia&#x27;, &#x27;graft_type&#x27;, &#x27;vent_hist&#x27;, &#x27;renal_issue&#x27;, &#x27;pulm_severe&#x27;,\n",
       "       &#x27;prim_disease_hct&#x27;, &#x27;cmv_status&#x27;, &#x27;tce_imm_match&#x27;, &#x27;prod_type&#x27;,\n",
       "       &#x27;cyto_score_detail&#x27;, &#x27;conditioning_intensity&#x27;, &#x27;ethnicity&#x27;, &#x27;obesity&#x27;,\n",
       "       &#x27;mrd_hct&#x27;, &#x27;in_vivo_tcd&#x27;, &#x27;tce_match&#x27;, &#x27;hepatic_severe&#x27;, &#x27;prior_tumor&#x27;,\n",
       "       &#x27;peptic_ulcer&#x27;, &#x27;gvhd_proph&#x27;, &#x27;rheum_issue&#x27;, &#x27;sex_match&#x27;, &#x27;race_group&#x27;,\n",
       "       &#x27;hepatic_mild&#x27;, &#x27;tce_div_match&#x27;, &#x27;donor_related&#x27;, &#x27;melphalan_dose&#x27;,\n",
       "       &#x27;cardiac&#x27;, &#x27;pulm_moderate&#x27;],\n",
       "      dtype=&#x27;object&#x27;)</pre></div></div></div><div class=\"sk-serial\"><div class=\"sk-item\"><div class=\"sk-serial\"><div class=\"sk-item\"><div class=\"sk-estimator sk-toggleable\"><input class=\"sk-toggleable__control sk-hidden--visually\" id=\"sk-estimator-id-7\" type=\"checkbox\" ><label for=\"sk-estimator-id-7\" class=\"sk-toggleable__label sk-toggleable__label-arrow\">SimpleImputer</label><div class=\"sk-toggleable__content\"><pre>SimpleImputer(strategy=&#x27;most_frequent&#x27;)</pre></div></div></div><div class=\"sk-item\"><div class=\"sk-estimator sk-toggleable\"><input class=\"sk-toggleable__control sk-hidden--visually\" id=\"sk-estimator-id-8\" type=\"checkbox\" ><label for=\"sk-estimator-id-8\" class=\"sk-toggleable__label sk-toggleable__label-arrow\">OneHotEncoder</label><div class=\"sk-toggleable__content\"><pre>OneHotEncoder(handle_unknown=&#x27;ignore&#x27;)</pre></div></div></div></div></div></div></div></div></div></div><div class=\"sk-item\"><div class=\"sk-estimator sk-toggleable\"><input class=\"sk-toggleable__control sk-hidden--visually\" id=\"sk-estimator-id-9\" type=\"checkbox\" ><label for=\"sk-estimator-id-9\" class=\"sk-toggleable__label sk-toggleable__label-arrow\">GradientBoostingRegressor</label><div class=\"sk-toggleable__content\"><pre>GradientBoostingRegressor(random_state=42)</pre></div></div></div></div></div></div></div>"
      ],
      "text/plain": [
       "Pipeline(steps=[('preprocessor',\n",
       "                 ColumnTransformer(transformers=[('num',\n",
       "                                                  Pipeline(steps=[('imputer',\n",
       "                                                                   SimpleImputer()),\n",
       "                                                                  ('scaler',\n",
       "                                                                   StandardScaler())]),\n",
       "                                                  Index(['hla_match_c_high', 'hla_high_res_8', 'hla_low_res_6', 'hla_high_res_6',\n",
       "       'hla_high_res_10', 'hla_match_dqb1_high', 'hla_nmdp_6',\n",
       "       'hla_match_c_low', 'hla_match_drb1_low', 'hla_match_dqb1_low',\n",
       "       'year_hct', 'hla_...\n",
       "       'cyto_score_detail', 'conditioning_intensity', 'ethnicity', 'obesity',\n",
       "       'mrd_hct', 'in_vivo_tcd', 'tce_match', 'hepatic_severe', 'prior_tumor',\n",
       "       'peptic_ulcer', 'gvhd_proph', 'rheum_issue', 'sex_match', 'race_group',\n",
       "       'hepatic_mild', 'tce_div_match', 'donor_related', 'melphalan_dose',\n",
       "       'cardiac', 'pulm_moderate'],\n",
       "      dtype='object'))])),\n",
       "                ('classifier', GradientBoostingRegressor(random_state=42))])"
      ]
     },
     "execution_count": 34,
     "metadata": {},
     "output_type": "execute_result"
    }
   ],
   "source": [
    "# Train the model on the full dataset\n",
    "model.fit(X1, target)"
   ]
  },
  {
   "cell_type": "code",
   "execution_count": 35,
   "id": "b0f428db",
   "metadata": {
    "execution": {
     "iopub.execute_input": "2025-01-11T10:02:02.909613Z",
     "iopub.status.busy": "2025-01-11T10:02:02.909255Z",
     "iopub.status.idle": "2025-01-11T10:02:02.936077Z",
     "shell.execute_reply": "2025-01-11T10:02:02.934672Z"
    },
    "papermill": {
     "duration": 0.040374,
     "end_time": "2025-01-11T10:02:02.938117",
     "exception": false,
     "start_time": "2025-01-11T10:02:02.897743",
     "status": "completed"
    },
    "tags": []
   },
   "outputs": [
    {
     "name": "stdout",
     "output_type": "stream",
     "text": [
      "Predictions saved to submission.csv\n"
     ]
    }
   ],
   "source": [
    "# Load the test data\n",
    "test_data = pd.read_csv('/kaggle/input/equity-post-HCT-survival-predictions/test.csv')\n",
    "\n",
    "# Predict probabilities for the test dataset\n",
    "prediction = model.predict(test_data.drop(columns=['ID', 'rituximab'], errors='ignore'))\n",
    "\n",
    "# Add predictions to the test dataset\n",
    "test_data['prediction'] = prediction\n",
    "\n",
    "# Save predictions to a new CSV file\n",
    "output_file_path = 'submission.csv'\n",
    "test_data[['ID', 'prediction']].to_csv(output_file_path, index=False)\n",
    "\n",
    "print(f\"Predictions saved to {output_file_path}\")"
   ]
  },
  {
   "cell_type": "code",
   "execution_count": null,
   "id": "9da9ad53",
   "metadata": {
    "papermill": {
     "duration": 0.009669,
     "end_time": "2025-01-11T10:02:02.958250",
     "exception": false,
     "start_time": "2025-01-11T10:02:02.948581",
     "status": "completed"
    },
    "tags": []
   },
   "outputs": [],
   "source": []
  }
 ],
 "metadata": {
  "kaggle": {
   "accelerator": "none",
   "dataSources": [
    {
     "databundleVersionId": 10381525,
     "sourceId": 70942,
     "sourceType": "competition"
    },
    {
     "sourceId": 211322530,
     "sourceType": "kernelVersion"
    }
   ],
   "isGpuEnabled": false,
   "isInternetEnabled": false,
   "language": "python",
   "sourceType": "notebook"
  },
  "kernelspec": {
   "display_name": "Python 3",
   "language": "python",
   "name": "python3"
  },
  "language_info": {
   "codemirror_mode": {
    "name": "ipython",
    "version": 3
   },
   "file_extension": ".py",
   "mimetype": "text/x-python",
   "name": "python",
   "nbconvert_exporter": "python",
   "pygments_lexer": "ipython3",
   "version": "3.10.12"
  },
  "papermill": {
   "default_parameters": {},
   "duration": 81.31661,
   "end_time": "2025-01-11T10:02:03.790447",
   "environment_variables": {},
   "exception": null,
   "input_path": "__notebook__.ipynb",
   "output_path": "__notebook__.ipynb",
   "parameters": {},
   "start_time": "2025-01-11T10:00:42.473837",
   "version": "2.6.0"
  }
 },
 "nbformat": 4,
 "nbformat_minor": 5
}
