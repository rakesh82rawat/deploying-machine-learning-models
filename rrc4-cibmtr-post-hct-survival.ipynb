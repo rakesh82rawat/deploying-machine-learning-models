{
 "cells": [
  {
   "cell_type": "code",
   "execution_count": 1,
   "id": "ff653d60",
   "metadata": {
    "_kg_hide-input": false,
    "_kg_hide-output": false,
    "execution": {
     "iopub.execute_input": "2025-01-11T07:32:52.297327Z",
     "iopub.status.busy": "2025-01-11T07:32:52.297023Z",
     "iopub.status.idle": "2025-01-11T07:33:12.165801Z",
     "shell.execute_reply": "2025-01-11T07:33:12.164786Z"
    },
    "papermill": {
     "duration": 19.877415,
     "end_time": "2025-01-11T07:33:12.167322",
     "exception": false,
     "start_time": "2025-01-11T07:32:52.289907",
     "status": "completed"
    },
    "tags": []
   },
   "outputs": [
    {
     "name": "stdout",
     "output_type": "stream",
     "text": [
      "Requirement already satisfied: autograd==1.7.0 in /usr/local/lib/python3.10/dist-packages (1.7.0)\r\n",
      "Requirement already satisfied: numpy in /usr/local/lib/python3.10/dist-packages (from autograd==1.7.0) (1.26.4)\r\n",
      "Collecting autograd-gamma==0.5.0\r\n",
      "  Downloading autograd-gamma-0.5.0.tar.gz (4.0 kB)\r\n",
      "  Preparing metadata (setup.py) ... \u001b[?25l\u001b[?25hdone\r\n",
      "Requirement already satisfied: autograd>=1.2.0 in /usr/local/lib/python3.10/dist-packages (from autograd-gamma==0.5.0) (1.7.0)\r\n",
      "Requirement already satisfied: scipy>=1.2.0 in /usr/local/lib/python3.10/dist-packages (from autograd-gamma==0.5.0) (1.13.1)\r\n",
      "Requirement already satisfied: numpy in /usr/local/lib/python3.10/dist-packages (from autograd>=1.2.0->autograd-gamma==0.5.0) (1.26.4)\r\n",
      "Building wheels for collected packages: autograd-gamma\r\n",
      "  Building wheel for autograd-gamma (setup.py) ... \u001b[?25l\u001b[?25hdone\r\n",
      "  Created wheel for autograd-gamma: filename=autograd_gamma-0.5.0-py3-none-any.whl size=4031 sha256=226c88ed2e22fa2843156f7d8e9ed755a3a232cc35aebe0adaa804d7a2c68b55\r\n",
      "  Stored in directory: /root/.cache/pip/wheels/25/cc/e0/ef2969164144c899fedb22b338f6703e2b9cf46eeebf254991\r\n",
      "Successfully built autograd-gamma\r\n",
      "Installing collected packages: autograd-gamma\r\n",
      "Successfully installed autograd-gamma-0.5.0\r\n",
      "Collecting interface_meta==1.3.0\r\n",
      "  Downloading interface_meta-1.3.0-py3-none-any.whl.metadata (6.7 kB)\r\n",
      "Downloading interface_meta-1.3.0-py3-none-any.whl (14 kB)\r\n",
      "Installing collected packages: interface_meta\r\n",
      "Successfully installed interface_meta-1.3.0\r\n",
      "Collecting formulaic==1.0.2\r\n",
      "  Downloading formulaic-1.0.2-py3-none-any.whl.metadata (6.8 kB)\r\n",
      "Requirement already satisfied: interface-meta>=1.2.0 in /usr/local/lib/python3.10/dist-packages (from formulaic==1.0.2) (1.3.0)\r\n",
      "Requirement already satisfied: numpy>=1.16.5 in /usr/local/lib/python3.10/dist-packages (from formulaic==1.0.2) (1.26.4)\r\n",
      "Requirement already satisfied: pandas>=1.0 in /usr/local/lib/python3.10/dist-packages (from formulaic==1.0.2) (2.1.4)\r\n",
      "Requirement already satisfied: scipy>=1.6 in /usr/local/lib/python3.10/dist-packages (from formulaic==1.0.2) (1.13.1)\r\n",
      "Requirement already satisfied: typing-extensions>=4.2.0 in /usr/local/lib/python3.10/dist-packages (from formulaic==1.0.2) (4.12.2)\r\n",
      "Requirement already satisfied: wrapt>=1.0 in /usr/local/lib/python3.10/dist-packages (from formulaic==1.0.2) (1.16.0)\r\n",
      "Requirement already satisfied: python-dateutil>=2.8.2 in /usr/local/lib/python3.10/dist-packages (from pandas>=1.0->formulaic==1.0.2) (2.8.2)\r\n",
      "Requirement already satisfied: pytz>=2020.1 in /usr/local/lib/python3.10/dist-packages (from pandas>=1.0->formulaic==1.0.2) (2024.2)\r\n",
      "Requirement already satisfied: tzdata>=2022.1 in /usr/local/lib/python3.10/dist-packages (from pandas>=1.0->formulaic==1.0.2) (2024.1)\r\n",
      "Requirement already satisfied: six>=1.5 in /usr/local/lib/python3.10/dist-packages (from python-dateutil>=2.8.2->pandas>=1.0->formulaic==1.0.2) (1.16.0)\r\n",
      "Downloading formulaic-1.0.2-py3-none-any.whl (94 kB)\r\n",
      "\u001b[2K   \u001b[90m━━━━━━━━━━━━━━━━━━━━━━━━━━━━━━━━━━━━━━━━\u001b[0m \u001b[32m94.5/94.5 kB\u001b[0m \u001b[31m3.3 MB/s\u001b[0m eta \u001b[36m0:00:00\u001b[0m\r\n",
      "\u001b[?25hInstalling collected packages: formulaic\r\n",
      "Successfully installed formulaic-1.0.2\r\n",
      "Collecting lifelines==0.30.0\r\n",
      "  Downloading lifelines-0.30.0-py3-none-any.whl.metadata (3.2 kB)\r\n",
      "Requirement already satisfied: numpy>=1.14.0 in /usr/local/lib/python3.10/dist-packages (from lifelines==0.30.0) (1.26.4)\r\n",
      "Requirement already satisfied: scipy>=1.7.0 in /usr/local/lib/python3.10/dist-packages (from lifelines==0.30.0) (1.13.1)\r\n",
      "Requirement already satisfied: pandas>=2.1 in /usr/local/lib/python3.10/dist-packages (from lifelines==0.30.0) (2.1.4)\r\n",
      "Requirement already satisfied: matplotlib>=3.0 in /usr/local/lib/python3.10/dist-packages (from lifelines==0.30.0) (3.7.1)\r\n",
      "Requirement already satisfied: autograd>=1.5 in /usr/local/lib/python3.10/dist-packages (from lifelines==0.30.0) (1.7.0)\r\n",
      "Requirement already satisfied: autograd-gamma>=0.3 in /usr/local/lib/python3.10/dist-packages (from lifelines==0.30.0) (0.5.0)\r\n",
      "Requirement already satisfied: formulaic>=0.2.2 in /usr/local/lib/python3.10/dist-packages (from lifelines==0.30.0) (1.0.2)\r\n",
      "Requirement already satisfied: interface-meta>=1.2.0 in /usr/local/lib/python3.10/dist-packages (from formulaic>=0.2.2->lifelines==0.30.0) (1.3.0)\r\n",
      "Requirement already satisfied: typing-extensions>=4.2.0 in /usr/local/lib/python3.10/dist-packages (from formulaic>=0.2.2->lifelines==0.30.0) (4.12.2)\r\n",
      "Requirement already satisfied: wrapt>=1.0 in /usr/local/lib/python3.10/dist-packages (from formulaic>=0.2.2->lifelines==0.30.0) (1.16.0)\r\n",
      "Requirement already satisfied: contourpy>=1.0.1 in /usr/local/lib/python3.10/dist-packages (from matplotlib>=3.0->lifelines==0.30.0) (1.3.0)\r\n",
      "Requirement already satisfied: cycler>=0.10 in /usr/local/lib/python3.10/dist-packages (from matplotlib>=3.0->lifelines==0.30.0) (0.12.1)\r\n",
      "Requirement already satisfied: fonttools>=4.22.0 in /usr/local/lib/python3.10/dist-packages (from matplotlib>=3.0->lifelines==0.30.0) (4.53.1)\r\n",
      "Requirement already satisfied: kiwisolver>=1.0.1 in /usr/local/lib/python3.10/dist-packages (from matplotlib>=3.0->lifelines==0.30.0) (1.4.7)\r\n",
      "Requirement already satisfied: packaging>=20.0 in /usr/local/lib/python3.10/dist-packages (from matplotlib>=3.0->lifelines==0.30.0) (24.1)\r\n",
      "Requirement already satisfied: pillow>=6.2.0 in /usr/local/lib/python3.10/dist-packages (from matplotlib>=3.0->lifelines==0.30.0) (10.4.0)\r\n",
      "Requirement already satisfied: pyparsing>=2.3.1 in /usr/local/lib/python3.10/dist-packages (from matplotlib>=3.0->lifelines==0.30.0) (3.1.4)\r\n",
      "Requirement already satisfied: python-dateutil>=2.7 in /usr/local/lib/python3.10/dist-packages (from matplotlib>=3.0->lifelines==0.30.0) (2.8.2)\r\n",
      "Requirement already satisfied: pytz>=2020.1 in /usr/local/lib/python3.10/dist-packages (from pandas>=2.1->lifelines==0.30.0) (2024.2)\r\n",
      "Requirement already satisfied: tzdata>=2022.1 in /usr/local/lib/python3.10/dist-packages (from pandas>=2.1->lifelines==0.30.0) (2024.1)\r\n",
      "Requirement already satisfied: six>=1.5 in /usr/local/lib/python3.10/dist-packages (from python-dateutil>=2.7->matplotlib>=3.0->lifelines==0.30.0) (1.16.0)\r\n",
      "Downloading lifelines-0.30.0-py3-none-any.whl (349 kB)\r\n",
      "\u001b[2K   \u001b[90m━━━━━━━━━━━━━━━━━━━━━━━━━━━━━━━━━━━━━━━━\u001b[0m \u001b[32m349.3/349.3 kB\u001b[0m \u001b[31m6.7 MB/s\u001b[0m eta \u001b[36m0:00:00\u001b[0m\r\n",
      "\u001b[?25hInstalling collected packages: lifelines\r\n",
      "Successfully installed lifelines-0.30.0\r\n"
     ]
    }
   ],
   "source": [
    "# Installations-1\n",
    "\n",
    "!pip install autograd==1.7.0\n",
    "!pip install autograd-gamma==0.5.0\n",
    "!pip install interface_meta==1.3.0\n",
    "!pip install formulaic==1.0.2\n",
    "!pip install lifelines==0.30.0"
   ]
  },
  {
   "cell_type": "code",
   "execution_count": 2,
   "id": "18e83f0f",
   "metadata": {
    "_kg_hide-input": true,
    "_kg_hide-output": true,
    "execution": {
     "iopub.execute_input": "2025-01-11T07:33:12.182495Z",
     "iopub.status.busy": "2025-01-11T07:33:12.182222Z",
     "iopub.status.idle": "2025-01-11T07:33:19.690607Z",
     "shell.execute_reply": "2025-01-11T07:33:19.689574Z"
    },
    "papermill": {
     "duration": 7.517612,
     "end_time": "2025-01-11T07:33:19.692412",
     "exception": false,
     "start_time": "2025-01-11T07:33:12.174800",
     "status": "completed"
    },
    "tags": []
   },
   "outputs": [
    {
     "name": "stdout",
     "output_type": "stream",
     "text": [
      "Collecting lifelines\r\n",
      "  Using cached lifelines-0.30.0-py3-none-any.whl.metadata (3.2 kB)\r\n",
      "Collecting numpy>=1.14.0 (from lifelines)\r\n",
      "  Downloading numpy-2.2.1-cp310-cp310-manylinux_2_17_x86_64.manylinux2014_x86_64.whl.metadata (62 kB)\r\n",
      "\u001b[2K     \u001b[90m━━━━━━━━━━━━━━━━━━━━━━━━━━━━━━━━━━━━━━━━\u001b[0m \u001b[32m62.0/62.0 kB\u001b[0m \u001b[31m2.4 MB/s\u001b[0m eta \u001b[36m0:00:00\u001b[0m\r\n",
      "\u001b[?25hCollecting scipy>=1.7.0 (from lifelines)\r\n",
      "  Downloading scipy-1.15.1-cp310-cp310-manylinux_2_17_x86_64.manylinux2014_x86_64.whl.metadata (61 kB)\r\n",
      "\u001b[2K     \u001b[90m━━━━━━━━━━━━━━━━━━━━━━━━━━━━━━━━━━━━━━━━\u001b[0m \u001b[32m62.0/62.0 kB\u001b[0m \u001b[31m3.7 MB/s\u001b[0m eta \u001b[36m0:00:00\u001b[0m\r\n",
      "\u001b[?25hCollecting pandas>=2.1 (from lifelines)\r\n",
      "  Downloading pandas-2.2.3-cp310-cp310-manylinux_2_17_x86_64.manylinux2014_x86_64.whl.metadata (89 kB)\r\n",
      "\u001b[2K     \u001b[90m━━━━━━━━━━━━━━━━━━━━━━━━━━━━━━━━━━━━━━━━\u001b[0m \u001b[32m89.9/89.9 kB\u001b[0m \u001b[31m6.9 MB/s\u001b[0m eta \u001b[36m0:00:00\u001b[0m\r\n",
      "\u001b[?25hCollecting matplotlib>=3.0 (from lifelines)\r\n",
      "  Downloading matplotlib-3.10.0-cp310-cp310-manylinux_2_17_x86_64.manylinux2014_x86_64.whl.metadata (11 kB)\r\n",
      "Collecting autograd>=1.5 (from lifelines)\r\n",
      "  Downloading autograd-1.7.0-py3-none-any.whl.metadata (7.5 kB)\r\n",
      "Collecting autograd-gamma>=0.3 (from lifelines)\r\n",
      "  Using cached autograd-gamma-0.5.0.tar.gz (4.0 kB)\r\n",
      "  Preparing metadata (setup.py) ... \u001b[?25l\u001b[?25hdone\r\n",
      "Collecting formulaic>=0.2.2 (from lifelines)\r\n",
      "  Downloading formulaic-1.1.1-py3-none-any.whl.metadata (6.9 kB)\r\n",
      "Collecting interface-meta>=1.2.0 (from formulaic>=0.2.2->lifelines)\r\n",
      "  Using cached interface_meta-1.3.0-py3-none-any.whl.metadata (6.7 kB)\r\n",
      "Collecting typing-extensions>=4.2.0 (from formulaic>=0.2.2->lifelines)\r\n",
      "  Downloading typing_extensions-4.12.2-py3-none-any.whl.metadata (3.0 kB)\r\n",
      "Collecting wrapt>=1.0 (from formulaic>=0.2.2->lifelines)\r\n",
      "  Downloading wrapt-1.17.1-cp310-cp310-manylinux_2_5_x86_64.manylinux1_x86_64.manylinux_2_17_x86_64.manylinux2014_x86_64.whl.metadata (6.4 kB)\r\n",
      "Collecting contourpy>=1.0.1 (from matplotlib>=3.0->lifelines)\r\n",
      "  Downloading contourpy-1.3.1-cp310-cp310-manylinux_2_17_x86_64.manylinux2014_x86_64.whl.metadata (5.4 kB)\r\n",
      "Collecting cycler>=0.10 (from matplotlib>=3.0->lifelines)\r\n",
      "  Downloading cycler-0.12.1-py3-none-any.whl.metadata (3.8 kB)\r\n",
      "Collecting fonttools>=4.22.0 (from matplotlib>=3.0->lifelines)\r\n",
      "  Downloading fonttools-4.55.3-cp310-cp310-manylinux_2_17_x86_64.manylinux2014_x86_64.whl.metadata (165 kB)\r\n",
      "\u001b[2K     \u001b[90m━━━━━━━━━━━━━━━━━━━━━━━━━━━━━━━━━━━━━━━━\u001b[0m \u001b[32m165.1/165.1 kB\u001b[0m \u001b[31m8.0 MB/s\u001b[0m eta \u001b[36m0:00:00\u001b[0m\r\n",
      "\u001b[?25hCollecting kiwisolver>=1.3.1 (from matplotlib>=3.0->lifelines)\r\n",
      "  Downloading kiwisolver-1.4.8-cp310-cp310-manylinux_2_12_x86_64.manylinux2010_x86_64.whl.metadata (6.2 kB)\r\n",
      "Collecting packaging>=20.0 (from matplotlib>=3.0->lifelines)\r\n",
      "  Downloading packaging-24.2-py3-none-any.whl.metadata (3.2 kB)\r\n",
      "Collecting pillow>=8 (from matplotlib>=3.0->lifelines)\r\n",
      "  Downloading pillow-11.1.0-cp310-cp310-manylinux_2_28_x86_64.whl.metadata (9.1 kB)\r\n",
      "Collecting pyparsing>=2.3.1 (from matplotlib>=3.0->lifelines)\r\n",
      "  Downloading pyparsing-3.2.1-py3-none-any.whl.metadata (5.0 kB)\r\n",
      "Collecting python-dateutil>=2.7 (from matplotlib>=3.0->lifelines)\r\n",
      "  Downloading python_dateutil-2.9.0.post0-py2.py3-none-any.whl.metadata (8.4 kB)\r\n",
      "Collecting pytz>=2020.1 (from pandas>=2.1->lifelines)\r\n",
      "  Downloading pytz-2024.2-py2.py3-none-any.whl.metadata (22 kB)\r\n",
      "Collecting tzdata>=2022.7 (from pandas>=2.1->lifelines)\r\n",
      "  Downloading tzdata-2024.2-py2.py3-none-any.whl.metadata (1.4 kB)\r\n",
      "Collecting six>=1.5 (from python-dateutil>=2.7->matplotlib>=3.0->lifelines)\r\n",
      "  Downloading six-1.17.0-py2.py3-none-any.whl.metadata (1.7 kB)\r\n",
      "Using cached lifelines-0.30.0-py3-none-any.whl (349 kB)\r\n",
      "Downloading autograd-1.7.0-py3-none-any.whl (52 kB)\r\n",
      "\u001b[2K   \u001b[90m━━━━━━━━━━━━━━━━━━━━━━━━━━━━━━━━━━━━━━━━\u001b[0m \u001b[32m52.5/52.5 kB\u001b[0m \u001b[31m2.9 MB/s\u001b[0m eta \u001b[36m0:00:00\u001b[0m\r\n",
      "\u001b[?25hDownloading formulaic-1.1.1-py3-none-any.whl (115 kB)\r\n",
      "\u001b[2K   \u001b[90m━━━━━━━━━━━━━━━━━━━━━━━━━━━━━━━━━━━━━━━━\u001b[0m \u001b[32m115.7/115.7 kB\u001b[0m \u001b[31m6.6 MB/s\u001b[0m eta \u001b[36m0:00:00\u001b[0m\r\n",
      "\u001b[?25hDownloading matplotlib-3.10.0-cp310-cp310-manylinux_2_17_x86_64.manylinux2014_x86_64.whl (8.6 MB)\r\n",
      "\u001b[2K   \u001b[90m━━━━━━━━━━━━━━━━━━━━━━━━━━━━━━━━━━━━━━━━\u001b[0m \u001b[32m8.6/8.6 MB\u001b[0m \u001b[31m84.7 MB/s\u001b[0m eta \u001b[36m0:00:00\u001b[0m\r\n",
      "\u001b[?25hDownloading numpy-2.2.1-cp310-cp310-manylinux_2_17_x86_64.manylinux2014_x86_64.whl (16.4 MB)\r\n",
      "\u001b[2K   \u001b[90m━━━━━━━━━━━━━━━━━━━━━━━━━━━━━━━━━━━━━━━━\u001b[0m \u001b[32m16.4/16.4 MB\u001b[0m \u001b[31m94.8 MB/s\u001b[0m eta \u001b[36m0:00:00\u001b[0m\r\n",
      "\u001b[?25hDownloading pandas-2.2.3-cp310-cp310-manylinux_2_17_x86_64.manylinux2014_x86_64.whl (13.1 MB)\r\n",
      "\u001b[2K   \u001b[90m━━━━━━━━━━━━━━━━━━━━━━━━━━━━━━━━━━━━━━━━\u001b[0m \u001b[32m13.1/13.1 MB\u001b[0m \u001b[31m102.2 MB/s\u001b[0m eta \u001b[36m0:00:00\u001b[0m\r\n",
      "\u001b[?25hDownloading scipy-1.15.1-cp310-cp310-manylinux_2_17_x86_64.manylinux2014_x86_64.whl (40.6 MB)\r\n",
      "\u001b[2K   \u001b[90m━━━━━━━━━━━━━━━━━━━━━━━━━━━━━━━━━━━━━━━━\u001b[0m \u001b[32m40.6/40.6 MB\u001b[0m \u001b[31m44.7 MB/s\u001b[0m eta \u001b[36m0:00:00\u001b[0m\r\n",
      "\u001b[?25hDownloading contourpy-1.3.1-cp310-cp310-manylinux_2_17_x86_64.manylinux2014_x86_64.whl (324 kB)\r\n",
      "\u001b[2K   \u001b[90m━━━━━━━━━━━━━━━━━━━━━━━━━━━━━━━━━━━━━━━━\u001b[0m \u001b[32m325.0/325.0 kB\u001b[0m \u001b[31m19.2 MB/s\u001b[0m eta \u001b[36m0:00:00\u001b[0m\r\n",
      "\u001b[?25hDownloading cycler-0.12.1-py3-none-any.whl (8.3 kB)\r\n",
      "Downloading fonttools-4.55.3-cp310-cp310-manylinux_2_17_x86_64.manylinux2014_x86_64.whl (4.6 MB)\r\n",
      "\u001b[2K   \u001b[90m━━━━━━━━━━━━━━━━━━━━━━━━━━━━━━━━━━━━━━━━\u001b[0m \u001b[32m4.6/4.6 MB\u001b[0m \u001b[31m97.9 MB/s\u001b[0m eta \u001b[36m0:00:00\u001b[0m\r\n",
      "\u001b[?25hUsing cached interface_meta-1.3.0-py3-none-any.whl (14 kB)\r\n",
      "Downloading kiwisolver-1.4.8-cp310-cp310-manylinux_2_12_x86_64.manylinux2010_x86_64.whl (1.6 MB)\r\n",
      "\u001b[2K   \u001b[90m━━━━━━━━━━━━━━━━━━━━━━━━━━━━━━━━━━━━━━━━\u001b[0m \u001b[32m1.6/1.6 MB\u001b[0m \u001b[31m63.4 MB/s\u001b[0m eta \u001b[36m0:00:00\u001b[0m\r\n",
      "\u001b[?25hDownloading packaging-24.2-py3-none-any.whl (65 kB)\r\n",
      "\u001b[2K   \u001b[90m━━━━━━━━━━━━━━━━━━━━━━━━━━━━━━━━━━━━━━━━\u001b[0m \u001b[32m65.5/65.5 kB\u001b[0m \u001b[31m4.1 MB/s\u001b[0m eta \u001b[36m0:00:00\u001b[0m\r\n",
      "\u001b[?25hDownloading pillow-11.1.0-cp310-cp310-manylinux_2_28_x86_64.whl (4.5 MB)\r\n",
      "\u001b[2K   \u001b[90m━━━━━━━━━━━━━━━━━━━━━━━━━━━━━━━━━━━━━━━━\u001b[0m \u001b[32m4.5/4.5 MB\u001b[0m \u001b[31m94.6 MB/s\u001b[0m eta \u001b[36m0:00:00\u001b[0m\r\n",
      "\u001b[?25hDownloading pyparsing-3.2.1-py3-none-any.whl (107 kB)\r\n",
      "\u001b[2K   \u001b[90m━━━━━━━━━━━━━━━━━━━━━━━━━━━━━━━━━━━━━━━━\u001b[0m \u001b[32m107.7/107.7 kB\u001b[0m \u001b[31m6.6 MB/s\u001b[0m eta \u001b[36m0:00:00\u001b[0m\r\n",
      "\u001b[?25hDownloading python_dateutil-2.9.0.post0-py2.py3-none-any.whl (229 kB)\r\n",
      "\u001b[2K   \u001b[90m━━━━━━━━━━━━━━━━━━━━━━━━━━━━━━━━━━━━━━━━\u001b[0m \u001b[32m229.9/229.9 kB\u001b[0m \u001b[31m16.5 MB/s\u001b[0m eta \u001b[36m0:00:00\u001b[0m\r\n",
      "\u001b[?25hDownloading pytz-2024.2-py2.py3-none-any.whl (508 kB)\r\n",
      "\u001b[2K   \u001b[90m━━━━━━━━━━━━━━━━━━━━━━━━━━━━━━━━━━━━━━━━\u001b[0m \u001b[32m508.0/508.0 kB\u001b[0m \u001b[31m25.7 MB/s\u001b[0m eta \u001b[36m0:00:00\u001b[0m\r\n",
      "\u001b[?25hDownloading typing_extensions-4.12.2-py3-none-any.whl (37 kB)\r\n",
      "Downloading tzdata-2024.2-py2.py3-none-any.whl (346 kB)\r\n",
      "\u001b[2K   \u001b[90m━━━━━━━━━━━━━━━━━━━━━━━━━━━━━━━━━━━━━━━━\u001b[0m \u001b[32m346.6/346.6 kB\u001b[0m \u001b[31m22.1 MB/s\u001b[0m eta \u001b[36m0:00:00\u001b[0m\r\n",
      "\u001b[?25hDownloading wrapt-1.17.1-cp310-cp310-manylinux_2_5_x86_64.manylinux1_x86_64.manylinux_2_17_x86_64.manylinux2014_x86_64.whl (82 kB)\r\n",
      "\u001b[2K   \u001b[90m━━━━━━━━━━━━━━━━━━━━━━━━━━━━━━━━━━━━━━━━\u001b[0m \u001b[32m82.8/82.8 kB\u001b[0m \u001b[31m5.4 MB/s\u001b[0m eta \u001b[36m0:00:00\u001b[0m\r\n",
      "\u001b[?25hDownloading six-1.17.0-py2.py3-none-any.whl (11 kB)\r\n",
      "Saved ./lifelines-0.30.0-py3-none-any.whl\r\n",
      "Saved ./autograd-1.7.0-py3-none-any.whl\r\n",
      "Saved ./autograd-gamma-0.5.0.tar.gz\r\n",
      "Saved ./formulaic-1.1.1-py3-none-any.whl\r\n",
      "Saved ./matplotlib-3.10.0-cp310-cp310-manylinux_2_17_x86_64.manylinux2014_x86_64.whl\r\n",
      "Saved ./numpy-2.2.1-cp310-cp310-manylinux_2_17_x86_64.manylinux2014_x86_64.whl\r\n",
      "Saved ./pandas-2.2.3-cp310-cp310-manylinux_2_17_x86_64.manylinux2014_x86_64.whl\r\n",
      "Saved ./scipy-1.15.1-cp310-cp310-manylinux_2_17_x86_64.manylinux2014_x86_64.whl\r\n",
      "Saved ./contourpy-1.3.1-cp310-cp310-manylinux_2_17_x86_64.manylinux2014_x86_64.whl\r\n",
      "Saved ./cycler-0.12.1-py3-none-any.whl\r\n",
      "Saved ./fonttools-4.55.3-cp310-cp310-manylinux_2_17_x86_64.manylinux2014_x86_64.whl\r\n",
      "Saved ./interface_meta-1.3.0-py3-none-any.whl\r\n",
      "Saved ./kiwisolver-1.4.8-cp310-cp310-manylinux_2_12_x86_64.manylinux2010_x86_64.whl\r\n",
      "Saved ./packaging-24.2-py3-none-any.whl\r\n",
      "Saved ./pillow-11.1.0-cp310-cp310-manylinux_2_28_x86_64.whl\r\n",
      "Saved ./pyparsing-3.2.1-py3-none-any.whl\r\n",
      "Saved ./python_dateutil-2.9.0.post0-py2.py3-none-any.whl\r\n",
      "Saved ./pytz-2024.2-py2.py3-none-any.whl\r\n",
      "Saved ./typing_extensions-4.12.2-py3-none-any.whl\r\n",
      "Saved ./tzdata-2024.2-py2.py3-none-any.whl\r\n",
      "Saved ./wrapt-1.17.1-cp310-cp310-manylinux_2_5_x86_64.manylinux1_x86_64.manylinux_2_17_x86_64.manylinux2014_x86_64.whl\r\n",
      "Saved ./six-1.17.0-py2.py3-none-any.whl\r\n",
      "Successfully downloaded lifelines autograd autograd-gamma formulaic matplotlib numpy pandas scipy contourpy cycler fonttools interface-meta kiwisolver packaging pillow pyparsing python-dateutil pytz typing-extensions tzdata wrapt six\r\n"
     ]
    }
   ],
   "source": [
    "!pip download lifelines"
   ]
  },
  {
   "cell_type": "code",
   "execution_count": 3,
   "id": "40589fa6",
   "metadata": {
    "execution": {
     "iopub.execute_input": "2025-01-11T07:33:19.712872Z",
     "iopub.status.busy": "2025-01-11T07:33:19.712624Z",
     "iopub.status.idle": "2025-01-11T07:33:23.902391Z",
     "shell.execute_reply": "2025-01-11T07:33:23.901670Z"
    },
    "papermill": {
     "duration": 4.201383,
     "end_time": "2025-01-11T07:33:23.903911",
     "exception": false,
     "start_time": "2025-01-11T07:33:19.702528",
     "status": "completed"
    },
    "tags": []
   },
   "outputs": [
    {
     "name": "stdout",
     "output_type": "stream",
     "text": [
      "Requirement already satisfied: scikit-learn in /usr/local/lib/python3.10/dist-packages (1.2.2)\r\n",
      "Requirement already satisfied: numpy>=1.17.3 in /usr/local/lib/python3.10/dist-packages (from scikit-learn) (1.26.4)\r\n",
      "Requirement already satisfied: scipy>=1.3.2 in /usr/local/lib/python3.10/dist-packages (from scikit-learn) (1.13.1)\r\n",
      "Requirement already satisfied: joblib>=1.1.1 in /usr/local/lib/python3.10/dist-packages (from scikit-learn) (1.4.2)\r\n",
      "Requirement already satisfied: threadpoolctl>=2.0.0 in /usr/local/lib/python3.10/dist-packages (from scikit-learn) (3.5.0)\r\n"
     ]
    }
   ],
   "source": [
    "!pip install scikit-learn\n",
    "\n",
    "from sklearn import metrics"
   ]
  },
  {
   "cell_type": "code",
   "execution_count": 4,
   "id": "c785465a",
   "metadata": {
    "execution": {
     "iopub.execute_input": "2025-01-11T07:33:23.925772Z",
     "iopub.status.busy": "2025-01-11T07:33:23.925412Z",
     "iopub.status.idle": "2025-01-11T07:33:28.970318Z",
     "shell.execute_reply": "2025-01-11T07:33:28.969659Z"
    },
    "papermill": {
     "duration": 5.057148,
     "end_time": "2025-01-11T07:33:28.972181",
     "exception": false,
     "start_time": "2025-01-11T07:33:23.915033",
     "status": "completed"
    },
    "tags": []
   },
   "outputs": [],
   "source": [
    "\n",
    "import warnings\n",
    "from pathlib import Path\n",
    "warnings.filterwarnings('ignore')\n",
    "import numpy as np\n",
    "import polars as pl\n",
    "import pandas as pd\n",
    "import plotly.colors as pc\n",
    "import plotly.express as px\n",
    "import plotly.graph_objects as go\n",
    "import lightgbm as lgb\n",
    "#from metrics import score\n",
    "from scipy.stats import rankdata \n",
    "from catboost import CatBoostRegressor\n",
    "from sklearn.model_selection import KFold\n",
    "from lifelines import CoxPHFitter, KaplanMeierFitter, NelsonAalenFitter\n",
    "from sklearn.preprocessing import StandardScaler\n",
    "\n",
    "import plotly.io as pio\n",
    "pio.renderers.default = 'iframe'\n",
    "pd.options.display.max_columns = None "
   ]
  },
  {
   "cell_type": "code",
   "execution_count": 5,
   "id": "d6e589d3",
   "metadata": {
    "execution": {
     "iopub.execute_input": "2025-01-11T07:33:28.992769Z",
     "iopub.status.busy": "2025-01-11T07:33:28.992532Z",
     "iopub.status.idle": "2025-01-11T07:33:29.193194Z",
     "shell.execute_reply": "2025-01-11T07:33:29.192529Z"
    },
    "papermill": {
     "duration": 0.21229,
     "end_time": "2025-01-11T07:33:29.194788",
     "exception": false,
     "start_time": "2025-01-11T07:33:28.982498",
     "status": "completed"
    },
    "tags": []
   },
   "outputs": [],
   "source": [
    "from sklearn.pipeline import Pipeline\n",
    "from sklearn.impute import SimpleImputer\n",
    "from sklearn.preprocessing import StandardScaler"
   ]
  },
  {
   "cell_type": "code",
   "execution_count": 6,
   "id": "acb1f88d",
   "metadata": {
    "execution": {
     "iopub.execute_input": "2025-01-11T07:33:29.216118Z",
     "iopub.status.busy": "2025-01-11T07:33:29.215894Z",
     "iopub.status.idle": "2025-01-11T07:33:29.577235Z",
     "shell.execute_reply": "2025-01-11T07:33:29.576517Z"
    },
    "papermill": {
     "duration": 0.373416,
     "end_time": "2025-01-11T07:33:29.578763",
     "exception": false,
     "start_time": "2025-01-11T07:33:29.205347",
     "status": "completed"
    },
    "tags": []
   },
   "outputs": [],
   "source": [
    "# Import dataset (df0)\n",
    "df0=pd.read_csv('/kaggle/input/equity-post-HCT-survival-predictions/train.csv')"
   ]
  },
  {
   "cell_type": "code",
   "execution_count": 7,
   "id": "e13c01d8",
   "metadata": {
    "execution": {
     "iopub.execute_input": "2025-01-11T07:33:29.602372Z",
     "iopub.status.busy": "2025-01-11T07:33:29.602101Z",
     "iopub.status.idle": "2025-01-11T07:33:29.619509Z",
     "shell.execute_reply": "2025-01-11T07:33:29.618749Z"
    },
    "papermill": {
     "duration": 0.032252,
     "end_time": "2025-01-11T07:33:29.621623",
     "exception": false,
     "start_time": "2025-01-11T07:33:29.589371",
     "status": "completed"
    },
    "tags": []
   },
   "outputs": [],
   "source": [
    "df = df0.drop('ID', axis=1)"
   ]
  },
  {
   "cell_type": "markdown",
   "id": "8de27899",
   "metadata": {
    "papermill": {
     "duration": 0.010299,
     "end_time": "2025-01-11T07:33:29.642239",
     "exception": false,
     "start_time": "2025-01-11T07:33:29.631940",
     "status": "completed"
    },
    "tags": []
   },
   "source": [
    "#### KaplanMeierFitter()\n",
    "_The KaplanMeierFitter_ is a tool from the lifelines library in Python used for survival analysis. It allows you to create Kaplan-Meier estimates, which are used to estimate the survival function from lifetime data.  \n",
    "It's a class provided by the lifelines library, which makes it easier to fit and plot survival curves."
   ]
  },
  {
   "cell_type": "code",
   "execution_count": 8,
   "id": "d8fed154",
   "metadata": {
    "execution": {
     "iopub.execute_input": "2025-01-11T07:33:29.663089Z",
     "iopub.status.busy": "2025-01-11T07:33:29.662805Z",
     "iopub.status.idle": "2025-01-11T07:33:29.711609Z",
     "shell.execute_reply": "2025-01-11T07:33:29.710871Z"
    },
    "papermill": {
     "duration": 0.061262,
     "end_time": "2025-01-11T07:33:29.713161",
     "exception": false,
     "start_time": "2025-01-11T07:33:29.651899",
     "status": "completed"
    },
    "tags": []
   },
   "outputs": [],
   "source": [
    "# Combining 2 target variables (efs and efs_time) into One Target- \n",
    "\n",
    "def kaplan(data=df, time_col = 'efs_time', event_col='efs'):\n",
    "    \n",
    "    kmf = KaplanMeierFitter()\n",
    "    kmf.fit(data[time_col], event_observed=data[event_col])\n",
    "    return kmf.survival_function_at_times(df[time_col]).values.flatten()\n",
    "\n",
    "\n",
    "df['target'] = kaplan(data=df)"
   ]
  },
  {
   "cell_type": "code",
   "execution_count": 9,
   "id": "843c7a03",
   "metadata": {
    "execution": {
     "iopub.execute_input": "2025-01-11T07:33:29.733904Z",
     "iopub.status.busy": "2025-01-11T07:33:29.733673Z",
     "iopub.status.idle": "2025-01-11T07:33:29.738738Z",
     "shell.execute_reply": "2025-01-11T07:33:29.738064Z"
    },
    "papermill": {
     "duration": 0.016082,
     "end_time": "2025-01-11T07:33:29.739979",
     "exception": false,
     "start_time": "2025-01-11T07:33:29.723897",
     "status": "completed"
    },
    "tags": []
   },
   "outputs": [
    {
     "data": {
      "text/plain": [
       "(28800, 60)"
      ]
     },
     "execution_count": 9,
     "metadata": {},
     "output_type": "execute_result"
    }
   ],
   "source": [
    "df.shape"
   ]
  },
  {
   "cell_type": "code",
   "execution_count": 10,
   "id": "dfa12a5d",
   "metadata": {
    "execution": {
     "iopub.execute_input": "2025-01-11T07:33:29.760973Z",
     "iopub.status.busy": "2025-01-11T07:33:29.760735Z",
     "iopub.status.idle": "2025-01-11T07:33:29.769906Z",
     "shell.execute_reply": "2025-01-11T07:33:29.769133Z"
    },
    "papermill": {
     "duration": 0.020733,
     "end_time": "2025-01-11T07:33:29.771131",
     "exception": false,
     "start_time": "2025-01-11T07:33:29.750398",
     "status": "completed"
    },
    "tags": []
   },
   "outputs": [],
   "source": [
    "df = df.drop(columns=['efs', 'efs_time'], errors='ignore')"
   ]
  },
  {
   "cell_type": "code",
   "execution_count": 11,
   "id": "acb344df",
   "metadata": {
    "execution": {
     "iopub.execute_input": "2025-01-11T07:33:29.790719Z",
     "iopub.status.busy": "2025-01-11T07:33:29.790482Z",
     "iopub.status.idle": "2025-01-11T07:33:29.976194Z",
     "shell.execute_reply": "2025-01-11T07:33:29.975363Z"
    },
    "papermill": {
     "duration": 0.197053,
     "end_time": "2025-01-11T07:33:29.977639",
     "exception": false,
     "start_time": "2025-01-11T07:33:29.780586",
     "status": "completed"
    },
    "tags": []
   },
   "outputs": [
    {
     "data": {
      "text/plain": [
       "Series([], dtype: bool)"
      ]
     },
     "execution_count": 11,
     "metadata": {},
     "output_type": "execute_result"
    }
   ],
   "source": [
    "df.duplicated()[df.duplicated()==True]\n",
    "    #> No duplicates found"
   ]
  },
  {
   "cell_type": "markdown",
   "id": "bf73ca5b",
   "metadata": {
    "papermill": {
     "duration": 0.00953,
     "end_time": "2025-01-11T07:33:29.997190",
     "exception": false,
     "start_time": "2025-01-11T07:33:29.987660",
     "status": "completed"
    },
    "tags": []
   },
   "source": [
    "## Handling Missing Variables"
   ]
  },
  {
   "cell_type": "code",
   "execution_count": 12,
   "id": "97d7f5a3",
   "metadata": {
    "execution": {
     "iopub.execute_input": "2025-01-11T07:33:30.018423Z",
     "iopub.status.busy": "2025-01-11T07:33:30.018180Z",
     "iopub.status.idle": "2025-01-11T07:33:30.607841Z",
     "shell.execute_reply": "2025-01-11T07:33:30.607011Z"
    },
    "papermill": {
     "duration": 0.601361,
     "end_time": "2025-01-11T07:33:30.609475",
     "exception": false,
     "start_time": "2025-01-11T07:33:30.008114",
     "status": "completed"
    },
    "tags": []
   },
   "outputs": [],
   "source": [
    "for col in df.select_dtypes(include='object').columns:\n",
    "       df[col] = df[col].str.strip().str.lower().replace(\n",
    "        {'n/a': None, 'na': None, 'nan': None, '-': None})"
   ]
  },
  {
   "cell_type": "code",
   "execution_count": 13,
   "id": "d34a1877",
   "metadata": {
    "execution": {
     "iopub.execute_input": "2025-01-11T07:33:30.632004Z",
     "iopub.status.busy": "2025-01-11T07:33:30.631741Z",
     "iopub.status.idle": "2025-01-11T07:33:30.638295Z",
     "shell.execute_reply": "2025-01-11T07:33:30.637597Z"
    },
    "papermill": {
     "duration": 0.018544,
     "end_time": "2025-01-11T07:33:30.639601",
     "exception": false,
     "start_time": "2025-01-11T07:33:30.621057",
     "status": "completed"
    },
    "tags": []
   },
   "outputs": [],
   "source": [
    "# cat_vars\n",
    "cat_vars = [var for var in df.columns if df[var].dtype == \"O\"]\n",
    "\n",
    "# num_vars\n",
    "num_vars= [var for var in df.columns if df[var].dtype != \"O\" and var != 'target']"
   ]
  },
  {
   "cell_type": "code",
   "execution_count": 14,
   "id": "f8b7e043",
   "metadata": {
    "execution": {
     "iopub.execute_input": "2025-01-11T07:33:30.659793Z",
     "iopub.status.busy": "2025-01-11T07:33:30.659561Z",
     "iopub.status.idle": "2025-01-11T07:33:30.664149Z",
     "shell.execute_reply": "2025-01-11T07:33:30.663304Z"
    },
    "papermill": {
     "duration": 0.015867,
     "end_time": "2025-01-11T07:33:30.665335",
     "exception": false,
     "start_time": "2025-01-11T07:33:30.649468",
     "status": "completed"
    },
    "tags": []
   },
   "outputs": [
    {
     "name": "stdout",
     "output_type": "stream",
     "text": [
      "cat_vars:  ['dri_score', 'psych_disturb', 'cyto_score', 'diabetes', 'tbi_status', 'arrhythmia', 'graft_type', 'vent_hist', 'renal_issue', 'pulm_severe', 'prim_disease_hct', 'cmv_status', 'tce_imm_match', 'rituximab', 'prod_type', 'cyto_score_detail', 'conditioning_intensity', 'ethnicity', 'obesity', 'mrd_hct', 'in_vivo_tcd', 'tce_match', 'hepatic_severe', 'prior_tumor', 'peptic_ulcer', 'gvhd_proph', 'rheum_issue', 'sex_match', 'race_group', 'hepatic_mild', 'tce_div_match', 'donor_related', 'melphalan_dose', 'cardiac', 'pulm_moderate'] \n",
      "\n",
      "num_vars:  ['hla_match_c_high', 'hla_high_res_8', 'hla_low_res_6', 'hla_high_res_6', 'hla_high_res_10', 'hla_match_dqb1_high', 'hla_nmdp_6', 'hla_match_c_low', 'hla_match_drb1_low', 'hla_match_dqb1_low', 'year_hct', 'hla_match_a_high', 'donor_age', 'hla_match_b_low', 'age_at_hct', 'hla_match_a_low', 'hla_match_b_high', 'comorbidity_score', 'karnofsky_score', 'hla_low_res_8', 'hla_match_drb1_high', 'hla_low_res_10']\n"
     ]
    }
   ],
   "source": [
    "print('cat_vars: ',cat_vars,'\\n')\n",
    "print('num_vars: ',num_vars )\n",
    "\n",
    "# Note that target is num_var"
   ]
  },
  {
   "cell_type": "code",
   "execution_count": 15,
   "id": "996c5a55",
   "metadata": {
    "execution": {
     "iopub.execute_input": "2025-01-11T07:33:30.685204Z",
     "iopub.status.busy": "2025-01-11T07:33:30.684942Z",
     "iopub.status.idle": "2025-01-11T07:33:30.723699Z",
     "shell.execute_reply": "2025-01-11T07:33:30.722706Z"
    },
    "papermill": {
     "duration": 0.050465,
     "end_time": "2025-01-11T07:33:30.725382",
     "exception": false,
     "start_time": "2025-01-11T07:33:30.674917",
     "status": "completed"
    },
    "tags": []
   },
   "outputs": [],
   "source": [
    "# Filling missing values for numerical columns with their median except target column\n",
    "df[num_vars] = df[num_vars].fillna(df[num_vars].median())"
   ]
  },
  {
   "cell_type": "code",
   "execution_count": 16,
   "id": "e4c374e0",
   "metadata": {
    "execution": {
     "iopub.execute_input": "2025-01-11T07:33:30.745965Z",
     "iopub.status.busy": "2025-01-11T07:33:30.745701Z",
     "iopub.status.idle": "2025-01-11T07:33:31.014476Z",
     "shell.execute_reply": "2025-01-11T07:33:31.013534Z"
    },
    "papermill": {
     "duration": 0.280711,
     "end_time": "2025-01-11T07:33:31.016108",
     "exception": false,
     "start_time": "2025-01-11T07:33:30.735397",
     "status": "completed"
    },
    "tags": []
   },
   "outputs": [],
   "source": [
    "# Filling missing values for categorical columns with their mode\n",
    "df[cat_vars] = df[cat_vars].apply(\n",
    "    lambda col: col.fillna(col.mode()[0] if not col.mode().empty else 'unknown'))"
   ]
  },
  {
   "cell_type": "code",
   "execution_count": 17,
   "id": "83cb49a0",
   "metadata": {
    "execution": {
     "iopub.execute_input": "2025-01-11T07:33:31.036546Z",
     "iopub.status.busy": "2025-01-11T07:33:31.036239Z",
     "iopub.status.idle": "2025-01-11T07:33:31.121557Z",
     "shell.execute_reply": "2025-01-11T07:33:31.120837Z"
    },
    "papermill": {
     "duration": 0.097007,
     "end_time": "2025-01-11T07:33:31.123132",
     "exception": false,
     "start_time": "2025-01-11T07:33:31.026125",
     "status": "completed"
    },
    "tags": []
   },
   "outputs": [],
   "source": [
    "# Factorise Categorical vars - \n",
    "for i in df[cat_vars]:\n",
    "    df[i], _ = pd.factorize(df[i])"
   ]
  },
  {
   "cell_type": "code",
   "execution_count": 18,
   "id": "4250c6ae",
   "metadata": {
    "execution": {
     "iopub.execute_input": "2025-01-11T07:33:31.143847Z",
     "iopub.status.busy": "2025-01-11T07:33:31.143609Z",
     "iopub.status.idle": "2025-01-11T07:33:31.176126Z",
     "shell.execute_reply": "2025-01-11T07:33:31.175346Z"
    },
    "papermill": {
     "duration": 0.043756,
     "end_time": "2025-01-11T07:33:31.177289",
     "exception": false,
     "start_time": "2025-01-11T07:33:31.133533",
     "status": "completed"
    },
    "tags": []
   },
   "outputs": [
    {
     "data": {
      "text/html": [
       "<div>\n",
       "<style scoped>\n",
       "    .dataframe tbody tr th:only-of-type {\n",
       "        vertical-align: middle;\n",
       "    }\n",
       "\n",
       "    .dataframe tbody tr th {\n",
       "        vertical-align: top;\n",
       "    }\n",
       "\n",
       "    .dataframe thead th {\n",
       "        text-align: right;\n",
       "    }\n",
       "</style>\n",
       "<table border=\"1\" class=\"dataframe\">\n",
       "  <thead>\n",
       "    <tr style=\"text-align: right;\">\n",
       "      <th></th>\n",
       "      <th>dri_score</th>\n",
       "      <th>psych_disturb</th>\n",
       "      <th>cyto_score</th>\n",
       "      <th>diabetes</th>\n",
       "      <th>hla_match_c_high</th>\n",
       "      <th>hla_high_res_8</th>\n",
       "      <th>tbi_status</th>\n",
       "      <th>arrhythmia</th>\n",
       "      <th>hla_low_res_6</th>\n",
       "      <th>graft_type</th>\n",
       "      <th>vent_hist</th>\n",
       "      <th>renal_issue</th>\n",
       "      <th>pulm_severe</th>\n",
       "      <th>prim_disease_hct</th>\n",
       "      <th>hla_high_res_6</th>\n",
       "      <th>cmv_status</th>\n",
       "      <th>hla_high_res_10</th>\n",
       "      <th>hla_match_dqb1_high</th>\n",
       "      <th>tce_imm_match</th>\n",
       "      <th>hla_nmdp_6</th>\n",
       "      <th>hla_match_c_low</th>\n",
       "      <th>rituximab</th>\n",
       "      <th>hla_match_drb1_low</th>\n",
       "      <th>hla_match_dqb1_low</th>\n",
       "      <th>prod_type</th>\n",
       "      <th>cyto_score_detail</th>\n",
       "      <th>conditioning_intensity</th>\n",
       "      <th>ethnicity</th>\n",
       "      <th>year_hct</th>\n",
       "      <th>obesity</th>\n",
       "      <th>mrd_hct</th>\n",
       "      <th>in_vivo_tcd</th>\n",
       "      <th>tce_match</th>\n",
       "      <th>hla_match_a_high</th>\n",
       "      <th>hepatic_severe</th>\n",
       "      <th>donor_age</th>\n",
       "      <th>prior_tumor</th>\n",
       "      <th>hla_match_b_low</th>\n",
       "      <th>peptic_ulcer</th>\n",
       "      <th>age_at_hct</th>\n",
       "      <th>hla_match_a_low</th>\n",
       "      <th>gvhd_proph</th>\n",
       "      <th>rheum_issue</th>\n",
       "      <th>sex_match</th>\n",
       "      <th>hla_match_b_high</th>\n",
       "      <th>race_group</th>\n",
       "      <th>comorbidity_score</th>\n",
       "      <th>karnofsky_score</th>\n",
       "      <th>hepatic_mild</th>\n",
       "      <th>tce_div_match</th>\n",
       "      <th>donor_related</th>\n",
       "      <th>melphalan_dose</th>\n",
       "      <th>hla_low_res_8</th>\n",
       "      <th>cardiac</th>\n",
       "      <th>hla_match_drb1_high</th>\n",
       "      <th>pulm_moderate</th>\n",
       "      <th>hla_low_res_10</th>\n",
       "      <th>target</th>\n",
       "    </tr>\n",
       "  </thead>\n",
       "  <tbody>\n",
       "    <tr>\n",
       "      <th>0</th>\n",
       "      <td>0</td>\n",
       "      <td>0</td>\n",
       "      <td>0</td>\n",
       "      <td>0</td>\n",
       "      <td>2.0</td>\n",
       "      <td>8.0</td>\n",
       "      <td>0</td>\n",
       "      <td>0</td>\n",
       "      <td>6.0</td>\n",
       "      <td>0</td>\n",
       "      <td>0</td>\n",
       "      <td>0</td>\n",
       "      <td>0</td>\n",
       "      <td>0</td>\n",
       "      <td>6.0</td>\n",
       "      <td>0</td>\n",
       "      <td>10.0</td>\n",
       "      <td>2.0</td>\n",
       "      <td>0</td>\n",
       "      <td>6.0</td>\n",
       "      <td>2.0</td>\n",
       "      <td>0</td>\n",
       "      <td>2.0</td>\n",
       "      <td>2.0</td>\n",
       "      <td>0</td>\n",
       "      <td>0</td>\n",
       "      <td>0</td>\n",
       "      <td>0</td>\n",
       "      <td>2016</td>\n",
       "      <td>0</td>\n",
       "      <td>0</td>\n",
       "      <td>0</td>\n",
       "      <td>0</td>\n",
       "      <td>2.0</td>\n",
       "      <td>0</td>\n",
       "      <td>40.063</td>\n",
       "      <td>0</td>\n",
       "      <td>2.0</td>\n",
       "      <td>0</td>\n",
       "      <td>9.942</td>\n",
       "      <td>2.0</td>\n",
       "      <td>0</td>\n",
       "      <td>0</td>\n",
       "      <td>0</td>\n",
       "      <td>2.0</td>\n",
       "      <td>0</td>\n",
       "      <td>0.0</td>\n",
       "      <td>90.0</td>\n",
       "      <td>0</td>\n",
       "      <td>0</td>\n",
       "      <td>0</td>\n",
       "      <td>0</td>\n",
       "      <td>8.0</td>\n",
       "      <td>0</td>\n",
       "      <td>2.0</td>\n",
       "      <td>0</td>\n",
       "      <td>10.0</td>\n",
       "      <td>0.458687</td>\n",
       "    </tr>\n",
       "    <tr>\n",
       "      <th>1</th>\n",
       "      <td>1</td>\n",
       "      <td>0</td>\n",
       "      <td>1</td>\n",
       "      <td>0</td>\n",
       "      <td>2.0</td>\n",
       "      <td>8.0</td>\n",
       "      <td>1</td>\n",
       "      <td>0</td>\n",
       "      <td>6.0</td>\n",
       "      <td>1</td>\n",
       "      <td>0</td>\n",
       "      <td>0</td>\n",
       "      <td>0</td>\n",
       "      <td>1</td>\n",
       "      <td>6.0</td>\n",
       "      <td>0</td>\n",
       "      <td>10.0</td>\n",
       "      <td>2.0</td>\n",
       "      <td>0</td>\n",
       "      <td>6.0</td>\n",
       "      <td>2.0</td>\n",
       "      <td>0</td>\n",
       "      <td>2.0</td>\n",
       "      <td>2.0</td>\n",
       "      <td>1</td>\n",
       "      <td>0</td>\n",
       "      <td>0</td>\n",
       "      <td>0</td>\n",
       "      <td>2008</td>\n",
       "      <td>0</td>\n",
       "      <td>1</td>\n",
       "      <td>1</td>\n",
       "      <td>0</td>\n",
       "      <td>2.0</td>\n",
       "      <td>0</td>\n",
       "      <td>72.290</td>\n",
       "      <td>0</td>\n",
       "      <td>2.0</td>\n",
       "      <td>0</td>\n",
       "      <td>43.705</td>\n",
       "      <td>2.0</td>\n",
       "      <td>1</td>\n",
       "      <td>0</td>\n",
       "      <td>1</td>\n",
       "      <td>2.0</td>\n",
       "      <td>1</td>\n",
       "      <td>3.0</td>\n",
       "      <td>90.0</td>\n",
       "      <td>0</td>\n",
       "      <td>0</td>\n",
       "      <td>1</td>\n",
       "      <td>0</td>\n",
       "      <td>8.0</td>\n",
       "      <td>0</td>\n",
       "      <td>2.0</td>\n",
       "      <td>1</td>\n",
       "      <td>10.0</td>\n",
       "      <td>0.847759</td>\n",
       "    </tr>\n",
       "    <tr>\n",
       "      <th>2</th>\n",
       "      <td>0</td>\n",
       "      <td>0</td>\n",
       "      <td>0</td>\n",
       "      <td>0</td>\n",
       "      <td>2.0</td>\n",
       "      <td>8.0</td>\n",
       "      <td>0</td>\n",
       "      <td>0</td>\n",
       "      <td>6.0</td>\n",
       "      <td>0</td>\n",
       "      <td>0</td>\n",
       "      <td>0</td>\n",
       "      <td>0</td>\n",
       "      <td>2</td>\n",
       "      <td>6.0</td>\n",
       "      <td>0</td>\n",
       "      <td>10.0</td>\n",
       "      <td>2.0</td>\n",
       "      <td>0</td>\n",
       "      <td>6.0</td>\n",
       "      <td>2.0</td>\n",
       "      <td>0</td>\n",
       "      <td>2.0</td>\n",
       "      <td>2.0</td>\n",
       "      <td>0</td>\n",
       "      <td>0</td>\n",
       "      <td>0</td>\n",
       "      <td>0</td>\n",
       "      <td>2019</td>\n",
       "      <td>0</td>\n",
       "      <td>0</td>\n",
       "      <td>0</td>\n",
       "      <td>0</td>\n",
       "      <td>2.0</td>\n",
       "      <td>0</td>\n",
       "      <td>40.063</td>\n",
       "      <td>0</td>\n",
       "      <td>2.0</td>\n",
       "      <td>0</td>\n",
       "      <td>33.997</td>\n",
       "      <td>2.0</td>\n",
       "      <td>2</td>\n",
       "      <td>0</td>\n",
       "      <td>2</td>\n",
       "      <td>2.0</td>\n",
       "      <td>0</td>\n",
       "      <td>0.0</td>\n",
       "      <td>90.0</td>\n",
       "      <td>0</td>\n",
       "      <td>0</td>\n",
       "      <td>1</td>\n",
       "      <td>0</td>\n",
       "      <td>8.0</td>\n",
       "      <td>0</td>\n",
       "      <td>2.0</td>\n",
       "      <td>0</td>\n",
       "      <td>10.0</td>\n",
       "      <td>0.462424</td>\n",
       "    </tr>\n",
       "    <tr>\n",
       "      <th>3</th>\n",
       "      <td>2</td>\n",
       "      <td>0</td>\n",
       "      <td>1</td>\n",
       "      <td>0</td>\n",
       "      <td>2.0</td>\n",
       "      <td>8.0</td>\n",
       "      <td>0</td>\n",
       "      <td>0</td>\n",
       "      <td>6.0</td>\n",
       "      <td>0</td>\n",
       "      <td>0</td>\n",
       "      <td>0</td>\n",
       "      <td>0</td>\n",
       "      <td>3</td>\n",
       "      <td>6.0</td>\n",
       "      <td>0</td>\n",
       "      <td>10.0</td>\n",
       "      <td>2.0</td>\n",
       "      <td>0</td>\n",
       "      <td>6.0</td>\n",
       "      <td>2.0</td>\n",
       "      <td>0</td>\n",
       "      <td>2.0</td>\n",
       "      <td>2.0</td>\n",
       "      <td>0</td>\n",
       "      <td>0</td>\n",
       "      <td>0</td>\n",
       "      <td>0</td>\n",
       "      <td>2009</td>\n",
       "      <td>0</td>\n",
       "      <td>1</td>\n",
       "      <td>1</td>\n",
       "      <td>0</td>\n",
       "      <td>2.0</td>\n",
       "      <td>0</td>\n",
       "      <td>29.230</td>\n",
       "      <td>0</td>\n",
       "      <td>2.0</td>\n",
       "      <td>0</td>\n",
       "      <td>43.245</td>\n",
       "      <td>2.0</td>\n",
       "      <td>3</td>\n",
       "      <td>0</td>\n",
       "      <td>3</td>\n",
       "      <td>2.0</td>\n",
       "      <td>2</td>\n",
       "      <td>0.0</td>\n",
       "      <td>90.0</td>\n",
       "      <td>1</td>\n",
       "      <td>0</td>\n",
       "      <td>0</td>\n",
       "      <td>0</td>\n",
       "      <td>8.0</td>\n",
       "      <td>0</td>\n",
       "      <td>2.0</td>\n",
       "      <td>0</td>\n",
       "      <td>10.0</td>\n",
       "      <td>0.456661</td>\n",
       "    </tr>\n",
       "    <tr>\n",
       "      <th>4</th>\n",
       "      <td>2</td>\n",
       "      <td>0</td>\n",
       "      <td>0</td>\n",
       "      <td>0</td>\n",
       "      <td>2.0</td>\n",
       "      <td>8.0</td>\n",
       "      <td>0</td>\n",
       "      <td>0</td>\n",
       "      <td>6.0</td>\n",
       "      <td>1</td>\n",
       "      <td>0</td>\n",
       "      <td>0</td>\n",
       "      <td>0</td>\n",
       "      <td>4</td>\n",
       "      <td>6.0</td>\n",
       "      <td>0</td>\n",
       "      <td>10.0</td>\n",
       "      <td>2.0</td>\n",
       "      <td>0</td>\n",
       "      <td>5.0</td>\n",
       "      <td>2.0</td>\n",
       "      <td>0</td>\n",
       "      <td>2.0</td>\n",
       "      <td>2.0</td>\n",
       "      <td>1</td>\n",
       "      <td>0</td>\n",
       "      <td>0</td>\n",
       "      <td>1</td>\n",
       "      <td>2018</td>\n",
       "      <td>0</td>\n",
       "      <td>0</td>\n",
       "      <td>0</td>\n",
       "      <td>0</td>\n",
       "      <td>2.0</td>\n",
       "      <td>0</td>\n",
       "      <td>56.810</td>\n",
       "      <td>0</td>\n",
       "      <td>2.0</td>\n",
       "      <td>0</td>\n",
       "      <td>29.740</td>\n",
       "      <td>2.0</td>\n",
       "      <td>4</td>\n",
       "      <td>0</td>\n",
       "      <td>0</td>\n",
       "      <td>2.0</td>\n",
       "      <td>3</td>\n",
       "      <td>1.0</td>\n",
       "      <td>90.0</td>\n",
       "      <td>0</td>\n",
       "      <td>0</td>\n",
       "      <td>1</td>\n",
       "      <td>1</td>\n",
       "      <td>8.0</td>\n",
       "      <td>0</td>\n",
       "      <td>2.0</td>\n",
       "      <td>0</td>\n",
       "      <td>10.0</td>\n",
       "      <td>0.464674</td>\n",
       "    </tr>\n",
       "  </tbody>\n",
       "</table>\n",
       "</div>"
      ],
      "text/plain": [
       "   dri_score  psych_disturb  cyto_score  diabetes  hla_match_c_high  \\\n",
       "0          0              0           0         0               2.0   \n",
       "1          1              0           1         0               2.0   \n",
       "2          0              0           0         0               2.0   \n",
       "3          2              0           1         0               2.0   \n",
       "4          2              0           0         0               2.0   \n",
       "\n",
       "   hla_high_res_8  tbi_status  arrhythmia  hla_low_res_6  graft_type  \\\n",
       "0             8.0           0           0            6.0           0   \n",
       "1             8.0           1           0            6.0           1   \n",
       "2             8.0           0           0            6.0           0   \n",
       "3             8.0           0           0            6.0           0   \n",
       "4             8.0           0           0            6.0           1   \n",
       "\n",
       "   vent_hist  renal_issue  pulm_severe  prim_disease_hct  hla_high_res_6  \\\n",
       "0          0            0            0                 0             6.0   \n",
       "1          0            0            0                 1             6.0   \n",
       "2          0            0            0                 2             6.0   \n",
       "3          0            0            0                 3             6.0   \n",
       "4          0            0            0                 4             6.0   \n",
       "\n",
       "   cmv_status  hla_high_res_10  hla_match_dqb1_high  tce_imm_match  \\\n",
       "0           0             10.0                  2.0              0   \n",
       "1           0             10.0                  2.0              0   \n",
       "2           0             10.0                  2.0              0   \n",
       "3           0             10.0                  2.0              0   \n",
       "4           0             10.0                  2.0              0   \n",
       "\n",
       "   hla_nmdp_6  hla_match_c_low  rituximab  hla_match_drb1_low  \\\n",
       "0         6.0              2.0          0                 2.0   \n",
       "1         6.0              2.0          0                 2.0   \n",
       "2         6.0              2.0          0                 2.0   \n",
       "3         6.0              2.0          0                 2.0   \n",
       "4         5.0              2.0          0                 2.0   \n",
       "\n",
       "   hla_match_dqb1_low  prod_type  cyto_score_detail  conditioning_intensity  \\\n",
       "0                 2.0          0                  0                       0   \n",
       "1                 2.0          1                  0                       0   \n",
       "2                 2.0          0                  0                       0   \n",
       "3                 2.0          0                  0                       0   \n",
       "4                 2.0          1                  0                       0   \n",
       "\n",
       "   ethnicity  year_hct  obesity  mrd_hct  in_vivo_tcd  tce_match  \\\n",
       "0          0      2016        0        0            0          0   \n",
       "1          0      2008        0        1            1          0   \n",
       "2          0      2019        0        0            0          0   \n",
       "3          0      2009        0        1            1          0   \n",
       "4          1      2018        0        0            0          0   \n",
       "\n",
       "   hla_match_a_high  hepatic_severe  donor_age  prior_tumor  hla_match_b_low  \\\n",
       "0               2.0               0     40.063            0              2.0   \n",
       "1               2.0               0     72.290            0              2.0   \n",
       "2               2.0               0     40.063            0              2.0   \n",
       "3               2.0               0     29.230            0              2.0   \n",
       "4               2.0               0     56.810            0              2.0   \n",
       "\n",
       "   peptic_ulcer  age_at_hct  hla_match_a_low  gvhd_proph  rheum_issue  \\\n",
       "0             0       9.942              2.0           0            0   \n",
       "1             0      43.705              2.0           1            0   \n",
       "2             0      33.997              2.0           2            0   \n",
       "3             0      43.245              2.0           3            0   \n",
       "4             0      29.740              2.0           4            0   \n",
       "\n",
       "   sex_match  hla_match_b_high  race_group  comorbidity_score  \\\n",
       "0          0               2.0           0                0.0   \n",
       "1          1               2.0           1                3.0   \n",
       "2          2               2.0           0                0.0   \n",
       "3          3               2.0           2                0.0   \n",
       "4          0               2.0           3                1.0   \n",
       "\n",
       "   karnofsky_score  hepatic_mild  tce_div_match  donor_related  \\\n",
       "0             90.0             0              0              0   \n",
       "1             90.0             0              0              1   \n",
       "2             90.0             0              0              1   \n",
       "3             90.0             1              0              0   \n",
       "4             90.0             0              0              1   \n",
       "\n",
       "   melphalan_dose  hla_low_res_8  cardiac  hla_match_drb1_high  pulm_moderate  \\\n",
       "0               0            8.0        0                  2.0              0   \n",
       "1               0            8.0        0                  2.0              1   \n",
       "2               0            8.0        0                  2.0              0   \n",
       "3               0            8.0        0                  2.0              0   \n",
       "4               1            8.0        0                  2.0              0   \n",
       "\n",
       "   hla_low_res_10    target  \n",
       "0            10.0  0.458687  \n",
       "1            10.0  0.847759  \n",
       "2            10.0  0.462424  \n",
       "3            10.0  0.456661  \n",
       "4            10.0  0.464674  "
      ]
     },
     "execution_count": 18,
     "metadata": {},
     "output_type": "execute_result"
    }
   ],
   "source": [
    "pd.set_option('display.max_columns', None)\n",
    "\n",
    "df.head()"
   ]
  },
  {
   "cell_type": "markdown",
   "id": "209c2933",
   "metadata": {
    "papermill": {
     "duration": 0.009773,
     "end_time": "2025-01-11T07:33:31.197075",
     "exception": false,
     "start_time": "2025-01-11T07:33:31.187302",
     "status": "completed"
    },
    "tags": []
   },
   "source": [
    "## Correlation"
   ]
  },
  {
   "cell_type": "code",
   "execution_count": 19,
   "id": "341bd954",
   "metadata": {
    "execution": {
     "iopub.execute_input": "2025-01-11T07:33:31.217612Z",
     "iopub.status.busy": "2025-01-11T07:33:31.217347Z",
     "iopub.status.idle": "2025-01-11T07:33:31.283427Z",
     "shell.execute_reply": "2025-01-11T07:33:31.282369Z"
    },
    "papermill": {
     "duration": 0.078114,
     "end_time": "2025-01-11T07:33:31.285092",
     "exception": false,
     "start_time": "2025-01-11T07:33:31.206978",
     "status": "completed"
    },
    "tags": []
   },
   "outputs": [
    {
     "name": "stdout",
     "output_type": "stream",
     "text": [
      "Correlation for  dri_score  =  -0.01566322289688407\n",
      "Correlation for  psych_disturb  =  0.044588447814429666\n",
      "Correlation for  cyto_score  =  0.005200974001810688\n",
      "Correlation for  diabetes  =  0.06472635931119727\n",
      "Correlation for  hla_match_c_high  =  -0.012607743434186169\n",
      "Correlation for  hla_high_res_8  =  -0.021272383826416143\n",
      "Correlation for  tbi_status  =  0.03962863015684239\n",
      "Correlation for  arrhythmia  =  0.05401029510435931\n",
      "Correlation for  hla_low_res_6  =  -0.016370955161609413\n",
      "Correlation for  graft_type  =  0.14554016971025166\n",
      "Correlation for  vent_hist  =  0.008114302625674752\n",
      "Correlation for  renal_issue  =  -0.0014354737125929862\n",
      "Correlation for  pulm_severe  =  0.0885694909623311\n",
      "Correlation for  prim_disease_hct  =  0.022227791379227736\n",
      "Correlation for  hla_high_res_6  =  -0.022485941112610514\n",
      "Correlation for  cmv_status  =  -0.047002368730733844\n",
      "Correlation for  hla_high_res_10  =  -0.014870926680981335\n",
      "Correlation for  hla_match_dqb1_high  =  -0.011014935896483157\n",
      "Correlation for  tce_imm_match  =  -0.010223102154939658\n",
      "Correlation for  hla_nmdp_6  =  -0.027756666533368248\n",
      "Correlation for  hla_match_c_low  =  -0.02554314211215784\n",
      "Correlation for  rituximab  =  -0.000727832629985165\n",
      "Correlation for  hla_match_drb1_low  =  0.007730898334987669\n",
      "Correlation for  hla_match_dqb1_low  =  -0.0034975829901925577\n",
      "Correlation for  prod_type  =  0.1477978367959457\n",
      "Correlation for  cyto_score_detail  =  0.14339400653067363\n",
      "Correlation for  conditioning_intensity  =  0.10732563049417061\n",
      "Correlation for  ethnicity  =  -0.0223886090447742\n",
      "Correlation for  year_hct  =  -0.02869582677562226\n",
      "Correlation for  obesity  =  0.030748330825174225\n",
      "Correlation for  mrd_hct  =  -0.008842078678669494\n",
      "Correlation for  in_vivo_tcd  =  0.07006714037529095\n",
      "Correlation for  tce_match  =  0.0035399403434211415\n",
      "Correlation for  hla_match_a_high  =  -0.03757202301874047\n",
      "Correlation for  hepatic_severe  =  -0.0478990666468277\n",
      "Correlation for  donor_age  =  0.05083958809826656\n",
      "Correlation for  prior_tumor  =  0.04599486098127683\n",
      "Correlation for  hla_match_b_low  =  -0.009862467785865242\n",
      "Correlation for  peptic_ulcer  =  -0.009373454927411493\n",
      "Correlation for  age_at_hct  =  0.15831520426166143\n",
      "Correlation for  hla_match_a_low  =  -0.038003931155751375\n",
      "Correlation for  gvhd_proph  =  -0.031241042675033918\n",
      "Correlation for  rheum_issue  =  -0.01790854414656021\n",
      "Correlation for  sex_match  =  -0.014365959264843268\n",
      "Correlation for  hla_match_b_high  =  -0.026681340989542585\n",
      "Correlation for  race_group  =  0.046293664563033216\n",
      "Correlation for  comorbidity_score  =  0.19505665800257924\n",
      "Correlation for  karnofsky_score  =  -0.14189539746397284\n",
      "Correlation for  hepatic_mild  =  -0.0012755681469293003\n",
      "Correlation for  tce_div_match  =  -0.005429262073578681\n",
      "Correlation for  donor_related  =  -0.04116835919870329\n",
      "Correlation for  melphalan_dose  =  0.007489996142651666\n",
      "Correlation for  hla_low_res_8  =  -0.019737133983262302\n",
      "Correlation for  cardiac  =  0.07556012915425994\n",
      "Correlation for  hla_match_drb1_high  =  0.007931542185053602\n",
      "Correlation for  pulm_moderate  =  0.05266960546521761\n",
      "Correlation for  hla_low_res_10  =  -0.013714686454558719\n"
     ]
    }
   ],
   "source": [
    "# Get list of feature columns (excluding target)\n",
    "\n",
    "X = [col for col in df.columns if col != 'target']\n",
    "\n",
    "for feature in X:\n",
    "    correlation = df[feature].corr(df[\"target\"])\n",
    "    print('Correlation for ', feature, ' = ',correlation)"
   ]
  },
  {
   "cell_type": "markdown",
   "id": "82344020",
   "metadata": {
    "papermill": {
     "duration": 0.009999,
     "end_time": "2025-01-11T07:33:31.305536",
     "exception": false,
     "start_time": "2025-01-11T07:33:31.295537",
     "status": "completed"
    },
    "tags": []
   },
   "source": [
    "## K Fold Validation"
   ]
  },
  {
   "cell_type": "code",
   "execution_count": 20,
   "id": "0acd484c",
   "metadata": {
    "execution": {
     "iopub.execute_input": "2025-01-11T07:33:31.326407Z",
     "iopub.status.busy": "2025-01-11T07:33:31.326183Z",
     "iopub.status.idle": "2025-01-11T07:33:31.334031Z",
     "shell.execute_reply": "2025-01-11T07:33:31.333433Z"
    },
    "papermill": {
     "duration": 0.019762,
     "end_time": "2025-01-11T07:33:31.335230",
     "exception": false,
     "start_time": "2025-01-11T07:33:31.315468",
     "status": "completed"
    },
    "tags": []
   },
   "outputs": [],
   "source": [
    "df1=df0.copy()"
   ]
  },
  {
   "cell_type": "code",
   "execution_count": 21,
   "id": "c3bfae67",
   "metadata": {
    "execution": {
     "iopub.execute_input": "2025-01-11T07:33:31.356719Z",
     "iopub.status.busy": "2025-01-11T07:33:31.356506Z",
     "iopub.status.idle": "2025-01-11T07:33:31.360062Z",
     "shell.execute_reply": "2025-01-11T07:33:31.359378Z"
    },
    "papermill": {
     "duration": 0.015735,
     "end_time": "2025-01-11T07:33:31.361280",
     "exception": false,
     "start_time": "2025-01-11T07:33:31.345545",
     "status": "completed"
    },
    "tags": []
   },
   "outputs": [],
   "source": [
    "df1['target']=df['target']"
   ]
  },
  {
   "cell_type": "code",
   "execution_count": 22,
   "id": "043b0e25",
   "metadata": {
    "execution": {
     "iopub.execute_input": "2025-01-11T07:33:31.382212Z",
     "iopub.status.busy": "2025-01-11T07:33:31.382004Z",
     "iopub.status.idle": "2025-01-11T07:33:31.392968Z",
     "shell.execute_reply": "2025-01-11T07:33:31.392325Z"
    },
    "papermill": {
     "duration": 0.022664,
     "end_time": "2025-01-11T07:33:31.394135",
     "exception": false,
     "start_time": "2025-01-11T07:33:31.371471",
     "status": "completed"
    },
    "tags": []
   },
   "outputs": [],
   "source": [
    "# Define features and target\n",
    "X1 = df1.drop(columns=['efs', 'efs_time', 'ID', 'target', 'rituximab'], errors='ignore')\n",
    "target = df1['target']"
   ]
  },
  {
   "cell_type": "code",
   "execution_count": 23,
   "id": "2ac3f8a4",
   "metadata": {
    "execution": {
     "iopub.execute_input": "2025-01-11T07:33:31.415050Z",
     "iopub.status.busy": "2025-01-11T07:33:31.414842Z",
     "iopub.status.idle": "2025-01-11T07:33:31.428196Z",
     "shell.execute_reply": "2025-01-11T07:33:31.427629Z"
    },
    "papermill": {
     "duration": 0.025075,
     "end_time": "2025-01-11T07:33:31.429406",
     "exception": false,
     "start_time": "2025-01-11T07:33:31.404331",
     "status": "completed"
    },
    "tags": []
   },
   "outputs": [],
   "source": [
    "# Identify categorical and numerical columns\n",
    "cat_vars1 = X1.select_dtypes(include=['object']).columns\n",
    "num_vars1 = X1.select_dtypes(include=['int64', 'float64']).columns"
   ]
  },
  {
   "cell_type": "code",
   "execution_count": 24,
   "id": "a67f2709",
   "metadata": {
    "execution": {
     "iopub.execute_input": "2025-01-11T07:33:31.450257Z",
     "iopub.status.busy": "2025-01-11T07:33:31.450014Z",
     "iopub.status.idle": "2025-01-11T07:33:31.453328Z",
     "shell.execute_reply": "2025-01-11T07:33:31.452592Z"
    },
    "papermill": {
     "duration": 0.014979,
     "end_time": "2025-01-11T07:33:31.454651",
     "exception": false,
     "start_time": "2025-01-11T07:33:31.439672",
     "status": "completed"
    },
    "tags": []
   },
   "outputs": [],
   "source": [
    "# Preprocessing for numerical data: Imputation and Scaling\n",
    "numerical_transformer = Pipeline(steps=[\n",
    "    ('imputer', SimpleImputer(strategy='mean')),\n",
    "    ('scaler', StandardScaler())\n",
    "])"
   ]
  },
  {
   "cell_type": "code",
   "execution_count": 25,
   "id": "6a51747b",
   "metadata": {
    "execution": {
     "iopub.execute_input": "2025-01-11T07:33:31.475592Z",
     "iopub.status.busy": "2025-01-11T07:33:31.475348Z",
     "iopub.status.idle": "2025-01-11T07:33:31.478405Z",
     "shell.execute_reply": "2025-01-11T07:33:31.477668Z"
    },
    "papermill": {
     "duration": 0.014928,
     "end_time": "2025-01-11T07:33:31.479770",
     "exception": false,
     "start_time": "2025-01-11T07:33:31.464842",
     "status": "completed"
    },
    "tags": []
   },
   "outputs": [],
   "source": [
    "from sklearn.preprocessing import OneHotEncoder"
   ]
  },
  {
   "cell_type": "code",
   "execution_count": 26,
   "id": "60e89958",
   "metadata": {
    "execution": {
     "iopub.execute_input": "2025-01-11T07:33:31.500702Z",
     "iopub.status.busy": "2025-01-11T07:33:31.500411Z",
     "iopub.status.idle": "2025-01-11T07:33:31.503844Z",
     "shell.execute_reply": "2025-01-11T07:33:31.503029Z"
    },
    "papermill": {
     "duration": 0.015272,
     "end_time": "2025-01-11T07:33:31.505147",
     "exception": false,
     "start_time": "2025-01-11T07:33:31.489875",
     "status": "completed"
    },
    "tags": []
   },
   "outputs": [],
   "source": [
    "# Preprocessing for categorical data: Imputation and One-Hot Encoding\n",
    "categorical_transformer = Pipeline(steps=[\n",
    "    ('imputer', SimpleImputer(strategy='most_frequent')),\n",
    "    ('onehot', OneHotEncoder(handle_unknown='ignore'))\n",
    "])"
   ]
  },
  {
   "cell_type": "code",
   "execution_count": 27,
   "id": "cb2a7926",
   "metadata": {
    "execution": {
     "iopub.execute_input": "2025-01-11T07:33:31.526010Z",
     "iopub.status.busy": "2025-01-11T07:33:31.525782Z",
     "iopub.status.idle": "2025-01-11T07:33:31.538113Z",
     "shell.execute_reply": "2025-01-11T07:33:31.537341Z"
    },
    "papermill": {
     "duration": 0.024151,
     "end_time": "2025-01-11T07:33:31.539408",
     "exception": false,
     "start_time": "2025-01-11T07:33:31.515257",
     "status": "completed"
    },
    "tags": []
   },
   "outputs": [],
   "source": [
    "from sklearn.compose import ColumnTransformer"
   ]
  },
  {
   "cell_type": "code",
   "execution_count": 28,
   "id": "2c622061",
   "metadata": {
    "execution": {
     "iopub.execute_input": "2025-01-11T07:33:31.560275Z",
     "iopub.status.busy": "2025-01-11T07:33:31.560035Z",
     "iopub.status.idle": "2025-01-11T07:33:31.563272Z",
     "shell.execute_reply": "2025-01-11T07:33:31.562511Z"
    },
    "papermill": {
     "duration": 0.015026,
     "end_time": "2025-01-11T07:33:31.564564",
     "exception": false,
     "start_time": "2025-01-11T07:33:31.549538",
     "status": "completed"
    },
    "tags": []
   },
   "outputs": [],
   "source": [
    "# Combine preprocessors in a column transformer\n",
    "preprocessor = ColumnTransformer(\n",
    "    transformers=[\n",
    "        ('num', numerical_transformer, num_vars1),\n",
    "        ('cat', categorical_transformer, cat_vars1)\n",
    "    ]\n",
    ")"
   ]
  },
  {
   "cell_type": "markdown",
   "id": "7c0f90a3",
   "metadata": {
    "papermill": {
     "duration": 0.009734,
     "end_time": "2025-01-11T07:33:31.584382",
     "exception": false,
     "start_time": "2025-01-11T07:33:31.574648",
     "status": "completed"
    },
    "tags": []
   },
   "source": [
    "## Create Model Pipeline"
   ]
  },
  {
   "cell_type": "code",
   "execution_count": 29,
   "id": "909a69e1",
   "metadata": {
    "execution": {
     "iopub.execute_input": "2025-01-11T07:33:31.605582Z",
     "iopub.status.busy": "2025-01-11T07:33:31.605333Z",
     "iopub.status.idle": "2025-01-11T07:33:31.735740Z",
     "shell.execute_reply": "2025-01-11T07:33:31.735036Z"
    },
    "papermill": {
     "duration": 0.142558,
     "end_time": "2025-01-11T07:33:31.737205",
     "exception": false,
     "start_time": "2025-01-11T07:33:31.594647",
     "status": "completed"
    },
    "tags": []
   },
   "outputs": [],
   "source": [
    "from sklearn.ensemble import GradientBoostingRegressor"
   ]
  },
  {
   "cell_type": "code",
   "execution_count": 30,
   "id": "0696bd5c",
   "metadata": {
    "execution": {
     "iopub.execute_input": "2025-01-11T07:33:31.758991Z",
     "iopub.status.busy": "2025-01-11T07:33:31.758755Z",
     "iopub.status.idle": "2025-01-11T07:33:31.761990Z",
     "shell.execute_reply": "2025-01-11T07:33:31.761366Z"
    },
    "papermill": {
     "duration": 0.015054,
     "end_time": "2025-01-11T07:33:31.763074",
     "exception": false,
     "start_time": "2025-01-11T07:33:31.748020",
     "status": "completed"
    },
    "tags": []
   },
   "outputs": [],
   "source": [
    "# Create the model pipeline\n",
    "model = Pipeline(steps=[\n",
    "    ('preprocessor', preprocessor),\n",
    "    ('classifier', GradientBoostingRegressor(random_state=42))\n",
    "])"
   ]
  },
  {
   "cell_type": "code",
   "execution_count": 31,
   "id": "9fefcbeb",
   "metadata": {
    "execution": {
     "iopub.execute_input": "2025-01-11T07:33:31.784200Z",
     "iopub.status.busy": "2025-01-11T07:33:31.783983Z",
     "iopub.status.idle": "2025-01-11T07:33:31.786984Z",
     "shell.execute_reply": "2025-01-11T07:33:31.786367Z"
    },
    "papermill": {
     "duration": 0.014892,
     "end_time": "2025-01-11T07:33:31.788192",
     "exception": false,
     "start_time": "2025-01-11T07:33:31.773300",
     "status": "completed"
    },
    "tags": []
   },
   "outputs": [],
   "source": [
    "from lifelines.utils import concordance_index"
   ]
  },
  {
   "cell_type": "code",
   "execution_count": 32,
   "id": "bcec5dc1",
   "metadata": {
    "execution": {
     "iopub.execute_input": "2025-01-11T07:33:31.809237Z",
     "iopub.status.busy": "2025-01-11T07:33:31.809032Z",
     "iopub.status.idle": "2025-01-11T07:33:46.075416Z",
     "shell.execute_reply": "2025-01-11T07:33:46.074400Z"
    },
    "papermill": {
     "duration": 14.278546,
     "end_time": "2025-01-11T07:33:46.076903",
     "exception": false,
     "start_time": "2025-01-11T07:33:31.798357",
     "status": "completed"
    },
    "tags": []
   },
   "outputs": [
    {
     "name": "stdout",
     "output_type": "stream",
     "text": [
      "Mean Stratified C-Index: 0.6321\n"
     ]
    }
   ],
   "source": [
    "kf = KFold(n_splits=5, shuffle=True, random_state=42)\n",
    "c_indices = []\n",
    "\n",
    "for train_index, val_index in kf.split(X1):\n",
    "    X_train, X_val = X1.iloc[train_index], X1.iloc[val_index]\n",
    "    y_train, y_val = target.iloc[train_index], target.iloc[val_index]\n",
    "\n",
    "# Fit the model\n",
    "model.fit(X_train, y_train)\n",
    "\n",
    "# Predict probabilities\n",
    "val_probabilities = model.predict(X_val)\n",
    "\n",
    "# Calculate C-index\n",
    "c_index = concordance_index(y_val, val_probabilities)\n",
    "c_indices.append(c_index)\n",
    "\n",
    "print(f\"Mean Stratified C-Index: {np.mean(c_indices):.4f}\")\n",
    "    "
   ]
  },
  {
   "cell_type": "code",
   "execution_count": 33,
   "id": "7b88f69a",
   "metadata": {
    "execution": {
     "iopub.execute_input": "2025-01-11T07:33:46.100215Z",
     "iopub.status.busy": "2025-01-11T07:33:46.099944Z",
     "iopub.status.idle": "2025-01-11T07:34:02.423694Z",
     "shell.execute_reply": "2025-01-11T07:34:02.422893Z"
    },
    "papermill": {
     "duration": 16.336652,
     "end_time": "2025-01-11T07:34:02.425135",
     "exception": false,
     "start_time": "2025-01-11T07:33:46.088483",
     "status": "completed"
    },
    "tags": []
   },
   "outputs": [
    {
     "data": {
      "text/html": [
       "<style>#sk-container-id-1 {color: black;background-color: white;}#sk-container-id-1 pre{padding: 0;}#sk-container-id-1 div.sk-toggleable {background-color: white;}#sk-container-id-1 label.sk-toggleable__label {cursor: pointer;display: block;width: 100%;margin-bottom: 0;padding: 0.3em;box-sizing: border-box;text-align: center;}#sk-container-id-1 label.sk-toggleable__label-arrow:before {content: \"▸\";float: left;margin-right: 0.25em;color: #696969;}#sk-container-id-1 label.sk-toggleable__label-arrow:hover:before {color: black;}#sk-container-id-1 div.sk-estimator:hover label.sk-toggleable__label-arrow:before {color: black;}#sk-container-id-1 div.sk-toggleable__content {max-height: 0;max-width: 0;overflow: hidden;text-align: left;background-color: #f0f8ff;}#sk-container-id-1 div.sk-toggleable__content pre {margin: 0.2em;color: black;border-radius: 0.25em;background-color: #f0f8ff;}#sk-container-id-1 input.sk-toggleable__control:checked~div.sk-toggleable__content {max-height: 200px;max-width: 100%;overflow: auto;}#sk-container-id-1 input.sk-toggleable__control:checked~label.sk-toggleable__label-arrow:before {content: \"▾\";}#sk-container-id-1 div.sk-estimator input.sk-toggleable__control:checked~label.sk-toggleable__label {background-color: #d4ebff;}#sk-container-id-1 div.sk-label input.sk-toggleable__control:checked~label.sk-toggleable__label {background-color: #d4ebff;}#sk-container-id-1 input.sk-hidden--visually {border: 0;clip: rect(1px 1px 1px 1px);clip: rect(1px, 1px, 1px, 1px);height: 1px;margin: -1px;overflow: hidden;padding: 0;position: absolute;width: 1px;}#sk-container-id-1 div.sk-estimator {font-family: monospace;background-color: #f0f8ff;border: 1px dotted black;border-radius: 0.25em;box-sizing: border-box;margin-bottom: 0.5em;}#sk-container-id-1 div.sk-estimator:hover {background-color: #d4ebff;}#sk-container-id-1 div.sk-parallel-item::after {content: \"\";width: 100%;border-bottom: 1px solid gray;flex-grow: 1;}#sk-container-id-1 div.sk-label:hover label.sk-toggleable__label {background-color: #d4ebff;}#sk-container-id-1 div.sk-serial::before {content: \"\";position: absolute;border-left: 1px solid gray;box-sizing: border-box;top: 0;bottom: 0;left: 50%;z-index: 0;}#sk-container-id-1 div.sk-serial {display: flex;flex-direction: column;align-items: center;background-color: white;padding-right: 0.2em;padding-left: 0.2em;position: relative;}#sk-container-id-1 div.sk-item {position: relative;z-index: 1;}#sk-container-id-1 div.sk-parallel {display: flex;align-items: stretch;justify-content: center;background-color: white;position: relative;}#sk-container-id-1 div.sk-item::before, #sk-container-id-1 div.sk-parallel-item::before {content: \"\";position: absolute;border-left: 1px solid gray;box-sizing: border-box;top: 0;bottom: 0;left: 50%;z-index: -1;}#sk-container-id-1 div.sk-parallel-item {display: flex;flex-direction: column;z-index: 1;position: relative;background-color: white;}#sk-container-id-1 div.sk-parallel-item:first-child::after {align-self: flex-end;width: 50%;}#sk-container-id-1 div.sk-parallel-item:last-child::after {align-self: flex-start;width: 50%;}#sk-container-id-1 div.sk-parallel-item:only-child::after {width: 0;}#sk-container-id-1 div.sk-dashed-wrapped {border: 1px dashed gray;margin: 0 0.4em 0.5em 0.4em;box-sizing: border-box;padding-bottom: 0.4em;background-color: white;}#sk-container-id-1 div.sk-label label {font-family: monospace;font-weight: bold;display: inline-block;line-height: 1.2em;}#sk-container-id-1 div.sk-label-container {text-align: center;}#sk-container-id-1 div.sk-container {/* jupyter's `normalize.less` sets `[hidden] { display: none; }` but bootstrap.min.css set `[hidden] { display: none !important; }` so we also need the `!important` here to be able to override the default hidden behavior on the sphinx rendered scikit-learn.org. See: https://github.com/scikit-learn/scikit-learn/issues/21755 */display: inline-block !important;position: relative;}#sk-container-id-1 div.sk-text-repr-fallback {display: none;}</style><div id=\"sk-container-id-1\" class=\"sk-top-container\"><div class=\"sk-text-repr-fallback\"><pre>Pipeline(steps=[(&#x27;preprocessor&#x27;,\n",
       "                 ColumnTransformer(transformers=[(&#x27;num&#x27;,\n",
       "                                                  Pipeline(steps=[(&#x27;imputer&#x27;,\n",
       "                                                                   SimpleImputer()),\n",
       "                                                                  (&#x27;scaler&#x27;,\n",
       "                                                                   StandardScaler())]),\n",
       "                                                  Index([&#x27;hla_match_c_high&#x27;, &#x27;hla_high_res_8&#x27;, &#x27;hla_low_res_6&#x27;, &#x27;hla_high_res_6&#x27;,\n",
       "       &#x27;hla_high_res_10&#x27;, &#x27;hla_match_dqb1_high&#x27;, &#x27;hla_nmdp_6&#x27;,\n",
       "       &#x27;hla_match_c_low&#x27;, &#x27;hla_match_drb1_low&#x27;, &#x27;hla_match_dqb1_low&#x27;,\n",
       "       &#x27;year_hct&#x27;, &#x27;hla_...\n",
       "       &#x27;cyto_score_detail&#x27;, &#x27;conditioning_intensity&#x27;, &#x27;ethnicity&#x27;, &#x27;obesity&#x27;,\n",
       "       &#x27;mrd_hct&#x27;, &#x27;in_vivo_tcd&#x27;, &#x27;tce_match&#x27;, &#x27;hepatic_severe&#x27;, &#x27;prior_tumor&#x27;,\n",
       "       &#x27;peptic_ulcer&#x27;, &#x27;gvhd_proph&#x27;, &#x27;rheum_issue&#x27;, &#x27;sex_match&#x27;, &#x27;race_group&#x27;,\n",
       "       &#x27;hepatic_mild&#x27;, &#x27;tce_div_match&#x27;, &#x27;donor_related&#x27;, &#x27;melphalan_dose&#x27;,\n",
       "       &#x27;cardiac&#x27;, &#x27;pulm_moderate&#x27;],\n",
       "      dtype=&#x27;object&#x27;))])),\n",
       "                (&#x27;classifier&#x27;, GradientBoostingRegressor(random_state=42))])</pre><b>In a Jupyter environment, please rerun this cell to show the HTML representation or trust the notebook. <br />On GitHub, the HTML representation is unable to render, please try loading this page with nbviewer.org.</b></div><div class=\"sk-container\" hidden><div class=\"sk-item sk-dashed-wrapped\"><div class=\"sk-label-container\"><div class=\"sk-label sk-toggleable\"><input class=\"sk-toggleable__control sk-hidden--visually\" id=\"sk-estimator-id-1\" type=\"checkbox\" ><label for=\"sk-estimator-id-1\" class=\"sk-toggleable__label sk-toggleable__label-arrow\">Pipeline</label><div class=\"sk-toggleable__content\"><pre>Pipeline(steps=[(&#x27;preprocessor&#x27;,\n",
       "                 ColumnTransformer(transformers=[(&#x27;num&#x27;,\n",
       "                                                  Pipeline(steps=[(&#x27;imputer&#x27;,\n",
       "                                                                   SimpleImputer()),\n",
       "                                                                  (&#x27;scaler&#x27;,\n",
       "                                                                   StandardScaler())]),\n",
       "                                                  Index([&#x27;hla_match_c_high&#x27;, &#x27;hla_high_res_8&#x27;, &#x27;hla_low_res_6&#x27;, &#x27;hla_high_res_6&#x27;,\n",
       "       &#x27;hla_high_res_10&#x27;, &#x27;hla_match_dqb1_high&#x27;, &#x27;hla_nmdp_6&#x27;,\n",
       "       &#x27;hla_match_c_low&#x27;, &#x27;hla_match_drb1_low&#x27;, &#x27;hla_match_dqb1_low&#x27;,\n",
       "       &#x27;year_hct&#x27;, &#x27;hla_...\n",
       "       &#x27;cyto_score_detail&#x27;, &#x27;conditioning_intensity&#x27;, &#x27;ethnicity&#x27;, &#x27;obesity&#x27;,\n",
       "       &#x27;mrd_hct&#x27;, &#x27;in_vivo_tcd&#x27;, &#x27;tce_match&#x27;, &#x27;hepatic_severe&#x27;, &#x27;prior_tumor&#x27;,\n",
       "       &#x27;peptic_ulcer&#x27;, &#x27;gvhd_proph&#x27;, &#x27;rheum_issue&#x27;, &#x27;sex_match&#x27;, &#x27;race_group&#x27;,\n",
       "       &#x27;hepatic_mild&#x27;, &#x27;tce_div_match&#x27;, &#x27;donor_related&#x27;, &#x27;melphalan_dose&#x27;,\n",
       "       &#x27;cardiac&#x27;, &#x27;pulm_moderate&#x27;],\n",
       "      dtype=&#x27;object&#x27;))])),\n",
       "                (&#x27;classifier&#x27;, GradientBoostingRegressor(random_state=42))])</pre></div></div></div><div class=\"sk-serial\"><div class=\"sk-item sk-dashed-wrapped\"><div class=\"sk-label-container\"><div class=\"sk-label sk-toggleable\"><input class=\"sk-toggleable__control sk-hidden--visually\" id=\"sk-estimator-id-2\" type=\"checkbox\" ><label for=\"sk-estimator-id-2\" class=\"sk-toggleable__label sk-toggleable__label-arrow\">preprocessor: ColumnTransformer</label><div class=\"sk-toggleable__content\"><pre>ColumnTransformer(transformers=[(&#x27;num&#x27;,\n",
       "                                 Pipeline(steps=[(&#x27;imputer&#x27;, SimpleImputer()),\n",
       "                                                 (&#x27;scaler&#x27;, StandardScaler())]),\n",
       "                                 Index([&#x27;hla_match_c_high&#x27;, &#x27;hla_high_res_8&#x27;, &#x27;hla_low_res_6&#x27;, &#x27;hla_high_res_6&#x27;,\n",
       "       &#x27;hla_high_res_10&#x27;, &#x27;hla_match_dqb1_high&#x27;, &#x27;hla_nmdp_6&#x27;,\n",
       "       &#x27;hla_match_c_low&#x27;, &#x27;hla_match_drb1_low&#x27;, &#x27;hla_match_dqb1_low&#x27;,\n",
       "       &#x27;year_hct&#x27;, &#x27;hla_match_a_high&#x27;, &#x27;donor_age&#x27;, &#x27;hla_m...\n",
       "       &#x27;prim_disease_hct&#x27;, &#x27;cmv_status&#x27;, &#x27;tce_imm_match&#x27;, &#x27;prod_type&#x27;,\n",
       "       &#x27;cyto_score_detail&#x27;, &#x27;conditioning_intensity&#x27;, &#x27;ethnicity&#x27;, &#x27;obesity&#x27;,\n",
       "       &#x27;mrd_hct&#x27;, &#x27;in_vivo_tcd&#x27;, &#x27;tce_match&#x27;, &#x27;hepatic_severe&#x27;, &#x27;prior_tumor&#x27;,\n",
       "       &#x27;peptic_ulcer&#x27;, &#x27;gvhd_proph&#x27;, &#x27;rheum_issue&#x27;, &#x27;sex_match&#x27;, &#x27;race_group&#x27;,\n",
       "       &#x27;hepatic_mild&#x27;, &#x27;tce_div_match&#x27;, &#x27;donor_related&#x27;, &#x27;melphalan_dose&#x27;,\n",
       "       &#x27;cardiac&#x27;, &#x27;pulm_moderate&#x27;],\n",
       "      dtype=&#x27;object&#x27;))])</pre></div></div></div><div class=\"sk-parallel\"><div class=\"sk-parallel-item\"><div class=\"sk-item\"><div class=\"sk-label-container\"><div class=\"sk-label sk-toggleable\"><input class=\"sk-toggleable__control sk-hidden--visually\" id=\"sk-estimator-id-3\" type=\"checkbox\" ><label for=\"sk-estimator-id-3\" class=\"sk-toggleable__label sk-toggleable__label-arrow\">num</label><div class=\"sk-toggleable__content\"><pre>Index([&#x27;hla_match_c_high&#x27;, &#x27;hla_high_res_8&#x27;, &#x27;hla_low_res_6&#x27;, &#x27;hla_high_res_6&#x27;,\n",
       "       &#x27;hla_high_res_10&#x27;, &#x27;hla_match_dqb1_high&#x27;, &#x27;hla_nmdp_6&#x27;,\n",
       "       &#x27;hla_match_c_low&#x27;, &#x27;hla_match_drb1_low&#x27;, &#x27;hla_match_dqb1_low&#x27;,\n",
       "       &#x27;year_hct&#x27;, &#x27;hla_match_a_high&#x27;, &#x27;donor_age&#x27;, &#x27;hla_match_b_low&#x27;,\n",
       "       &#x27;age_at_hct&#x27;, &#x27;hla_match_a_low&#x27;, &#x27;hla_match_b_high&#x27;,\n",
       "       &#x27;comorbidity_score&#x27;, &#x27;karnofsky_score&#x27;, &#x27;hla_low_res_8&#x27;,\n",
       "       &#x27;hla_match_drb1_high&#x27;, &#x27;hla_low_res_10&#x27;],\n",
       "      dtype=&#x27;object&#x27;)</pre></div></div></div><div class=\"sk-serial\"><div class=\"sk-item\"><div class=\"sk-serial\"><div class=\"sk-item\"><div class=\"sk-estimator sk-toggleable\"><input class=\"sk-toggleable__control sk-hidden--visually\" id=\"sk-estimator-id-4\" type=\"checkbox\" ><label for=\"sk-estimator-id-4\" class=\"sk-toggleable__label sk-toggleable__label-arrow\">SimpleImputer</label><div class=\"sk-toggleable__content\"><pre>SimpleImputer()</pre></div></div></div><div class=\"sk-item\"><div class=\"sk-estimator sk-toggleable\"><input class=\"sk-toggleable__control sk-hidden--visually\" id=\"sk-estimator-id-5\" type=\"checkbox\" ><label for=\"sk-estimator-id-5\" class=\"sk-toggleable__label sk-toggleable__label-arrow\">StandardScaler</label><div class=\"sk-toggleable__content\"><pre>StandardScaler()</pre></div></div></div></div></div></div></div></div><div class=\"sk-parallel-item\"><div class=\"sk-item\"><div class=\"sk-label-container\"><div class=\"sk-label sk-toggleable\"><input class=\"sk-toggleable__control sk-hidden--visually\" id=\"sk-estimator-id-6\" type=\"checkbox\" ><label for=\"sk-estimator-id-6\" class=\"sk-toggleable__label sk-toggleable__label-arrow\">cat</label><div class=\"sk-toggleable__content\"><pre>Index([&#x27;dri_score&#x27;, &#x27;psych_disturb&#x27;, &#x27;cyto_score&#x27;, &#x27;diabetes&#x27;, &#x27;tbi_status&#x27;,\n",
       "       &#x27;arrhythmia&#x27;, &#x27;graft_type&#x27;, &#x27;vent_hist&#x27;, &#x27;renal_issue&#x27;, &#x27;pulm_severe&#x27;,\n",
       "       &#x27;prim_disease_hct&#x27;, &#x27;cmv_status&#x27;, &#x27;tce_imm_match&#x27;, &#x27;prod_type&#x27;,\n",
       "       &#x27;cyto_score_detail&#x27;, &#x27;conditioning_intensity&#x27;, &#x27;ethnicity&#x27;, &#x27;obesity&#x27;,\n",
       "       &#x27;mrd_hct&#x27;, &#x27;in_vivo_tcd&#x27;, &#x27;tce_match&#x27;, &#x27;hepatic_severe&#x27;, &#x27;prior_tumor&#x27;,\n",
       "       &#x27;peptic_ulcer&#x27;, &#x27;gvhd_proph&#x27;, &#x27;rheum_issue&#x27;, &#x27;sex_match&#x27;, &#x27;race_group&#x27;,\n",
       "       &#x27;hepatic_mild&#x27;, &#x27;tce_div_match&#x27;, &#x27;donor_related&#x27;, &#x27;melphalan_dose&#x27;,\n",
       "       &#x27;cardiac&#x27;, &#x27;pulm_moderate&#x27;],\n",
       "      dtype=&#x27;object&#x27;)</pre></div></div></div><div class=\"sk-serial\"><div class=\"sk-item\"><div class=\"sk-serial\"><div class=\"sk-item\"><div class=\"sk-estimator sk-toggleable\"><input class=\"sk-toggleable__control sk-hidden--visually\" id=\"sk-estimator-id-7\" type=\"checkbox\" ><label for=\"sk-estimator-id-7\" class=\"sk-toggleable__label sk-toggleable__label-arrow\">SimpleImputer</label><div class=\"sk-toggleable__content\"><pre>SimpleImputer(strategy=&#x27;most_frequent&#x27;)</pre></div></div></div><div class=\"sk-item\"><div class=\"sk-estimator sk-toggleable\"><input class=\"sk-toggleable__control sk-hidden--visually\" id=\"sk-estimator-id-8\" type=\"checkbox\" ><label for=\"sk-estimator-id-8\" class=\"sk-toggleable__label sk-toggleable__label-arrow\">OneHotEncoder</label><div class=\"sk-toggleable__content\"><pre>OneHotEncoder(handle_unknown=&#x27;ignore&#x27;)</pre></div></div></div></div></div></div></div></div></div></div><div class=\"sk-item\"><div class=\"sk-estimator sk-toggleable\"><input class=\"sk-toggleable__control sk-hidden--visually\" id=\"sk-estimator-id-9\" type=\"checkbox\" ><label for=\"sk-estimator-id-9\" class=\"sk-toggleable__label sk-toggleable__label-arrow\">GradientBoostingRegressor</label><div class=\"sk-toggleable__content\"><pre>GradientBoostingRegressor(random_state=42)</pre></div></div></div></div></div></div></div>"
      ],
      "text/plain": [
       "Pipeline(steps=[('preprocessor',\n",
       "                 ColumnTransformer(transformers=[('num',\n",
       "                                                  Pipeline(steps=[('imputer',\n",
       "                                                                   SimpleImputer()),\n",
       "                                                                  ('scaler',\n",
       "                                                                   StandardScaler())]),\n",
       "                                                  Index(['hla_match_c_high', 'hla_high_res_8', 'hla_low_res_6', 'hla_high_res_6',\n",
       "       'hla_high_res_10', 'hla_match_dqb1_high', 'hla_nmdp_6',\n",
       "       'hla_match_c_low', 'hla_match_drb1_low', 'hla_match_dqb1_low',\n",
       "       'year_hct', 'hla_...\n",
       "       'cyto_score_detail', 'conditioning_intensity', 'ethnicity', 'obesity',\n",
       "       'mrd_hct', 'in_vivo_tcd', 'tce_match', 'hepatic_severe', 'prior_tumor',\n",
       "       'peptic_ulcer', 'gvhd_proph', 'rheum_issue', 'sex_match', 'race_group',\n",
       "       'hepatic_mild', 'tce_div_match', 'donor_related', 'melphalan_dose',\n",
       "       'cardiac', 'pulm_moderate'],\n",
       "      dtype='object'))])),\n",
       "                ('classifier', GradientBoostingRegressor(random_state=42))])"
      ]
     },
     "execution_count": 33,
     "metadata": {},
     "output_type": "execute_result"
    }
   ],
   "source": [
    "# Train the model on the full dataset\n",
    "model.fit(X1, target)"
   ]
  },
  {
   "cell_type": "code",
   "execution_count": 34,
   "id": "27ba8c65",
   "metadata": {
    "execution": {
     "iopub.execute_input": "2025-01-11T07:34:02.447941Z",
     "iopub.status.busy": "2025-01-11T07:34:02.447705Z",
     "iopub.status.idle": "2025-01-11T07:34:02.470104Z",
     "shell.execute_reply": "2025-01-11T07:34:02.469235Z"
    },
    "papermill": {
     "duration": 0.034699,
     "end_time": "2025-01-11T07:34:02.471327",
     "exception": false,
     "start_time": "2025-01-11T07:34:02.436628",
     "status": "completed"
    },
    "tags": []
   },
   "outputs": [
    {
     "name": "stdout",
     "output_type": "stream",
     "text": [
      "Predictions saved to submission.csv\n"
     ]
    }
   ],
   "source": [
    "# Load the test data\n",
    "test_data = pd.read_csv('/kaggle/input/equity-post-HCT-survival-predictions/test.csv')\n",
    "\n",
    "# Predict probabilities for the test dataset\n",
    "prediction = model.predict(test_data.drop(columns=['ID', 'rituximab'], errors='ignore'))\n",
    "\n",
    "# Add predictions to the test dataset\n",
    "test_data['prediction'] = prediction\n",
    "\n",
    "# Save predictions to a new CSV file\n",
    "output_file_path = 'submission.csv'\n",
    "test_data[['ID', 'prediction']].to_csv(output_file_path, index=False)\n",
    "\n",
    "print(f\"Predictions saved to {output_file_path}\")"
   ]
  },
  {
   "cell_type": "code",
   "execution_count": null,
   "id": "62499e2e",
   "metadata": {
    "papermill": {
     "duration": 0.010153,
     "end_time": "2025-01-11T07:34:02.492090",
     "exception": false,
     "start_time": "2025-01-11T07:34:02.481937",
     "status": "completed"
    },
    "tags": []
   },
   "outputs": [],
   "source": []
  }
 ],
 "metadata": {
  "kaggle": {
   "accelerator": "nvidiaTeslaT4",
   "dataSources": [
    {
     "databundleVersionId": 10381525,
     "sourceId": 70942,
     "sourceType": "competition"
    }
   ],
   "dockerImageVersionId": 30822,
   "isGpuEnabled": true,
   "isInternetEnabled": true,
   "language": "python",
   "sourceType": "notebook"
  },
  "kernelspec": {
   "display_name": "Python 3",
   "language": "python",
   "name": "python3"
  },
  "language_info": {
   "codemirror_mode": {
    "name": "ipython",
    "version": 3
   },
   "file_extension": ".py",
   "mimetype": "text/x-python",
   "name": "python",
   "nbconvert_exporter": "python",
   "pygments_lexer": "ipython3",
   "version": "3.10.12"
  },
  "papermill": {
   "default_parameters": {},
   "duration": 73.589912,
   "end_time": "2025-01-11T07:34:03.622220",
   "environment_variables": {},
   "exception": null,
   "input_path": "__notebook__.ipynb",
   "output_path": "__notebook__.ipynb",
   "parameters": {},
   "start_time": "2025-01-11T07:32:50.032308",
   "version": "2.6.0"
  }
 },
 "nbformat": 4,
 "nbformat_minor": 5
}
